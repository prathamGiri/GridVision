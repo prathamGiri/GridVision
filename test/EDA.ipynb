{
 "cells": [
  {
   "cell_type": "code",
   "execution_count": 13,
   "id": "49343fa5",
   "metadata": {},
   "outputs": [],
   "source": [
    "import pandas as pd \n",
    "import numpy as np\n",
    "import matplotlib.pyplot as plt \n",
    "import plotly.express as px\n",
    "import plotly.graph_objects as go"
   ]
  },
  {
   "cell_type": "code",
   "execution_count": 21,
   "id": "50c3c283",
   "metadata": {},
   "outputs": [
    {
     "data": {
      "text/html": [
       "<div>\n",
       "<style scoped>\n",
       "    .dataframe tbody tr th:only-of-type {\n",
       "        vertical-align: middle;\n",
       "    }\n",
       "\n",
       "    .dataframe tbody tr th {\n",
       "        vertical-align: top;\n",
       "    }\n",
       "\n",
       "    .dataframe thead th {\n",
       "        text-align: right;\n",
       "    }\n",
       "</style>\n",
       "<table border=\"1\" class=\"dataframe\">\n",
       "  <thead>\n",
       "    <tr style=\"text-align: right;\">\n",
       "      <th></th>\n",
       "      <th>Station</th>\n",
       "      <th>Operational Capacity(MW)</th>\n",
       "      <th>Latitude</th>\n",
       "      <th>Longitude</th>\n",
       "      <th>Month</th>\n",
       "      <th>Day</th>\n",
       "      <th>Temperature</th>\n",
       "      <th>Cloud Type</th>\n",
       "      <th>Relative Humidity</th>\n",
       "      <th>Aerosol Optical Depth</th>\n",
       "      <th>Clearsky DHI</th>\n",
       "      <th>Clearsky DNI</th>\n",
       "      <th>Clearsky GHI</th>\n",
       "      <th>DHI</th>\n",
       "      <th>DNI</th>\n",
       "      <th>GHI</th>\n",
       "      <th>Actual Generation(Mu)</th>\n",
       "    </tr>\n",
       "  </thead>\n",
       "  <tbody>\n",
       "    <tr>\n",
       "      <th>0</th>\n",
       "      <td>ACME(Ramnagar)</td>\n",
       "      <td>250</td>\n",
       "      <td>24.48</td>\n",
       "      <td>81.58</td>\n",
       "      <td>1</td>\n",
       "      <td>1</td>\n",
       "      <td>10.275000</td>\n",
       "      <td>6</td>\n",
       "      <td>94.160417</td>\n",
       "      <td>1.073292</td>\n",
       "      <td>253.3</td>\n",
       "      <td>216.6</td>\n",
       "      <td>371.1</td>\n",
       "      <td>163.8</td>\n",
       "      <td>184.833333</td>\n",
       "      <td>228.9</td>\n",
       "      <td>0.64</td>\n",
       "    </tr>\n",
       "    <tr>\n",
       "      <th>1</th>\n",
       "      <td>ACME(Ramnagar)</td>\n",
       "      <td>250</td>\n",
       "      <td>24.48</td>\n",
       "      <td>81.58</td>\n",
       "      <td>1</td>\n",
       "      <td>2</td>\n",
       "      <td>14.341667</td>\n",
       "      <td>5</td>\n",
       "      <td>89.097917</td>\n",
       "      <td>0.522046</td>\n",
       "      <td>170.0</td>\n",
       "      <td>443.8</td>\n",
       "      <td>409.5</td>\n",
       "      <td>178.1</td>\n",
       "      <td>203.333333</td>\n",
       "      <td>271.2</td>\n",
       "      <td>0.43</td>\n",
       "    </tr>\n",
       "    <tr>\n",
       "      <th>2</th>\n",
       "      <td>ACME(Ramnagar)</td>\n",
       "      <td>250</td>\n",
       "      <td>24.48</td>\n",
       "      <td>81.58</td>\n",
       "      <td>1</td>\n",
       "      <td>3</td>\n",
       "      <td>13.833333</td>\n",
       "      <td>1</td>\n",
       "      <td>91.660417</td>\n",
       "      <td>0.558946</td>\n",
       "      <td>196.3</td>\n",
       "      <td>403.9</td>\n",
       "      <td>411.6</td>\n",
       "      <td>196.3</td>\n",
       "      <td>403.900000</td>\n",
       "      <td>411.6</td>\n",
       "      <td>0.93</td>\n",
       "    </tr>\n",
       "    <tr>\n",
       "      <th>3</th>\n",
       "      <td>ACME(Ramnagar)</td>\n",
       "      <td>250</td>\n",
       "      <td>24.48</td>\n",
       "      <td>81.58</td>\n",
       "      <td>1</td>\n",
       "      <td>4</td>\n",
       "      <td>13.387500</td>\n",
       "      <td>1</td>\n",
       "      <td>85.069167</td>\n",
       "      <td>0.448792</td>\n",
       "      <td>196.2</td>\n",
       "      <td>429.7</td>\n",
       "      <td>421.4</td>\n",
       "      <td>201.7</td>\n",
       "      <td>337.500000</td>\n",
       "      <td>370.1</td>\n",
       "      <td>0.87</td>\n",
       "    </tr>\n",
       "    <tr>\n",
       "      <th>4</th>\n",
       "      <td>ACME(Ramnagar)</td>\n",
       "      <td>250</td>\n",
       "      <td>24.48</td>\n",
       "      <td>81.58</td>\n",
       "      <td>1</td>\n",
       "      <td>5</td>\n",
       "      <td>13.295833</td>\n",
       "      <td>1</td>\n",
       "      <td>76.883750</td>\n",
       "      <td>0.420958</td>\n",
       "      <td>156.3</td>\n",
       "      <td>541.5</td>\n",
       "      <td>440.2</td>\n",
       "      <td>160.8</td>\n",
       "      <td>498.100000</td>\n",
       "      <td>423.6</td>\n",
       "      <td>1.27</td>\n",
       "    </tr>\n",
       "  </tbody>\n",
       "</table>\n",
       "</div>"
      ],
      "text/plain": [
       "          Station  Operational Capacity(MW)  Latitude  Longitude  Month  Day  \\\n",
       "0  ACME(Ramnagar)                       250     24.48      81.58      1    1   \n",
       "1  ACME(Ramnagar)                       250     24.48      81.58      1    2   \n",
       "2  ACME(Ramnagar)                       250     24.48      81.58      1    3   \n",
       "3  ACME(Ramnagar)                       250     24.48      81.58      1    4   \n",
       "4  ACME(Ramnagar)                       250     24.48      81.58      1    5   \n",
       "\n",
       "   Temperature  Cloud Type  Relative Humidity  Aerosol Optical Depth  \\\n",
       "0    10.275000           6          94.160417               1.073292   \n",
       "1    14.341667           5          89.097917               0.522046   \n",
       "2    13.833333           1          91.660417               0.558946   \n",
       "3    13.387500           1          85.069167               0.448792   \n",
       "4    13.295833           1          76.883750               0.420958   \n",
       "\n",
       "   Clearsky DHI  Clearsky DNI  Clearsky GHI    DHI         DNI    GHI  \\\n",
       "0         253.3         216.6         371.1  163.8  184.833333  228.9   \n",
       "1         170.0         443.8         409.5  178.1  203.333333  271.2   \n",
       "2         196.3         403.9         411.6  196.3  403.900000  411.6   \n",
       "3         196.2         429.7         421.4  201.7  337.500000  370.1   \n",
       "4         156.3         541.5         440.2  160.8  498.100000  423.6   \n",
       "\n",
       "   Actual Generation(Mu)  \n",
       "0                   0.64  \n",
       "1                   0.43  \n",
       "2                   0.93  \n",
       "3                   0.87  \n",
       "4                   1.27  "
      ]
     },
     "execution_count": 21,
     "metadata": {},
     "output_type": "execute_result"
    }
   ],
   "source": [
    "df = pd.read_csv(\"Complete Data/ACME(Ramnagar) 250MW Complete Data with Metadata.csv\")\n",
    "df.head()"
   ]
  },
  {
   "cell_type": "code",
   "execution_count": 18,
   "id": "4780bb0d",
   "metadata": {},
   "outputs": [
    {
     "data": {
      "application/vnd.plotly.v1+json": {
       "config": {
        "plotlyServerURL": "https://plot.ly"
       },
       "data": [
        {
         "hovertemplate": "Month=1.0<br>index=%{x}<br>Temperature=%{y}<extra></extra>",
         "legendgroup": "1.0",
         "line": {
          "color": "#636efa",
          "dash": "solid"
         },
         "marker": {
          "symbol": "circle"
         },
         "mode": "lines",
         "name": "1.0",
         "orientation": "v",
         "showlegend": true,
         "type": "scatter",
         "x": {
          "bdata": "AAECAwQFBgcICQoLDA0ODxAREhMUFRYXGBkaGxwdHg==",
          "dtype": "i1"
         },
         "xaxis": "x",
         "y": [
          "10.275",
          "14.34166667",
          "13.83333333",
          "13.3875",
          "13.29583333",
          "13.675",
          "14.27916667",
          "16.59583333",
          "11.62916667",
          "9.520833333",
          "9.716666667",
          "12.275",
          "14.44166667",
          "15.95833333",
          "16.125",
          "17.77083333",
          "14.45833333",
          "14.27083333",
          "12.08333333",
          "11.74166667",
          "13.29166667",
          "14.49166667",
          "12.2625",
          "12.65",
          "13.175",
          "13.82083333",
          "16.50416667",
          "17.1625",
          "15.3875",
          "12.475",
          "12.52916667"
         ],
         "yaxis": "y"
        },
        {
         "hovertemplate": "Month=2.0<br>index=%{x}<br>Temperature=%{y}<extra></extra>",
         "legendgroup": "2.0",
         "line": {
          "color": "#EF553B",
          "dash": "solid"
         },
         "marker": {
          "symbol": "circle"
         },
         "mode": "lines",
         "name": "2.0",
         "orientation": "v",
         "showlegend": true,
         "type": "scatter",
         "x": {
          "bdata": "HyAhIiMkJSYnKCkqKywtLi8wMTIzNDU2Nzg5",
          "dtype": "i1"
         },
         "xaxis": "x",
         "y": [
          "13.54166667",
          "12.8875",
          "13.00416667",
          "15.3625",
          "14.95416667",
          "16.00833333",
          "14.45416667",
          "13.29583333",
          "13.42083333",
          "13.09583333",
          "14.17916667",
          "15",
          "17.1625",
          "17.4875",
          "17.81666667",
          "17.67083333",
          "17.45",
          "17.99166667",
          "20.13333333",
          "22.41666667",
          "19.85833333",
          "19.95833333",
          "19.425",
          "18.59166667",
          "17.8625",
          "18.42916667",
          "19.23333333"
         ],
         "yaxis": "y"
        },
        {
         "hovertemplate": "Month=3.0<br>index=%{x}<br>Temperature=%{y}<extra></extra>",
         "legendgroup": "3.0",
         "line": {
          "color": "#00cc96",
          "dash": "solid"
         },
         "marker": {
          "symbol": "circle"
         },
         "mode": "lines",
         "name": "3.0",
         "orientation": "v",
         "showlegend": true,
         "type": "scatter",
         "x": {
          "bdata": "Ojs8PT4/QEFCQ0RFRkdISUpLTE0=",
          "dtype": "i1"
         },
         "xaxis": "x",
         "y": [
          "23.15",
          "22.75416667",
          "22.19583333",
          "22.31666667",
          "22.6625",
          "22.9625",
          "21.25833333",
          "19.95833333",
          "21.2125",
          "20.4875",
          "22.175",
          "24.4875",
          "22.91666667",
          "21.62083333",
          "20.90833333",
          "21.05",
          "22.025",
          "24.11666667",
          "23.825",
          "25.825"
         ],
         "yaxis": "y"
        },
        {
         "hovertemplate": "Month=4.0<br>index=%{x}<br>Temperature=%{y}<extra></extra>",
         "legendgroup": "4.0",
         "line": {
          "color": "#ab63fa",
          "dash": "solid"
         },
         "marker": {
          "symbol": "circle"
         },
         "mode": "lines",
         "name": "4.0",
         "orientation": "v",
         "showlegend": true,
         "type": "scatter",
         "x": {
          "bdata": "Tk9QUVJTVFVWV1hZWltcXV5fYGFiY2RlZmdoaWo=",
          "dtype": "i1"
         },
         "xaxis": "x",
         "y": [
          "28.84166667",
          "27.00833333",
          "26.26666667",
          "27.13333333",
          "28.29166667",
          "30.04166667",
          "29.8875",
          "29.92916667",
          "29.975",
          "30.75833333",
          "31.45416667",
          "32.1",
          "32.99166667",
          "33.95833333",
          "33.37916667",
          "33.75",
          "33.58333333",
          "34.04583333",
          "32.8125",
          "32.39583333",
          "30.79583333",
          "30.87083333",
          "30.29583333",
          "31.40416667",
          "29.9125",
          "28.61666667",
          "28.2",
          "28.25",
          "28.2875"
         ],
         "yaxis": "y"
        },
        {
         "hovertemplate": "Month=5.0<br>index=%{x}<br>Temperature=%{y}<extra></extra>",
         "legendgroup": "5.0",
         "line": {
          "color": "#FFA15A",
          "dash": "solid"
         },
         "marker": {
          "symbol": "circle"
         },
         "mode": "lines",
         "name": "5.0",
         "orientation": "v",
         "showlegend": true,
         "type": "scatter",
         "x": {
          "bdata": "awBsAG0AbgBvAHAAcQByAHMAdAB1AHYAdwB4AHkAegB7AHwAfQB+AH8AgACBAIIAgwCEAIUAhgCHAIgAiQA=",
          "dtype": "i2"
         },
         "xaxis": "x",
         "y": [
          "30.89166667",
          "31.19583333",
          "32.20833333",
          "31.33333333",
          "30.14166667",
          "31.05416667",
          "29.9375",
          "32.53333333",
          "33.1",
          "33.525",
          "30.925",
          "31.89166667",
          "32.1375",
          "32.8375",
          "35.1875",
          "34.13333333",
          "34.18333333",
          "32.70416667",
          "33.1875",
          "33.24166667",
          "33.525",
          "36.3625",
          "37.8375",
          "38.00416667",
          "38.15416667",
          "38.42083333",
          "38.3625",
          "37",
          "32.92916667",
          "33.8875",
          "32.775"
         ],
         "yaxis": "y"
        },
        {
         "hovertemplate": "Month=6.0<br>index=%{x}<br>Temperature=%{y}<extra></extra>",
         "legendgroup": "6.0",
         "line": {
          "color": "#19d3f3",
          "dash": "solid"
         },
         "marker": {
          "symbol": "circle"
         },
         "mode": "lines",
         "name": "6.0",
         "orientation": "v",
         "showlegend": true,
         "type": "scatter",
         "x": {
          "bdata": "igCLAIwAjQCOAI8AkACRAJIAkwCUAJUAlgCXAJgAmQCaAJsAnACdAJ4AnwCgAKEAogCjAKQApQCmAKcA",
          "dtype": "i2"
         },
         "xaxis": "x",
         "y": [
          "31.6625",
          "29.29166667",
          "29.375",
          "25.98333333",
          "25.425",
          "28.60416667",
          "29.79583333",
          "31",
          "32.45416667",
          "33.16666667",
          "33.37916667",
          "32.70416667",
          "31.45",
          "29.79583333",
          "29.48333333",
          "30.525",
          "30.725",
          "30.25416667",
          "29.64583333",
          "30.2",
          "27.99166667",
          "27.59583333",
          "28.8625",
          "29.8",
          "27.80416667",
          "28.23333333",
          "26.2",
          "27.89166667",
          "28.95",
          "28.22083333"
         ],
         "yaxis": "y"
        },
        {
         "hovertemplate": "Month=7.0<br>index=%{x}<br>Temperature=%{y}<extra></extra>",
         "legendgroup": "7.0",
         "line": {
          "color": "#FF6692",
          "dash": "solid"
         },
         "marker": {
          "symbol": "circle"
         },
         "mode": "lines",
         "name": "7.0",
         "orientation": "v",
         "showlegend": true,
         "type": "scatter",
         "x": {
          "bdata": "qACpAKoAqwCsAK0ArgCvALAAsQCyALMAtAC1ALYAtwC4ALkAugC7ALwAvQC+AL8AwADBAMIAwwDEAMUAxgA=",
          "dtype": "i2"
         },
         "xaxis": "x",
         "y": [
          "29.56666667",
          "30.1",
          "29.90416667",
          "29.2875",
          "27.725",
          "26.82083333",
          "27.29166667",
          "29.1625",
          "28.475",
          "26.31666667",
          "27.65416667",
          "28.8",
          "28.44583333",
          "28.0625",
          "27.925",
          "28.89166667",
          "29.4",
          "29.02083333",
          "27.50833333",
          "27.25833333",
          "27.14583333",
          "27.99583333",
          "27.79166667",
          "27.86666667",
          "28.48333333",
          "28.64166667",
          "28.55833333",
          "26.9375",
          "27.5",
          "28.02916667",
          "27.92916667"
         ],
         "yaxis": "y"
        },
        {
         "hovertemplate": "Month=8.0<br>index=%{x}<br>Temperature=%{y}<extra></extra>",
         "legendgroup": "8.0",
         "line": {
          "color": "#B6E880",
          "dash": "solid"
         },
         "marker": {
          "symbol": "circle"
         },
         "mode": "lines",
         "name": "8.0",
         "orientation": "v",
         "showlegend": true,
         "type": "scatter",
         "x": {
          "bdata": "xwDIAMkAygDLAMwAzQDOAM8A0ADRANIA0wDUANUA1gDXANgA2QDaANsA3ADdAN4A3wDgAOEA4gDjAOQA5QA=",
          "dtype": "i2"
         },
         "xaxis": "x",
         "y": [
          "28.77083333",
          "28.70416667",
          "27.71666667",
          "27.79166667",
          "27.5375",
          "27.33333333",
          "28.125",
          "28.24583333",
          "28.0625",
          "28.625",
          "28.275",
          "27.625",
          "28.21666667",
          "28.29583333",
          "26.1375",
          "27.93333333",
          "28.9875",
          "28.60833333",
          "28.03333333",
          "27.45416667",
          "27.16666667",
          "26.9125",
          "26.82083333",
          "26.84583333",
          "27.60833333",
          "26.5",
          "26.57083333",
          "26.8875",
          "26.975",
          "26.775",
          "27.18333333"
         ],
         "yaxis": "y"
        },
        {
         "hovertemplate": "Month=9.0<br>index=%{x}<br>Temperature=%{y}<extra></extra>",
         "legendgroup": "9.0",
         "line": {
          "color": "#FF97FF",
          "dash": "solid"
         },
         "marker": {
          "symbol": "circle"
         },
         "mode": "lines",
         "name": "9.0",
         "orientation": "v",
         "showlegend": true,
         "type": "scatter",
         "x": {
          "bdata": "5gDnAOgA6QDqAOsA7ADtAO4A7wDwAPEA8gDzAPQA9QD2APcA+AD5APoA+wD8AP0A/gD/AAABAQECAQMB",
          "dtype": "i2"
         },
         "xaxis": "x",
         "y": [
          "26.54166667",
          "26.00833333",
          "27.175",
          "27.20833333",
          "27.48333333",
          "27.55416667",
          "26.97916667",
          "27.2375",
          "28.08333333",
          "27.5",
          "25.35416667",
          "27.5375",
          "28.05833333",
          "27.30416667",
          "27.8",
          "27.82916667",
          "28.83333333",
          "28.225",
          "27.44166667",
          "26.69583333",
          "26.60833333",
          "26.47916667",
          "27.02916667",
          "26.8375",
          "26.00833333",
          "27.1125",
          "26.63333333",
          "26.35416667",
          "26.52916667",
          "25.375"
         ],
         "yaxis": "y"
        },
        {
         "hovertemplate": "Month=10.0<br>index=%{x}<br>Temperature=%{y}<extra></extra>",
         "legendgroup": "10.0",
         "line": {
          "color": "#FECB52",
          "dash": "solid"
         },
         "marker": {
          "symbol": "circle"
         },
         "mode": "lines",
         "name": "10.0",
         "orientation": "v",
         "showlegend": true,
         "type": "scatter",
         "x": {
          "bdata": "BAEFAQYBBwEIAQkBCgELAQwBDQEOAQ8BEAERARIBEwEUARUBFgEXARgBGQEaARsBHAEdAR4BHwEgASEBIgE=",
          "dtype": "i2"
         },
         "xaxis": "x",
         "y": [
          "24.65833333",
          "25.45416667",
          "25.25416667",
          "25.38333333",
          "26.63333333",
          "26.6125",
          "25.8625",
          "25.34583333",
          "25.77916667",
          "26.29583333",
          "26.85833333",
          "26.55416667",
          "27.18333333",
          "26.6625",
          "26.6",
          "26.79583333",
          "27.12083333",
          "26.7",
          "26.7",
          "25.97083333",
          "25.2",
          "24.925",
          "24.57083333",
          "24.9125",
          "24.0625",
          "23.74166667",
          "24.00833333",
          "23.66666667",
          "22.70833333",
          "22.03333333",
          "21.9125"
         ],
         "yaxis": "y"
        },
        {
         "hovertemplate": "Month=11.0<br>index=%{x}<br>Temperature=%{y}<extra></extra>",
         "legendgroup": "11.0",
         "line": {
          "color": "#636efa",
          "dash": "solid"
         },
         "marker": {
          "symbol": "circle"
         },
         "mode": "lines",
         "name": "11.0",
         "orientation": "v",
         "showlegend": true,
         "type": "scatter",
         "x": {
          "bdata": "IwEkASUBJgEnASgBKQEqASsBLAEtAS4BLwEwATEBMgEzATQBNQE2ATcBOAE5AToBOwE8AT0BPgE/AUAB",
          "dtype": "i2"
         },
         "xaxis": "x",
         "y": [
          "20.32916667",
          "20.225",
          "20.14166667",
          "19.475",
          "20.5375",
          "20.3625",
          "20.19583333",
          "19.7",
          "19.84166667",
          "19.3125",
          "21.0625",
          "22.40833333",
          "22.77916667",
          "22.85",
          "23.2125",
          "22.91666667",
          "22.3625",
          "23.14583333",
          "22.45833333",
          "19.625",
          "16.62083333",
          "17.04166667",
          "17.27916667",
          "18.05",
          "18.51666667",
          "19.9875",
          "18.52916667",
          "19.3",
          "19.3",
          "18.84166667"
         ],
         "yaxis": "y"
        },
        {
         "hovertemplate": "Month=12.0<br>index=%{x}<br>Temperature=%{y}<extra></extra>",
         "legendgroup": "12.0",
         "line": {
          "color": "#EF553B",
          "dash": "solid"
         },
         "marker": {
          "symbol": "circle"
         },
         "mode": "lines",
         "name": "12.0",
         "orientation": "v",
         "showlegend": true,
         "type": "scatter",
         "x": {
          "bdata": "QQFCAUMBRAFFAUYBRwFIAUkBSgFLAUwBTQFOAU8BUAFRAVIBUwFUAVUBVgFXAVgBWQFaAVsBXAFdAV4B",
          "dtype": "i2"
         },
         "xaxis": "x",
         "y": [
          "18.74166667",
          "17.89166667",
          "19.2125",
          "19.325",
          "19.72083333",
          "21.09166667",
          "20.5875",
          "20.18333333",
          "20.57083333",
          "20.425",
          "20.06666667",
          "19.96666667",
          "18.1",
          "18.01666667",
          "16.425",
          "15.42916667",
          "14.37916667",
          "13.15833333",
          "13.74583333",
          "13.43333333",
          "14.50833333",
          "15.6625",
          "17.15",
          "16.01666667",
          "15.70416667",
          "16.02083333",
          "16.65",
          "16.14166667",
          "13.91666667",
          "13.4125"
         ],
         "yaxis": "y"
        }
       ],
       "layout": {
        "legend": {
         "title": {
          "text": "Month"
         },
         "tracegroupgap": 0
        },
        "template": {
         "data": {
          "bar": [
           {
            "error_x": {
             "color": "#2a3f5f"
            },
            "error_y": {
             "color": "#2a3f5f"
            },
            "marker": {
             "line": {
              "color": "#E5ECF6",
              "width": 0.5
             },
             "pattern": {
              "fillmode": "overlay",
              "size": 10,
              "solidity": 0.2
             }
            },
            "type": "bar"
           }
          ],
          "barpolar": [
           {
            "marker": {
             "line": {
              "color": "#E5ECF6",
              "width": 0.5
             },
             "pattern": {
              "fillmode": "overlay",
              "size": 10,
              "solidity": 0.2
             }
            },
            "type": "barpolar"
           }
          ],
          "carpet": [
           {
            "aaxis": {
             "endlinecolor": "#2a3f5f",
             "gridcolor": "white",
             "linecolor": "white",
             "minorgridcolor": "white",
             "startlinecolor": "#2a3f5f"
            },
            "baxis": {
             "endlinecolor": "#2a3f5f",
             "gridcolor": "white",
             "linecolor": "white",
             "minorgridcolor": "white",
             "startlinecolor": "#2a3f5f"
            },
            "type": "carpet"
           }
          ],
          "choropleth": [
           {
            "colorbar": {
             "outlinewidth": 0,
             "ticks": ""
            },
            "type": "choropleth"
           }
          ],
          "contour": [
           {
            "colorbar": {
             "outlinewidth": 0,
             "ticks": ""
            },
            "colorscale": [
             [
              0,
              "#0d0887"
             ],
             [
              0.1111111111111111,
              "#46039f"
             ],
             [
              0.2222222222222222,
              "#7201a8"
             ],
             [
              0.3333333333333333,
              "#9c179e"
             ],
             [
              0.4444444444444444,
              "#bd3786"
             ],
             [
              0.5555555555555556,
              "#d8576b"
             ],
             [
              0.6666666666666666,
              "#ed7953"
             ],
             [
              0.7777777777777778,
              "#fb9f3a"
             ],
             [
              0.8888888888888888,
              "#fdca26"
             ],
             [
              1,
              "#f0f921"
             ]
            ],
            "type": "contour"
           }
          ],
          "contourcarpet": [
           {
            "colorbar": {
             "outlinewidth": 0,
             "ticks": ""
            },
            "type": "contourcarpet"
           }
          ],
          "heatmap": [
           {
            "colorbar": {
             "outlinewidth": 0,
             "ticks": ""
            },
            "colorscale": [
             [
              0,
              "#0d0887"
             ],
             [
              0.1111111111111111,
              "#46039f"
             ],
             [
              0.2222222222222222,
              "#7201a8"
             ],
             [
              0.3333333333333333,
              "#9c179e"
             ],
             [
              0.4444444444444444,
              "#bd3786"
             ],
             [
              0.5555555555555556,
              "#d8576b"
             ],
             [
              0.6666666666666666,
              "#ed7953"
             ],
             [
              0.7777777777777778,
              "#fb9f3a"
             ],
             [
              0.8888888888888888,
              "#fdca26"
             ],
             [
              1,
              "#f0f921"
             ]
            ],
            "type": "heatmap"
           }
          ],
          "histogram": [
           {
            "marker": {
             "pattern": {
              "fillmode": "overlay",
              "size": 10,
              "solidity": 0.2
             }
            },
            "type": "histogram"
           }
          ],
          "histogram2d": [
           {
            "colorbar": {
             "outlinewidth": 0,
             "ticks": ""
            },
            "colorscale": [
             [
              0,
              "#0d0887"
             ],
             [
              0.1111111111111111,
              "#46039f"
             ],
             [
              0.2222222222222222,
              "#7201a8"
             ],
             [
              0.3333333333333333,
              "#9c179e"
             ],
             [
              0.4444444444444444,
              "#bd3786"
             ],
             [
              0.5555555555555556,
              "#d8576b"
             ],
             [
              0.6666666666666666,
              "#ed7953"
             ],
             [
              0.7777777777777778,
              "#fb9f3a"
             ],
             [
              0.8888888888888888,
              "#fdca26"
             ],
             [
              1,
              "#f0f921"
             ]
            ],
            "type": "histogram2d"
           }
          ],
          "histogram2dcontour": [
           {
            "colorbar": {
             "outlinewidth": 0,
             "ticks": ""
            },
            "colorscale": [
             [
              0,
              "#0d0887"
             ],
             [
              0.1111111111111111,
              "#46039f"
             ],
             [
              0.2222222222222222,
              "#7201a8"
             ],
             [
              0.3333333333333333,
              "#9c179e"
             ],
             [
              0.4444444444444444,
              "#bd3786"
             ],
             [
              0.5555555555555556,
              "#d8576b"
             ],
             [
              0.6666666666666666,
              "#ed7953"
             ],
             [
              0.7777777777777778,
              "#fb9f3a"
             ],
             [
              0.8888888888888888,
              "#fdca26"
             ],
             [
              1,
              "#f0f921"
             ]
            ],
            "type": "histogram2dcontour"
           }
          ],
          "mesh3d": [
           {
            "colorbar": {
             "outlinewidth": 0,
             "ticks": ""
            },
            "type": "mesh3d"
           }
          ],
          "parcoords": [
           {
            "line": {
             "colorbar": {
              "outlinewidth": 0,
              "ticks": ""
             }
            },
            "type": "parcoords"
           }
          ],
          "pie": [
           {
            "automargin": true,
            "type": "pie"
           }
          ],
          "scatter": [
           {
            "fillpattern": {
             "fillmode": "overlay",
             "size": 10,
             "solidity": 0.2
            },
            "type": "scatter"
           }
          ],
          "scatter3d": [
           {
            "line": {
             "colorbar": {
              "outlinewidth": 0,
              "ticks": ""
             }
            },
            "marker": {
             "colorbar": {
              "outlinewidth": 0,
              "ticks": ""
             }
            },
            "type": "scatter3d"
           }
          ],
          "scattercarpet": [
           {
            "marker": {
             "colorbar": {
              "outlinewidth": 0,
              "ticks": ""
             }
            },
            "type": "scattercarpet"
           }
          ],
          "scattergeo": [
           {
            "marker": {
             "colorbar": {
              "outlinewidth": 0,
              "ticks": ""
             }
            },
            "type": "scattergeo"
           }
          ],
          "scattergl": [
           {
            "marker": {
             "colorbar": {
              "outlinewidth": 0,
              "ticks": ""
             }
            },
            "type": "scattergl"
           }
          ],
          "scattermap": [
           {
            "marker": {
             "colorbar": {
              "outlinewidth": 0,
              "ticks": ""
             }
            },
            "type": "scattermap"
           }
          ],
          "scattermapbox": [
           {
            "marker": {
             "colorbar": {
              "outlinewidth": 0,
              "ticks": ""
             }
            },
            "type": "scattermapbox"
           }
          ],
          "scatterpolar": [
           {
            "marker": {
             "colorbar": {
              "outlinewidth": 0,
              "ticks": ""
             }
            },
            "type": "scatterpolar"
           }
          ],
          "scatterpolargl": [
           {
            "marker": {
             "colorbar": {
              "outlinewidth": 0,
              "ticks": ""
             }
            },
            "type": "scatterpolargl"
           }
          ],
          "scatterternary": [
           {
            "marker": {
             "colorbar": {
              "outlinewidth": 0,
              "ticks": ""
             }
            },
            "type": "scatterternary"
           }
          ],
          "surface": [
           {
            "colorbar": {
             "outlinewidth": 0,
             "ticks": ""
            },
            "colorscale": [
             [
              0,
              "#0d0887"
             ],
             [
              0.1111111111111111,
              "#46039f"
             ],
             [
              0.2222222222222222,
              "#7201a8"
             ],
             [
              0.3333333333333333,
              "#9c179e"
             ],
             [
              0.4444444444444444,
              "#bd3786"
             ],
             [
              0.5555555555555556,
              "#d8576b"
             ],
             [
              0.6666666666666666,
              "#ed7953"
             ],
             [
              0.7777777777777778,
              "#fb9f3a"
             ],
             [
              0.8888888888888888,
              "#fdca26"
             ],
             [
              1,
              "#f0f921"
             ]
            ],
            "type": "surface"
           }
          ],
          "table": [
           {
            "cells": {
             "fill": {
              "color": "#EBF0F8"
             },
             "line": {
              "color": "white"
             }
            },
            "header": {
             "fill": {
              "color": "#C8D4E3"
             },
             "line": {
              "color": "white"
             }
            },
            "type": "table"
           }
          ]
         },
         "layout": {
          "annotationdefaults": {
           "arrowcolor": "#2a3f5f",
           "arrowhead": 0,
           "arrowwidth": 1
          },
          "autotypenumbers": "strict",
          "coloraxis": {
           "colorbar": {
            "outlinewidth": 0,
            "ticks": ""
           }
          },
          "colorscale": {
           "diverging": [
            [
             0,
             "#8e0152"
            ],
            [
             0.1,
             "#c51b7d"
            ],
            [
             0.2,
             "#de77ae"
            ],
            [
             0.3,
             "#f1b6da"
            ],
            [
             0.4,
             "#fde0ef"
            ],
            [
             0.5,
             "#f7f7f7"
            ],
            [
             0.6,
             "#e6f5d0"
            ],
            [
             0.7,
             "#b8e186"
            ],
            [
             0.8,
             "#7fbc41"
            ],
            [
             0.9,
             "#4d9221"
            ],
            [
             1,
             "#276419"
            ]
           ],
           "sequential": [
            [
             0,
             "#0d0887"
            ],
            [
             0.1111111111111111,
             "#46039f"
            ],
            [
             0.2222222222222222,
             "#7201a8"
            ],
            [
             0.3333333333333333,
             "#9c179e"
            ],
            [
             0.4444444444444444,
             "#bd3786"
            ],
            [
             0.5555555555555556,
             "#d8576b"
            ],
            [
             0.6666666666666666,
             "#ed7953"
            ],
            [
             0.7777777777777778,
             "#fb9f3a"
            ],
            [
             0.8888888888888888,
             "#fdca26"
            ],
            [
             1,
             "#f0f921"
            ]
           ],
           "sequentialminus": [
            [
             0,
             "#0d0887"
            ],
            [
             0.1111111111111111,
             "#46039f"
            ],
            [
             0.2222222222222222,
             "#7201a8"
            ],
            [
             0.3333333333333333,
             "#9c179e"
            ],
            [
             0.4444444444444444,
             "#bd3786"
            ],
            [
             0.5555555555555556,
             "#d8576b"
            ],
            [
             0.6666666666666666,
             "#ed7953"
            ],
            [
             0.7777777777777778,
             "#fb9f3a"
            ],
            [
             0.8888888888888888,
             "#fdca26"
            ],
            [
             1,
             "#f0f921"
            ]
           ]
          },
          "colorway": [
           "#636efa",
           "#EF553B",
           "#00cc96",
           "#ab63fa",
           "#FFA15A",
           "#19d3f3",
           "#FF6692",
           "#B6E880",
           "#FF97FF",
           "#FECB52"
          ],
          "font": {
           "color": "#2a3f5f"
          },
          "geo": {
           "bgcolor": "white",
           "lakecolor": "white",
           "landcolor": "#E5ECF6",
           "showlakes": true,
           "showland": true,
           "subunitcolor": "white"
          },
          "hoverlabel": {
           "align": "left"
          },
          "hovermode": "closest",
          "mapbox": {
           "style": "light"
          },
          "paper_bgcolor": "white",
          "plot_bgcolor": "#E5ECF6",
          "polar": {
           "angularaxis": {
            "gridcolor": "white",
            "linecolor": "white",
            "ticks": ""
           },
           "bgcolor": "#E5ECF6",
           "radialaxis": {
            "gridcolor": "white",
            "linecolor": "white",
            "ticks": ""
           }
          },
          "scene": {
           "xaxis": {
            "backgroundcolor": "#E5ECF6",
            "gridcolor": "white",
            "gridwidth": 2,
            "linecolor": "white",
            "showbackground": true,
            "ticks": "",
            "zerolinecolor": "white"
           },
           "yaxis": {
            "backgroundcolor": "#E5ECF6",
            "gridcolor": "white",
            "gridwidth": 2,
            "linecolor": "white",
            "showbackground": true,
            "ticks": "",
            "zerolinecolor": "white"
           },
           "zaxis": {
            "backgroundcolor": "#E5ECF6",
            "gridcolor": "white",
            "gridwidth": 2,
            "linecolor": "white",
            "showbackground": true,
            "ticks": "",
            "zerolinecolor": "white"
           }
          },
          "shapedefaults": {
           "line": {
            "color": "#2a3f5f"
           }
          },
          "ternary": {
           "aaxis": {
            "gridcolor": "white",
            "linecolor": "white",
            "ticks": ""
           },
           "baxis": {
            "gridcolor": "white",
            "linecolor": "white",
            "ticks": ""
           },
           "bgcolor": "#E5ECF6",
           "caxis": {
            "gridcolor": "white",
            "linecolor": "white",
            "ticks": ""
           }
          },
          "title": {
           "x": 0.05
          },
          "xaxis": {
           "automargin": true,
           "gridcolor": "white",
           "linecolor": "white",
           "ticks": "",
           "title": {
            "standoff": 15
           },
           "zerolinecolor": "white",
           "zerolinewidth": 2
          },
          "yaxis": {
           "automargin": true,
           "gridcolor": "white",
           "linecolor": "white",
           "ticks": "",
           "title": {
            "standoff": 15
           },
           "zerolinecolor": "white",
           "zerolinewidth": 2
          }
         }
        },
        "title": {
         "text": "Temperature over Months"
        },
        "xaxis": {
         "anchor": "y",
         "domain": [
          0,
          1
         ],
         "title": {
          "text": "index"
         }
        },
        "yaxis": {
         "anchor": "x",
         "domain": [
          0,
          1
         ],
         "title": {
          "text": "Temperature"
         }
        }
       }
      }
     },
     "metadata": {},
     "output_type": "display_data"
    },
    {
     "data": {
      "application/vnd.plotly.v1+json": {
       "config": {
        "plotlyServerURL": "https://plot.ly"
       },
       "data": [
        {
         "hovertemplate": "Month=1.0<br>index=%{x}<br>Relative Humidity=%{y}<extra></extra>",
         "legendgroup": "1.0",
         "line": {
          "color": "#636efa",
          "dash": "solid"
         },
         "marker": {
          "symbol": "circle"
         },
         "mode": "lines",
         "name": "1.0",
         "orientation": "v",
         "showlegend": true,
         "type": "scatter",
         "x": {
          "bdata": "AAECAwQFBgcICQoLDA0ODxAREhMUFRYXGBkaGxwdHg==",
          "dtype": "i1"
         },
         "xaxis": "x",
         "y": {
          "bdata": "h9hHRESKV0CH2EdEREZWQIfYR0RE6lZA42cKOm1EVUDD9ShcjzhTQPYoXI/C51FACeqt5Bc5UkBxPQrXo6RVQLcxj18st1RA7T6uqqqIUkAfhetRuDBRQJOc4UCnEU5A4I0eIiJWUEBcj8L1KHZUQCtJhU4bTlRApHA9CtetU0B5J7i7u19WQGV5cNpAlVRAUMso+cWmU0BUpRQREZFSQOCNHiIiQlJAJ2+ZNtD5U0BvUBRLfvFRQEjhehSu701AakBSfrHwTkCTnOFApwlPQOpkwpJfBFBAeSe4u7uNU0AgcuHd3WFTQLA01wY6U1FAsSHNkl/wT0A=",
          "dtype": "f8"
         },
         "yaxis": "y"
        },
        {
         "hovertemplate": "Month=2.0<br>index=%{x}<br>Relative Humidity=%{y}<extra></extra>",
         "legendgroup": "2.0",
         "line": {
          "color": "#EF553B",
          "dash": "solid"
         },
         "marker": {
          "symbol": "circle"
         },
         "mode": "lines",
         "name": "2.0",
         "orientation": "v",
         "showlegend": true,
         "type": "scatter",
         "x": {
          "bdata": "HyAhIiMkJSYnKCkqKywtLi8wMTIzNDU2Nzg5",
          "dtype": "i1"
         },
         "xaxis": "x",
         "y": {
          "bdata": "WbXW3d3xTkC8+HADnSZOQE/eMm2g709AFps9baANUkA9CtejcDNQQO8rpDbQXU9A/hIKdNo6UUAUrkfhenROQKGWUfKL3UxA7yukNtC9TECF61G4HpFLQOxRuB6Fk01AnXOFseRzTkB0F/bu7ipPQAf9t1jyx0hAhetRuB7dRkDod8wGOsVHQE/eMm2gr0dAFK5H4XqgSkApXI/C9ehPQI/C9Shch1JA9xVSG+gYUkAfhetRuBxQQHg6wi+WzE9APB3hF0vQUUD+Egp02oJQQDMzMzMzt05A",
          "dtype": "f8"
         },
         "yaxis": "y"
        },
        {
         "hovertemplate": "Month=3.0<br>index=%{x}<br>Relative Humidity=%{y}<extra></extra>",
         "legendgroup": "3.0",
         "line": {
          "color": "#00cc96",
          "dash": "solid"
         },
         "marker": {
          "symbol": "circle"
         },
         "mode": "lines",
         "name": "3.0",
         "orientation": "v",
         "showlegend": true,
         "type": "scatter",
         "x": {
          "bdata": "Ojs8PT4/QEFCQ0RFRkdISUpLTE0=",
          "dtype": "i1"
         },
         "xaxis": "x",
         "y": {
          "bdata": "g/5bLPkXUECPwvUoXLVQQJqZmZmZC1BASOF6FK47T0Bcj8L1KEhMQPNOcHd3805AS7tmLPkhTkCF61G4HqlKQAAAAAAA7EZA9ihcj8K9TkA1ICm/WKRSQBiIM/nFDk5A2ZBmyS/gUEDjZwo6bQZSQE/eMm2gg09Aq231YsmPSkCuR+F6FG5IQMP1KFyPzkRAvPhwA52OSUDsUbgehX9JQA==",
          "dtype": "f8"
         },
         "yaxis": "y"
        },
        {
         "hovertemplate": "Month=4.0<br>index=%{x}<br>Relative Humidity=%{y}<extra></extra>",
         "legendgroup": "4.0",
         "line": {
          "color": "#ab63fa",
          "dash": "solid"
         },
         "marker": {
          "symbol": "circle"
         },
         "mode": "lines",
         "name": "4.0",
         "orientation": "v",
         "showlegend": true,
         "type": "scatter",
         "x": {
          "bdata": "Tk9QUVJTVFVWV1hZWltcXV5fYGFiY2RlZmdoaWo=",
          "dtype": "i1"
         },
         "xaxis": "x",
         "y": {
          "bdata": "sSHNkl8kQ0BxPQrXowhBQOWd4O7uBjxAuB6F61EAN0ARi3ug0342QH83eoiIIDVA3ldIbaCTOEBcj8L1KBw7QLX7uKqq2jZAH4XrUbimNEDsUbgehds2QIHIhXd3NzVA28Y8frE8NEA9CtejcEU3QAQjzECn9TZAAAAAAAC4MkCMnynotJk1QGCyjjbQoTdAfzd6iIiINkD2KFyPwm04QLxBUSz55T5AgciFd3cnO0BSuB6F64k6QFbb6sWSbztAexSuR+EOREB+7plfLJ1NQOxRuB6Ft0tApHA9CteTSkC8+HADnYpJQA==",
          "dtype": "f8"
         },
         "yaxis": "y"
        },
        {
         "hovertemplate": "Month=5.0<br>index=%{x}<br>Relative Humidity=%{y}<extra></extra>",
         "legendgroup": "5.0",
         "line": {
          "color": "#FFA15A",
          "dash": "solid"
         },
         "marker": {
          "symbol": "circle"
         },
         "mode": "lines",
         "name": "5.0",
         "orientation": "v",
         "showlegend": true,
         "type": "scatter",
         "x": {
          "bdata": "awBsAG0AbgBvAHAAcQByAHMAdAB1AHYAdwB4AHkAegB7AHwAfQB+AH8AgACBAIIAgwCEAIUAhgCHAIgAiQA=",
          "dtype": "i2"
         },
         "xaxis": "x",
         "y": {
          "bdata": "SOF6FK5jQ0CIxT3QaWdCQDow64sle0NAakBSfrEISUBI4XoUroNJQLVEmdMG8kVA2n1cVVUxREC4HoXrUQBAQBtiHxEReT9AsSHNkl9sQEAD2usXSyJIQOxRuB6FZ0ZA0Ka45Be3REBI4XoUrltEQKRwPQrXx0JANg0fS37pQUDeV0htoFM+QKdKKSIitkRAgciFd3dfO0D5SyjQaes0QNvGPH6xZDFANsQ+IiIiLkD83DO/WLIwQB+F61G4/jJA+Uso0GmLMUAUrkfhekQwQFbb6sWSRzVATpVSRERUOkBqQFJ+sbhGQH7umV8srURAS7tmLPmBSEA=",
          "dtype": "f8"
         },
         "yaxis": "y"
        },
        {
         "hovertemplate": "Month=6.0<br>index=%{x}<br>Relative Humidity=%{y}<extra></extra>",
         "legendgroup": "6.0",
         "line": {
          "color": "#19d3f3",
          "dash": "solid"
         },
         "marker": {
          "symbol": "circle"
         },
         "mode": "lines",
         "name": "6.0",
         "orientation": "v",
         "showlegend": true,
         "type": "scatter",
         "x": {
          "bdata": "igCLAIwAjQCOAI8AkACRAJIAkwCUAJUAlgCXAJgAmQCaAJsAnACdAJ4AnwCgAKEAogCjAKQApQCmAKcA",
          "dtype": "i2"
         },
         "xaxis": "x",
         "y": {
          "bdata": "dBf27u7+SUCPwvUoXHdOQG1jHr9YhkxADMSZ/GLrVEClXTOW/G5UQAAAAAAAmlFAFps9baDxUEA2DR9LfnFOQKRwPQrXJ0xAw/UoXI/SS0AR1FvJLx5NQJqZmZmZOU9AexSuR+F4UUBQyyj5xUhTQAzEmfxiN1RAPB3hF0t0UEDqZMKSX2JQQPQ7ZgOdSlJACtejcD3+UkCYrKMNdCJTQONnCjptmlRAsDTXBjqRVUA1ICm/WCJVQP4SCnTaHFRAUrgehevBVUC3MY9fLIVUQArXo3A9alVAg/5bLPmPVUC4HoXrUfpUQEjhehSuPVVA",
          "dtype": "f8"
         },
         "yaxis": "y"
        },
        {
         "hovertemplate": "Month=7.0<br>index=%{x}<br>Relative Humidity=%{y}<extra></extra>",
         "legendgroup": "7.0",
         "line": {
          "color": "#FF6692",
          "dash": "solid"
         },
         "marker": {
          "symbol": "circle"
         },
         "mode": "lines",
         "name": "7.0",
         "orientation": "v",
         "showlegend": true,
         "type": "scatter",
         "x": {
          "bdata": "qACpAKoAqwCsAK0ArgCvALAAsQCyALMAtAC1ALYAtwC4ALkAugC7ALwAvQC+AL8AwADBAMIAwwDEAMUAxgA=",
          "dtype": "i2"
         },
         "xaxis": "x",
         "y": {
          "bdata": "hetRuB7jU0BefLiBTsdTQJisow10mFRA9DtmA512VUDhehSuRztWQNW2erHkhVZAFK5H4XreVUA8HeEXS05UQHE9CtejWlVAJ2+ZNtBLV0D+Egp02spVQPcVUhvojFRAb1AUS36tVUBQyyj5xW5WQLgehetRRFZAUMso+cVyVUByKgBjydNUQHIqAGPJo1RAh9hHRETAVkDZkGbJLzJXQM3MzMzMYFZACtejcD3MVUAyRj2nDc5VQLoLe3d3LVVAPB3hF0ugU0BleXDaQK1UQPYoXI/CM1VAXny4gU6BV0CPwvUoXONVQI/C9ShcP1VAhetRuB7LVUA=",
          "dtype": "f8"
         },
         "yaxis": "y"
        },
        {
         "hovertemplate": "Month=8.0<br>index=%{x}<br>Relative Humidity=%{y}<extra></extra>",
         "legendgroup": "8.0",
         "line": {
          "color": "#B6E880",
          "dash": "solid"
         },
         "marker": {
          "symbol": "circle"
         },
         "mode": "lines",
         "name": "8.0",
         "orientation": "v",
         "showlegend": true,
         "type": "scatter",
         "x": {
          "bdata": "xwDIAMkAygDLAMwAzQDOAM8A0ADRANIA0wDUANUA1gDXANgA2QDaANsA3ADdAN4A3wDgAOEA4gDjAOQA5QA=",
          "dtype": "i2"
         },
         "xaxis": "x",
         "y": {
          "bdata": "ugt7d3dbVUD0O2YDndZVQD/3zC+W3lZAPB3hF0ucVkDqZMKSXwBXQClcj8L1CldAzczMzMxQVUAdmPXFkj9WQAnqreQXOVdANSApv1heVkDgjR4iIpRWQCtJhU4bFFdAg/5bLPnpVUDjZwo6bbxVQONnCjptzldA4XoUrke3VkDXo3A9CktWQMvf1kCng1ZAuB6F61E2V0DXo3A9CsFWQPQ7ZgOd3lZAmpmZmZnvVkDjZwo6bc5WQJqZmZmZQ1ZAuB6F61EaVkClXTOW/EhXQMvf1kCnP1dAAu31iyWRV0DZkGbJL/JWQPYoXI/CMVZAexSuR+H4VUA=",
          "dtype": "f8"
         },
         "yaxis": "y"
        },
        {
         "hovertemplate": "Month=9.0<br>index=%{x}<br>Relative Humidity=%{y}<extra></extra>",
         "legendgroup": "9.0",
         "line": {
          "color": "#FF97FF",
          "dash": "solid"
         },
         "marker": {
          "symbol": "circle"
         },
         "mode": "lines",
         "name": "9.0",
         "orientation": "v",
         "showlegend": true,
         "type": "scatter",
         "x": {
          "bdata": "5gDnAOgA6QDqAOsA7ADtAO4A7wDwAPEA8gDzAPQA9QD2APcA+AD5APoA+wD8AP0A/gD/AAABAQECAQMB",
          "dtype": "i2"
         },
         "xaxis": "x",
         "y": {
          "bdata": "IHLh3d3VVkAgcuHd3YNXQONnCjptElZAXny4gU6BVUCbho8lvwZWQOxRuB6F71VA7FG4HoWhVUCD/lss+UlWQKVdM5b8JlZAXny4gU6lVkD0O2YDnbxVQMTiHui0hVRAb1AUS36hVUDjZwo6baJWQFuizGkD7VVAuB6F61G4VUAfhetRuFJUQGZmZmZmIFVAJ2+ZNtCzVkApXI/C9d5WQCtJhU4bYFdApV0zlvxwV0CsWuvu7iJXQHIqAGPJxVZA9DtmA522VEBxPQrXo95RQFK4HoXrwVRAMkY9pw02VUBxPQrXo8ZTQClcj8L1ulJA",
          "dtype": "f8"
         },
         "yaxis": "y"
        },
        {
         "hovertemplate": "Month=10.0<br>index=%{x}<br>Relative Humidity=%{y}<extra></extra>",
         "legendgroup": "10.0",
         "line": {
          "color": "#FECB52",
          "dash": "solid"
         },
         "marker": {
          "symbol": "circle"
         },
         "mode": "lines",
         "name": "10.0",
         "orientation": "v",
         "showlegend": true,
         "type": "scatter",
         "x": {
          "bdata": "BAEFAQYBBwEIAQkBCgELAQwBDQEOAQ8BEAERARIBEwEUARUBFgEXARgBGQEaARsBHAEdAR4BHwEgASEBIgE=",
          "dtype": "i2"
         },
         "xaxis": "x",
         "y": {
          "bdata": "1bZ6seQHU0BSuB6F699RQF58uIFOFVRAeSe4u7t7VUAzMzMzMzVUQOpkwpJfPlVAMzMzMzMxVUB9AaTTBgBTQMEIM9BpvVNAaFNc8ou9VEDBCDPQaetUQAnqreQXSVVAj8L1KFwJVkBG9ISIiKBVQD/3zC+W4lVAMzMzMzO7VUATwVFVVS9VQBSuR+F6NFNAPB3hF0tiUkBbosxpAzNRQLz4cAOdXklA4XoUrkeNR0AwWUcb6CxNQIjFPdBpa09AFK5H4Xr6UEB7FK5H4QBSQFK4HoXrjVBAvxs9REQwTkBtYx6/WNJNQFK4HoXrVUxAH4XrUbh+S0A=",
          "dtype": "f8"
         },
         "yaxis": "y"
        },
        {
         "hovertemplate": "Month=11.0<br>index=%{x}<br>Relative Humidity=%{y}<extra></extra>",
         "legendgroup": "11.0",
         "line": {
          "color": "#636efa",
          "dash": "solid"
         },
         "marker": {
          "symbol": "circle"
         },
         "mode": "lines",
         "name": "11.0",
         "orientation": "v",
         "showlegend": true,
         "type": "scatter",
         "x": {
          "bdata": "IwEkASUBJgEnASgBKQEqASsBLAEtAS4BLwEwATEBMgEzATQBNQE2ATcBOAE5AToBOwE8AT0BPgE/AUAB",
          "dtype": "i2"
         },
         "xaxis": "x",
         "y": {
          "bdata": "j8L1KFybTUAR1FvJL9JKQKRwPQrXt0pAcT0K16OMTEBI4XoUrjtKQEHkwru7q0pA6HfMBjpxSUAH/bdY8n9JQHQX9u7u7kdAA9rrF0vuTUByKgBjyadTQPQ7ZgOdGlRAMkY9pw1eU0DjZwo6bUxTQEjhehSuL1JAW6LMaQPTUkDtPq6qqi5TQPYoXI/CD1NAVKUUERGvVEAdmPXFkidSQCaCo6qqRktAp0opIiKWR0CF61G4HsFIQMbPFHTa4EhApHA9CtdrS0AsNnvaQL9MQKGWUfKLUUxAexSuR+G+S0CPwvUoXD9LQAAAAAAAVElA",
          "dtype": "f8"
         },
         "yaxis": "y"
        },
        {
         "hovertemplate": "Month=12.0<br>index=%{x}<br>Relative Humidity=%{y}<extra></extra>",
         "legendgroup": "12.0",
         "line": {
          "color": "#EF553B",
          "dash": "solid"
         },
         "marker": {
          "symbol": "circle"
         },
         "mode": "lines",
         "name": "12.0",
         "orientation": "v",
         "showlegend": true,
         "type": "scatter",
         "x": {
          "bdata": "QQFCAUMBRAFFAUYBRwFIAUkBSgFLAUwBTQFOAU8BUAFRAVIBUwFUAVUBVgFXAVgBWQFaAVsBXAFdAV4B",
          "dtype": "i2"
         },
         "xaxis": "x",
         "y": {
          "bdata": "jOgJERFdR0ChllHyi+lJQJa/rYFOZ0hA2n1cVVWdSEDvK6Q20J1IQJOc4UCnOUdAnXOFseT3SEDafVxVVXFIQDMzMzMzR0lAQeTCu7trSUCuR+F6FG5NQClcj8L1FlFAg/5bLPkhVEDVtnqx5FdSQFK4HoXrEVNAugt7d3eBVEDod8wGOq1PQCJf12kDaUVAq231YsmjREApXI/C9RBJQCw2e9pAx0hA3qAolvxeSUCTnOFApw1GQNTJhCW/6EpAw/UoXI+qR0AAAAAAAHRGQDBZRxvoFEpAB/23WPITTkDK8uC0gVpJQPYoXI/CcUlA",
          "dtype": "f8"
         },
         "yaxis": "y"
        }
       ],
       "layout": {
        "legend": {
         "title": {
          "text": "Month"
         },
         "tracegroupgap": 0
        },
        "template": {
         "data": {
          "bar": [
           {
            "error_x": {
             "color": "#2a3f5f"
            },
            "error_y": {
             "color": "#2a3f5f"
            },
            "marker": {
             "line": {
              "color": "#E5ECF6",
              "width": 0.5
             },
             "pattern": {
              "fillmode": "overlay",
              "size": 10,
              "solidity": 0.2
             }
            },
            "type": "bar"
           }
          ],
          "barpolar": [
           {
            "marker": {
             "line": {
              "color": "#E5ECF6",
              "width": 0.5
             },
             "pattern": {
              "fillmode": "overlay",
              "size": 10,
              "solidity": 0.2
             }
            },
            "type": "barpolar"
           }
          ],
          "carpet": [
           {
            "aaxis": {
             "endlinecolor": "#2a3f5f",
             "gridcolor": "white",
             "linecolor": "white",
             "minorgridcolor": "white",
             "startlinecolor": "#2a3f5f"
            },
            "baxis": {
             "endlinecolor": "#2a3f5f",
             "gridcolor": "white",
             "linecolor": "white",
             "minorgridcolor": "white",
             "startlinecolor": "#2a3f5f"
            },
            "type": "carpet"
           }
          ],
          "choropleth": [
           {
            "colorbar": {
             "outlinewidth": 0,
             "ticks": ""
            },
            "type": "choropleth"
           }
          ],
          "contour": [
           {
            "colorbar": {
             "outlinewidth": 0,
             "ticks": ""
            },
            "colorscale": [
             [
              0,
              "#0d0887"
             ],
             [
              0.1111111111111111,
              "#46039f"
             ],
             [
              0.2222222222222222,
              "#7201a8"
             ],
             [
              0.3333333333333333,
              "#9c179e"
             ],
             [
              0.4444444444444444,
              "#bd3786"
             ],
             [
              0.5555555555555556,
              "#d8576b"
             ],
             [
              0.6666666666666666,
              "#ed7953"
             ],
             [
              0.7777777777777778,
              "#fb9f3a"
             ],
             [
              0.8888888888888888,
              "#fdca26"
             ],
             [
              1,
              "#f0f921"
             ]
            ],
            "type": "contour"
           }
          ],
          "contourcarpet": [
           {
            "colorbar": {
             "outlinewidth": 0,
             "ticks": ""
            },
            "type": "contourcarpet"
           }
          ],
          "heatmap": [
           {
            "colorbar": {
             "outlinewidth": 0,
             "ticks": ""
            },
            "colorscale": [
             [
              0,
              "#0d0887"
             ],
             [
              0.1111111111111111,
              "#46039f"
             ],
             [
              0.2222222222222222,
              "#7201a8"
             ],
             [
              0.3333333333333333,
              "#9c179e"
             ],
             [
              0.4444444444444444,
              "#bd3786"
             ],
             [
              0.5555555555555556,
              "#d8576b"
             ],
             [
              0.6666666666666666,
              "#ed7953"
             ],
             [
              0.7777777777777778,
              "#fb9f3a"
             ],
             [
              0.8888888888888888,
              "#fdca26"
             ],
             [
              1,
              "#f0f921"
             ]
            ],
            "type": "heatmap"
           }
          ],
          "histogram": [
           {
            "marker": {
             "pattern": {
              "fillmode": "overlay",
              "size": 10,
              "solidity": 0.2
             }
            },
            "type": "histogram"
           }
          ],
          "histogram2d": [
           {
            "colorbar": {
             "outlinewidth": 0,
             "ticks": ""
            },
            "colorscale": [
             [
              0,
              "#0d0887"
             ],
             [
              0.1111111111111111,
              "#46039f"
             ],
             [
              0.2222222222222222,
              "#7201a8"
             ],
             [
              0.3333333333333333,
              "#9c179e"
             ],
             [
              0.4444444444444444,
              "#bd3786"
             ],
             [
              0.5555555555555556,
              "#d8576b"
             ],
             [
              0.6666666666666666,
              "#ed7953"
             ],
             [
              0.7777777777777778,
              "#fb9f3a"
             ],
             [
              0.8888888888888888,
              "#fdca26"
             ],
             [
              1,
              "#f0f921"
             ]
            ],
            "type": "histogram2d"
           }
          ],
          "histogram2dcontour": [
           {
            "colorbar": {
             "outlinewidth": 0,
             "ticks": ""
            },
            "colorscale": [
             [
              0,
              "#0d0887"
             ],
             [
              0.1111111111111111,
              "#46039f"
             ],
             [
              0.2222222222222222,
              "#7201a8"
             ],
             [
              0.3333333333333333,
              "#9c179e"
             ],
             [
              0.4444444444444444,
              "#bd3786"
             ],
             [
              0.5555555555555556,
              "#d8576b"
             ],
             [
              0.6666666666666666,
              "#ed7953"
             ],
             [
              0.7777777777777778,
              "#fb9f3a"
             ],
             [
              0.8888888888888888,
              "#fdca26"
             ],
             [
              1,
              "#f0f921"
             ]
            ],
            "type": "histogram2dcontour"
           }
          ],
          "mesh3d": [
           {
            "colorbar": {
             "outlinewidth": 0,
             "ticks": ""
            },
            "type": "mesh3d"
           }
          ],
          "parcoords": [
           {
            "line": {
             "colorbar": {
              "outlinewidth": 0,
              "ticks": ""
             }
            },
            "type": "parcoords"
           }
          ],
          "pie": [
           {
            "automargin": true,
            "type": "pie"
           }
          ],
          "scatter": [
           {
            "fillpattern": {
             "fillmode": "overlay",
             "size": 10,
             "solidity": 0.2
            },
            "type": "scatter"
           }
          ],
          "scatter3d": [
           {
            "line": {
             "colorbar": {
              "outlinewidth": 0,
              "ticks": ""
             }
            },
            "marker": {
             "colorbar": {
              "outlinewidth": 0,
              "ticks": ""
             }
            },
            "type": "scatter3d"
           }
          ],
          "scattercarpet": [
           {
            "marker": {
             "colorbar": {
              "outlinewidth": 0,
              "ticks": ""
             }
            },
            "type": "scattercarpet"
           }
          ],
          "scattergeo": [
           {
            "marker": {
             "colorbar": {
              "outlinewidth": 0,
              "ticks": ""
             }
            },
            "type": "scattergeo"
           }
          ],
          "scattergl": [
           {
            "marker": {
             "colorbar": {
              "outlinewidth": 0,
              "ticks": ""
             }
            },
            "type": "scattergl"
           }
          ],
          "scattermap": [
           {
            "marker": {
             "colorbar": {
              "outlinewidth": 0,
              "ticks": ""
             }
            },
            "type": "scattermap"
           }
          ],
          "scattermapbox": [
           {
            "marker": {
             "colorbar": {
              "outlinewidth": 0,
              "ticks": ""
             }
            },
            "type": "scattermapbox"
           }
          ],
          "scatterpolar": [
           {
            "marker": {
             "colorbar": {
              "outlinewidth": 0,
              "ticks": ""
             }
            },
            "type": "scatterpolar"
           }
          ],
          "scatterpolargl": [
           {
            "marker": {
             "colorbar": {
              "outlinewidth": 0,
              "ticks": ""
             }
            },
            "type": "scatterpolargl"
           }
          ],
          "scatterternary": [
           {
            "marker": {
             "colorbar": {
              "outlinewidth": 0,
              "ticks": ""
             }
            },
            "type": "scatterternary"
           }
          ],
          "surface": [
           {
            "colorbar": {
             "outlinewidth": 0,
             "ticks": ""
            },
            "colorscale": [
             [
              0,
              "#0d0887"
             ],
             [
              0.1111111111111111,
              "#46039f"
             ],
             [
              0.2222222222222222,
              "#7201a8"
             ],
             [
              0.3333333333333333,
              "#9c179e"
             ],
             [
              0.4444444444444444,
              "#bd3786"
             ],
             [
              0.5555555555555556,
              "#d8576b"
             ],
             [
              0.6666666666666666,
              "#ed7953"
             ],
             [
              0.7777777777777778,
              "#fb9f3a"
             ],
             [
              0.8888888888888888,
              "#fdca26"
             ],
             [
              1,
              "#f0f921"
             ]
            ],
            "type": "surface"
           }
          ],
          "table": [
           {
            "cells": {
             "fill": {
              "color": "#EBF0F8"
             },
             "line": {
              "color": "white"
             }
            },
            "header": {
             "fill": {
              "color": "#C8D4E3"
             },
             "line": {
              "color": "white"
             }
            },
            "type": "table"
           }
          ]
         },
         "layout": {
          "annotationdefaults": {
           "arrowcolor": "#2a3f5f",
           "arrowhead": 0,
           "arrowwidth": 1
          },
          "autotypenumbers": "strict",
          "coloraxis": {
           "colorbar": {
            "outlinewidth": 0,
            "ticks": ""
           }
          },
          "colorscale": {
           "diverging": [
            [
             0,
             "#8e0152"
            ],
            [
             0.1,
             "#c51b7d"
            ],
            [
             0.2,
             "#de77ae"
            ],
            [
             0.3,
             "#f1b6da"
            ],
            [
             0.4,
             "#fde0ef"
            ],
            [
             0.5,
             "#f7f7f7"
            ],
            [
             0.6,
             "#e6f5d0"
            ],
            [
             0.7,
             "#b8e186"
            ],
            [
             0.8,
             "#7fbc41"
            ],
            [
             0.9,
             "#4d9221"
            ],
            [
             1,
             "#276419"
            ]
           ],
           "sequential": [
            [
             0,
             "#0d0887"
            ],
            [
             0.1111111111111111,
             "#46039f"
            ],
            [
             0.2222222222222222,
             "#7201a8"
            ],
            [
             0.3333333333333333,
             "#9c179e"
            ],
            [
             0.4444444444444444,
             "#bd3786"
            ],
            [
             0.5555555555555556,
             "#d8576b"
            ],
            [
             0.6666666666666666,
             "#ed7953"
            ],
            [
             0.7777777777777778,
             "#fb9f3a"
            ],
            [
             0.8888888888888888,
             "#fdca26"
            ],
            [
             1,
             "#f0f921"
            ]
           ],
           "sequentialminus": [
            [
             0,
             "#0d0887"
            ],
            [
             0.1111111111111111,
             "#46039f"
            ],
            [
             0.2222222222222222,
             "#7201a8"
            ],
            [
             0.3333333333333333,
             "#9c179e"
            ],
            [
             0.4444444444444444,
             "#bd3786"
            ],
            [
             0.5555555555555556,
             "#d8576b"
            ],
            [
             0.6666666666666666,
             "#ed7953"
            ],
            [
             0.7777777777777778,
             "#fb9f3a"
            ],
            [
             0.8888888888888888,
             "#fdca26"
            ],
            [
             1,
             "#f0f921"
            ]
           ]
          },
          "colorway": [
           "#636efa",
           "#EF553B",
           "#00cc96",
           "#ab63fa",
           "#FFA15A",
           "#19d3f3",
           "#FF6692",
           "#B6E880",
           "#FF97FF",
           "#FECB52"
          ],
          "font": {
           "color": "#2a3f5f"
          },
          "geo": {
           "bgcolor": "white",
           "lakecolor": "white",
           "landcolor": "#E5ECF6",
           "showlakes": true,
           "showland": true,
           "subunitcolor": "white"
          },
          "hoverlabel": {
           "align": "left"
          },
          "hovermode": "closest",
          "mapbox": {
           "style": "light"
          },
          "paper_bgcolor": "white",
          "plot_bgcolor": "#E5ECF6",
          "polar": {
           "angularaxis": {
            "gridcolor": "white",
            "linecolor": "white",
            "ticks": ""
           },
           "bgcolor": "#E5ECF6",
           "radialaxis": {
            "gridcolor": "white",
            "linecolor": "white",
            "ticks": ""
           }
          },
          "scene": {
           "xaxis": {
            "backgroundcolor": "#E5ECF6",
            "gridcolor": "white",
            "gridwidth": 2,
            "linecolor": "white",
            "showbackground": true,
            "ticks": "",
            "zerolinecolor": "white"
           },
           "yaxis": {
            "backgroundcolor": "#E5ECF6",
            "gridcolor": "white",
            "gridwidth": 2,
            "linecolor": "white",
            "showbackground": true,
            "ticks": "",
            "zerolinecolor": "white"
           },
           "zaxis": {
            "backgroundcolor": "#E5ECF6",
            "gridcolor": "white",
            "gridwidth": 2,
            "linecolor": "white",
            "showbackground": true,
            "ticks": "",
            "zerolinecolor": "white"
           }
          },
          "shapedefaults": {
           "line": {
            "color": "#2a3f5f"
           }
          },
          "ternary": {
           "aaxis": {
            "gridcolor": "white",
            "linecolor": "white",
            "ticks": ""
           },
           "baxis": {
            "gridcolor": "white",
            "linecolor": "white",
            "ticks": ""
           },
           "bgcolor": "#E5ECF6",
           "caxis": {
            "gridcolor": "white",
            "linecolor": "white",
            "ticks": ""
           }
          },
          "title": {
           "x": 0.05
          },
          "xaxis": {
           "automargin": true,
           "gridcolor": "white",
           "linecolor": "white",
           "ticks": "",
           "title": {
            "standoff": 15
           },
           "zerolinecolor": "white",
           "zerolinewidth": 2
          },
          "yaxis": {
           "automargin": true,
           "gridcolor": "white",
           "linecolor": "white",
           "ticks": "",
           "title": {
            "standoff": 15
           },
           "zerolinecolor": "white",
           "zerolinewidth": 2
          }
         }
        },
        "title": {
         "text": "Relative Humidity over Months"
        },
        "xaxis": {
         "anchor": "y",
         "domain": [
          0,
          1
         ],
         "title": {
          "text": "index"
         }
        },
        "yaxis": {
         "anchor": "x",
         "domain": [
          0,
          1
         ],
         "title": {
          "text": "Relative Humidity"
         }
        }
       }
      }
     },
     "metadata": {},
     "output_type": "display_data"
    },
    {
     "data": {
      "application/vnd.plotly.v1+json": {
       "config": {
        "plotlyServerURL": "https://plot.ly"
       },
       "data": [
        {
         "hovertemplate": "Month=1.0<br>index=%{x}<br>Aerosol Optical Depth=%{y}<extra></extra>",
         "legendgroup": "1.0",
         "line": {
          "color": "#636efa",
          "dash": "solid"
         },
         "marker": {
          "symbol": "circle"
         },
         "mode": "lines",
         "name": "1.0",
         "orientation": "v",
         "showlegend": true,
         "type": "scatter",
         "x": {
          "bdata": "AAECAwQFBgcICQoLDA0ODxAREhMUFRYXGBkaGxwdHg==",
          "dtype": "i1"
         },
         "xaxis": "x",
         "y": {
          "bdata": "YlkN4jMs8T9A8Hd2mbTgPycOH1/i4uE/X94erwC53D/lrE04+/DaP8oO7w4wYNI/jsAdfdPh0T8NKPfiW2XwPx0PuNkYzt0/5WZ7noaCzz8cd4dqA53HP1dbsb/snsU/MYHhsMIavj+8uXlctG3mP5f/kH77uuY/1eZ+1TGB7T8HhWSoWtjzP7N78rBQK+4/oyO5/If01z9fmEwVjErRP5P0LrMPH90/z2bV52oL8D/8NZYGNz/MPxPyQc9m1bU/EcLg8DtzwD/qCQ7Zh8/HP8+xgUkxLdc/kMPhfiBm5D+DBp07uiTZP9V9w+6Cm84/PuP/5KjJwz8=",
          "dtype": "f8"
         },
         "yaxis": "y"
        },
        {
         "hovertemplate": "Month=2.0<br>index=%{x}<br>Aerosol Optical Depth=%{y}<extra></extra>",
         "legendgroup": "2.0",
         "line": {
          "color": "#EF553B",
          "dash": "solid"
         },
         "marker": {
          "symbol": "circle"
         },
         "mode": "lines",
         "name": "2.0",
         "orientation": "v",
         "showlegend": true,
         "type": "scatter",
         "x": {
          "bdata": "HyAhIiMkJSYnKCkqKywtLi8wMTIzNDU2Nzg5",
          "dtype": "i1"
         },
         "xaxis": "x",
         "y": {
          "bdata": "s3vysFBryT+QoPgx5q7GP1D8GHPXEtk/Xm6xVHfS7j+18SUp8DvcPzojSnuD7+U/cDwegd+Z7z8QejarPtfaP0dy+Q/pN9E/BcC1aSWayz/xY8xdS8jMP9QrZRniWNA/9+k7aSjIxj9lNgWIOwTEP3os966zNLw/Jywu5MrGwD95zAMC5F7CP1YEeSL6yLw/zyADTvY81z8CvfFn2JXsP4j029eBM+4/kst/SL/98T/ByqFFtjPqP2N/2T152OI/dADCXJJw3D88TtGRXP7TPxf9o5pScdU/",
          "dtype": "f8"
         },
         "yaxis": "y"
        },
        {
         "hovertemplate": "Month=3.0<br>index=%{x}<br>Aerosol Optical Depth=%{y}<extra></extra>",
         "legendgroup": "3.0",
         "line": {
          "color": "#00cc96",
          "dash": "solid"
         },
         "marker": {
          "symbol": "circle"
         },
         "mode": "lines",
         "name": "3.0",
         "orientation": "v",
         "showlegend": true,
         "type": "scatter",
         "x": {
          "bdata": "Ojs8PT4/QEFCQ0RFRkdISUpLTE0=",
          "dtype": "i1"
         },
         "xaxis": "x",
         "y": {
          "bdata": "fPOcpi+x7D8TYcPTK6XiPzu8ZkBd9+M/6WsXTFz04j8LRiV1AhrdP4QMY1nQjuE/1TIXjbyZ0z/FjzF3LSHEP7FQa5p3nMI/w4eTrY7J4D9PY/yt/UriPyvN6HJDZtM/iIVa07zj3T+xlj007IraP3xhMlUwKts/zYb6Mlhe0T/x9EpZhjjKP6jLJf/a1Mg/OGdEaW/w1j+xCpkAAy7VPw==",
          "dtype": "f8"
         },
         "yaxis": "y"
        },
        {
         "hovertemplate": "Month=4.0<br>index=%{x}<br>Aerosol Optical Depth=%{y}<extra></extra>",
         "legendgroup": "4.0",
         "line": {
          "color": "#ab63fa",
          "dash": "solid"
         },
         "marker": {
          "symbol": "circle"
         },
         "mode": "lines",
         "name": "4.0",
         "orientation": "v",
         "showlegend": true,
         "type": "scatter",
         "x": {
          "bdata": "Tk9QUVJTVFVWV1hZWltcXV5fYGFiY2RlZmdoaWo=",
          "dtype": "i1"
         },
         "xaxis": "x",
         "y": {
          "bdata": "gE2ZRW/LzT/ByqFFtvPJPyQofoy5a8U/gSbChqdXxj+jlxTJnhfIP/TgsUnF2co/yg7vDjBg1j+Ou0O1gc7dP9mlSOmShNQ/kcmnnDZQ0j8jSnuDL0zSP/CFyVTBKNE/rW64Odwhzj9jqIioyXncP8VJX924Mto/0mqFP3yGzz8dgxOmL/HTP6JFtvP9VNs/QoS6cyFp2z8tIR/0bFbXP/mgZ7Pq89c/L1GA0pe4zj8HiEe3ZS3YP6SZ7HQnxdk/ztN+QKeN2D9rmnecoiPWP9tEK8yCdtE/hcKiTc7j1z9pb/CFydTWPw==",
          "dtype": "f8"
         },
         "yaxis": "y"
        },
        {
         "hovertemplate": "Month=5.0<br>index=%{x}<br>Aerosol Optical Depth=%{y}<extra></extra>",
         "legendgroup": "5.0",
         "line": {
          "color": "#FFA15A",
          "dash": "solid"
         },
         "marker": {
          "symbol": "circle"
         },
         "mode": "lines",
         "name": "5.0",
         "orientation": "v",
         "showlegend": true,
         "type": "scatter",
         "x": {
          "bdata": "awBsAG0AbgBvAHAAcQByAHMAdAB1AHYAdwB4AHkAegB7AHwAfQB+AH8AgACBAIIAgwCEAIUAhgCHAIgAiQA=",
          "dtype": "i2"
         },
         "xaxis": "x",
         "y": {
          "bdata": "8rBQa5r34D+30QDeAonaP0NivXyriNU/Bsdn3f/a0z8WZXMrPcDPP+JTPe9/bcs/Bljm2DpL0T9O0ZFc/kPMP50Rpb3BF9E/R04kbeop1z/ErFSmUW7NP1V71gra0dI/5wCEuSThzT/uWkI+6NnVPyrv5Wm5Rtc/+THmriXk0j8h2SHT4Q7UP4ofY+5awt4/+1xtxf6y1j9JwGlz/D3gPw5Pr5RliNI/QyHFqoitzT9KNbGV1zfYPwrXo3A9itc/Q9YYScIr1j/lilBBhRDSP6d5xyk6Etg/iR2LQtKU3z8eFmpN807hP5VmdLkhM+A/yZ9tCmvQ1z8=",
          "dtype": "f8"
         },
         "yaxis": "y"
        },
        {
         "hovertemplate": "Month=6.0<br>index=%{x}<br>Aerosol Optical Depth=%{y}<extra></extra>",
         "legendgroup": "6.0",
         "line": {
          "color": "#19d3f3",
          "dash": "solid"
         },
         "marker": {
          "symbol": "circle"
         },
         "mode": "lines",
         "name": "6.0",
         "orientation": "v",
         "showlegend": true,
         "type": "scatter",
         "x": {
          "bdata": "igCLAIwAjQCOAI8AkACRAJIAkwCUAJUAlgCXAJgAmQCaAJsAnACdAJ4AnwCgAKEAogCjAKQApQCmAKcA",
          "dtype": "i2"
         },
         "xaxis": "x",
         "y": {
          "bdata": "j1N0JJd/4j8tie6EV6XZP5y/Rugg1c0/m6BLDXTa1D+B2xUl4dXTP5B3SceVDdI/YlsEm3pK0D9TUE/0AIPXP/cGX5hMFdM/xiKIHvE+3D/NO07RkZzsPwy8WO2h6t0/UPwYc9eS3T8Dvt29nOzcPzitFgPkXto/m+Ydp+hI1T8DVSLX7UbiP6Tfvg6cM+E/R3ENuiSh5j9fTLRdATLkPwMyOYqzD9U/+L2K4g7Bzj+FNv4Z5QbTP9EdATIt188/nKIjufwH1z/0/dR46WbhP4y4f7M0Su4/UPwYc9fS5D/C9DwGyyvqPw3gLZCguOc/",
          "dtype": "f8"
         },
         "yaxis": "y"
        },
        {
         "hovertemplate": "Month=7.0<br>index=%{x}<br>Aerosol Optical Depth=%{y}<extra></extra>",
         "legendgroup": "7.0",
         "line": {
          "color": "#FF6692",
          "dash": "solid"
         },
         "marker": {
          "symbol": "circle"
         },
         "mode": "lines",
         "name": "7.0",
         "orientation": "v",
         "showlegend": true,
         "type": "scatter",
         "x": {
          "bdata": "qACpAKoAqwCsAK0ArgCvALAAsQCyALMAtAC1ALYAtwC4ALkAugC7ALwAvQC+AL8AwADBAMIAwwDEAMUAxgA=",
          "dtype": "i2"
         },
         "xaxis": "x",
         "y": {
          "bdata": "pHA9Ctej2j/6fmq8dBPdPyihdQamgOc/bzZYY8mv3z88cqY0WwzSPzitFgPkXtA/zojS3uALwT9WCVPqS1zDP4GaHVO+esQ/Y6iIqMn51z/V52or9pfZP7lCWo5QRtA/Y8Wr1+3G2D/JvJA5jx3eP0csJ3Z0Sdw/vVdw6d8IyT8RgegeGRjUP6yL22gA79A/wKbMorfl1j+oe5/Vwr/ZP6VOQBNhw9Y/nu+nxku32j/vOEVHcnnVPwYSFD/GXNk/zKMdYnwr2T+fh9g1YWjZP+F6FK5HYdc/7xVc+jcC4T/kg57Nqs/QPxVGeFCQxdg/8x/Sb18H2z8=",
          "dtype": "f8"
         },
         "yaxis": "y"
        },
        {
         "hovertemplate": "Month=8.0<br>index=%{x}<br>Aerosol Optical Depth=%{y}<extra></extra>",
         "legendgroup": "8.0",
         "line": {
          "color": "#B6E880",
          "dash": "solid"
         },
         "marker": {
          "symbol": "circle"
         },
         "mode": "lines",
         "name": "8.0",
         "orientation": "v",
         "showlegend": true,
         "type": "scatter",
         "x": {
          "bdata": "xwDIAMkAygDLAMwAzQDOAM8A0ADRANIA0wDUANUA1gDXANgA2QDaANsA3ADdAN4A3wDgAOEA4gDjAOQA5QA=",
          "dtype": "i2"
         },
         "xaxis": "x",
         "y": {
          "bdata": "gwt3Aww42D894Sc5IBzXP+LGrGXSueA/hOl5DJZX3j/mhXZ5M33QPzJVMCqpE8g/f94XQao7xD94eqUsQxzJP8OqfPrIQNk/WDm0yHa+0D+8dJMYBFbRP/hYvW3tV8w/ke18PzVexT+/CcJrUCHOP4V80LNZ9c8/kXkhcx47zD9Tv9D4xRLRP28Sg8DKIdA/7Q2+MJmq0D+94xQdyeXEP/8m177Hc8U/1edqK/aXwT8QcIIbmzC8P4/Hz/CtIsE/6+I2GsBbwz9X7C+7Jw/EPw1s0sOJ1cU/CdDx/GJJ0z9Bh7yP6k7CPzcfmiNy1MI/v4L3/7jXyT8=",
          "dtype": "f8"
         },
         "yaxis": "y"
        },
        {
         "hovertemplate": "Month=9.0<br>index=%{x}<br>Aerosol Optical Depth=%{y}<extra></extra>",
         "legendgroup": "9.0",
         "line": {
          "color": "#FF97FF",
          "dash": "solid"
         },
         "marker": {
          "symbol": "circle"
         },
         "mode": "lines",
         "name": "9.0",
         "orientation": "v",
         "showlegend": true,
         "type": "scatter",
         "x": {
          "bdata": "5gDnAOgA6QDqAOsA7ADtAO4A7wDwAPEA8gDzAPQA9QD2APcA+AD5APoA+wD8AP0A/gD/AAABAQECAQMB",
          "dtype": "i2"
         },
         "xaxis": "x",
         "y": {
          "bdata": "bsAk6ylfzD/Nr6mdqH/PPzojSnuDL8k/7MUT65sOzz+ZdcT2mgvQPxSKcj58htU/267SCPZy2j+9mGi7AuTbP2tUpQIuNdk/3W+y4ltF3j+f8X9y1GTfPztN5TuYp+U/pSxDHOui7z8tRAhBpw3qP7G/7J48LOE/MXZBy1od4z9pI1jOPvznPxfauk0Y+uU/TYQNT6+U8D83GsBbIEHhP7WmeccpOsw/2c73U+OlzD/sBgy9vunQPzQWEAQP5sQ/tBMjIGac0z9b95GGEyvdP2kjWM4+/OI/taZ5xym61j9tnE9IK1HVP0DNjilfPdc/",
          "dtype": "f8"
         },
         "yaxis": "y"
        },
        {
         "hovertemplate": "Month=10.0<br>index=%{x}<br>Aerosol Optical Depth=%{y}<extra></extra>",
         "legendgroup": "10.0",
         "line": {
          "color": "#FECB52",
          "dash": "solid"
         },
         "marker": {
          "symbol": "circle"
         },
         "mode": "lines",
         "name": "10.0",
         "orientation": "v",
         "showlegend": true,
         "type": "scatter",
         "x": {
          "bdata": "BAEFAQYBBwEIAQkBCgELAQwBDQEOAQ8BEAERARIBEwEUARUBFgEXARgBGQEaARsBHAEdAR4BHwEgASEBIgE=",
          "dtype": "i2"
         },
         "xaxis": "x",
         "y": {
          "bdata": "6+I2GsBb1T+nonaUijPXP8HKoUW2c9w/o0aiScIr5D95DBB+QqPgP28TbxaPuOA/qjx/rygS3T/oTQjHc5DPP+PIhBFb5+A/xY8xdy2h3T8Nt34lUNfePw4J3frwmd8/097gC5Op3T8sz8AezBPKPxx8YTJVsNY/HHxhMlWw1z91kxgEVo7cP67ZS8wTNeE/3LSYJgzd6z8kufyH9NvoPzHC2YLlddY/VFInoIkw2T8v3SQGgZXcP4/k8h/Sr+A/B6Vq5ol63T+lLEMc6yLhP8kIKfEZduI/PU+95yBV4T++DbDd3d3kP0UBoF+b+tc/5mN5gr2c2z8=",
          "dtype": "f8"
         },
         "yaxis": "y"
        },
        {
         "hovertemplate": "Month=11.0<br>index=%{x}<br>Aerosol Optical Depth=%{y}<extra></extra>",
         "legendgroup": "11.0",
         "line": {
          "color": "#636efa",
          "dash": "solid"
         },
         "marker": {
          "symbol": "circle"
         },
         "mode": "lines",
         "name": "11.0",
         "orientation": "v",
         "showlegend": true,
         "type": "scatter",
         "x": {
          "bdata": "IwEkASUBJgEnASgBKQEqASsBLAEtAS4BLwEwATEBMgEzATQBNQE2ATcBOAE5AToBOwE8AT0BPgE/AUAB",
          "dtype": "i2"
         },
         "xaxis": "x",
         "y": {
          "bdata": "mG/+2ITh5j97FK5H4XrfP0vIBz2b1dM/T7RuLdr2zz8Y4IBrLiTXP7MvWvnF0uQ/hOplYlru5j8rZC2MlEDnP+FUSFICdfE/obNLov6N5T/6pxknxTTePyKOdXEbDd0/o9gMm8Hy3T9k70aYAn/iPy2J7oRXpds/S+vwidUM4j+Uh4Va0/zjP6cLMns5Wek/SOF6FK6H5j/xhrWqhT/rP7nT2ImLNtI/01I82KnMyj9KwVXJwBTQPwfrPID+aM8/oyO5/If0zT9TliGOdXHXPzErlWmUm+g/dN7EZRyQ0j8K16NwPYrQP1fnVfPVe8o/",
          "dtype": "f8"
         },
         "yaxis": "y"
        },
        {
         "hovertemplate": "Month=12.0<br>index=%{x}<br>Aerosol Optical Depth=%{y}<extra></extra>",
         "legendgroup": "12.0",
         "line": {
          "color": "#EF553B",
          "dash": "solid"
         },
         "marker": {
          "symbol": "circle"
         },
         "mode": "lines",
         "name": "12.0",
         "orientation": "v",
         "showlegend": true,
         "type": "scatter",
         "x": {
          "bdata": "QQFCAUMBRAFFAUYBRwFIAUkBSgFLAUwBTQFOAU8BUAFRAVIBUwFUAVUBVgFXAVgBWQFaAVsBXAFdAV4B",
          "dtype": "i2"
         },
         "xaxis": "x",
         "y": {
          "bdata": "+1eT/awfzz9vNlhjyS/ZP4yQvJ6o/9A/veju5Bp5yz8sz8AezBPHP2x9VG1+1sE/CykCRt5Myj+mxHOLABTUPzeJQWDl0Mw/C7DMsXWWwz8OT6+UZYjNPxCeC0495dg/FNBE2PD05z8mdu7vzDHrP6BA+zhq0vE/yg/bZPS27z8/xty1hHzTPzXSFRYjJcI/M7/XZhwQxD/8rsuan/XKPwKaCBueXtE/46WbxCAw1T8C4Nq0Es3SP0UjnVYRW9U/plAYv+nw1T+VZYhjXdzMPzRXCNYxQdY/ZmZmZmYm4j9ZOqAeO5XoPw2UldgV4Os/",
          "dtype": "f8"
         },
         "yaxis": "y"
        }
       ],
       "layout": {
        "legend": {
         "title": {
          "text": "Month"
         },
         "tracegroupgap": 0
        },
        "template": {
         "data": {
          "bar": [
           {
            "error_x": {
             "color": "#2a3f5f"
            },
            "error_y": {
             "color": "#2a3f5f"
            },
            "marker": {
             "line": {
              "color": "#E5ECF6",
              "width": 0.5
             },
             "pattern": {
              "fillmode": "overlay",
              "size": 10,
              "solidity": 0.2
             }
            },
            "type": "bar"
           }
          ],
          "barpolar": [
           {
            "marker": {
             "line": {
              "color": "#E5ECF6",
              "width": 0.5
             },
             "pattern": {
              "fillmode": "overlay",
              "size": 10,
              "solidity": 0.2
             }
            },
            "type": "barpolar"
           }
          ],
          "carpet": [
           {
            "aaxis": {
             "endlinecolor": "#2a3f5f",
             "gridcolor": "white",
             "linecolor": "white",
             "minorgridcolor": "white",
             "startlinecolor": "#2a3f5f"
            },
            "baxis": {
             "endlinecolor": "#2a3f5f",
             "gridcolor": "white",
             "linecolor": "white",
             "minorgridcolor": "white",
             "startlinecolor": "#2a3f5f"
            },
            "type": "carpet"
           }
          ],
          "choropleth": [
           {
            "colorbar": {
             "outlinewidth": 0,
             "ticks": ""
            },
            "type": "choropleth"
           }
          ],
          "contour": [
           {
            "colorbar": {
             "outlinewidth": 0,
             "ticks": ""
            },
            "colorscale": [
             [
              0,
              "#0d0887"
             ],
             [
              0.1111111111111111,
              "#46039f"
             ],
             [
              0.2222222222222222,
              "#7201a8"
             ],
             [
              0.3333333333333333,
              "#9c179e"
             ],
             [
              0.4444444444444444,
              "#bd3786"
             ],
             [
              0.5555555555555556,
              "#d8576b"
             ],
             [
              0.6666666666666666,
              "#ed7953"
             ],
             [
              0.7777777777777778,
              "#fb9f3a"
             ],
             [
              0.8888888888888888,
              "#fdca26"
             ],
             [
              1,
              "#f0f921"
             ]
            ],
            "type": "contour"
           }
          ],
          "contourcarpet": [
           {
            "colorbar": {
             "outlinewidth": 0,
             "ticks": ""
            },
            "type": "contourcarpet"
           }
          ],
          "heatmap": [
           {
            "colorbar": {
             "outlinewidth": 0,
             "ticks": ""
            },
            "colorscale": [
             [
              0,
              "#0d0887"
             ],
             [
              0.1111111111111111,
              "#46039f"
             ],
             [
              0.2222222222222222,
              "#7201a8"
             ],
             [
              0.3333333333333333,
              "#9c179e"
             ],
             [
              0.4444444444444444,
              "#bd3786"
             ],
             [
              0.5555555555555556,
              "#d8576b"
             ],
             [
              0.6666666666666666,
              "#ed7953"
             ],
             [
              0.7777777777777778,
              "#fb9f3a"
             ],
             [
              0.8888888888888888,
              "#fdca26"
             ],
             [
              1,
              "#f0f921"
             ]
            ],
            "type": "heatmap"
           }
          ],
          "histogram": [
           {
            "marker": {
             "pattern": {
              "fillmode": "overlay",
              "size": 10,
              "solidity": 0.2
             }
            },
            "type": "histogram"
           }
          ],
          "histogram2d": [
           {
            "colorbar": {
             "outlinewidth": 0,
             "ticks": ""
            },
            "colorscale": [
             [
              0,
              "#0d0887"
             ],
             [
              0.1111111111111111,
              "#46039f"
             ],
             [
              0.2222222222222222,
              "#7201a8"
             ],
             [
              0.3333333333333333,
              "#9c179e"
             ],
             [
              0.4444444444444444,
              "#bd3786"
             ],
             [
              0.5555555555555556,
              "#d8576b"
             ],
             [
              0.6666666666666666,
              "#ed7953"
             ],
             [
              0.7777777777777778,
              "#fb9f3a"
             ],
             [
              0.8888888888888888,
              "#fdca26"
             ],
             [
              1,
              "#f0f921"
             ]
            ],
            "type": "histogram2d"
           }
          ],
          "histogram2dcontour": [
           {
            "colorbar": {
             "outlinewidth": 0,
             "ticks": ""
            },
            "colorscale": [
             [
              0,
              "#0d0887"
             ],
             [
              0.1111111111111111,
              "#46039f"
             ],
             [
              0.2222222222222222,
              "#7201a8"
             ],
             [
              0.3333333333333333,
              "#9c179e"
             ],
             [
              0.4444444444444444,
              "#bd3786"
             ],
             [
              0.5555555555555556,
              "#d8576b"
             ],
             [
              0.6666666666666666,
              "#ed7953"
             ],
             [
              0.7777777777777778,
              "#fb9f3a"
             ],
             [
              0.8888888888888888,
              "#fdca26"
             ],
             [
              1,
              "#f0f921"
             ]
            ],
            "type": "histogram2dcontour"
           }
          ],
          "mesh3d": [
           {
            "colorbar": {
             "outlinewidth": 0,
             "ticks": ""
            },
            "type": "mesh3d"
           }
          ],
          "parcoords": [
           {
            "line": {
             "colorbar": {
              "outlinewidth": 0,
              "ticks": ""
             }
            },
            "type": "parcoords"
           }
          ],
          "pie": [
           {
            "automargin": true,
            "type": "pie"
           }
          ],
          "scatter": [
           {
            "fillpattern": {
             "fillmode": "overlay",
             "size": 10,
             "solidity": 0.2
            },
            "type": "scatter"
           }
          ],
          "scatter3d": [
           {
            "line": {
             "colorbar": {
              "outlinewidth": 0,
              "ticks": ""
             }
            },
            "marker": {
             "colorbar": {
              "outlinewidth": 0,
              "ticks": ""
             }
            },
            "type": "scatter3d"
           }
          ],
          "scattercarpet": [
           {
            "marker": {
             "colorbar": {
              "outlinewidth": 0,
              "ticks": ""
             }
            },
            "type": "scattercarpet"
           }
          ],
          "scattergeo": [
           {
            "marker": {
             "colorbar": {
              "outlinewidth": 0,
              "ticks": ""
             }
            },
            "type": "scattergeo"
           }
          ],
          "scattergl": [
           {
            "marker": {
             "colorbar": {
              "outlinewidth": 0,
              "ticks": ""
             }
            },
            "type": "scattergl"
           }
          ],
          "scattermap": [
           {
            "marker": {
             "colorbar": {
              "outlinewidth": 0,
              "ticks": ""
             }
            },
            "type": "scattermap"
           }
          ],
          "scattermapbox": [
           {
            "marker": {
             "colorbar": {
              "outlinewidth": 0,
              "ticks": ""
             }
            },
            "type": "scattermapbox"
           }
          ],
          "scatterpolar": [
           {
            "marker": {
             "colorbar": {
              "outlinewidth": 0,
              "ticks": ""
             }
            },
            "type": "scatterpolar"
           }
          ],
          "scatterpolargl": [
           {
            "marker": {
             "colorbar": {
              "outlinewidth": 0,
              "ticks": ""
             }
            },
            "type": "scatterpolargl"
           }
          ],
          "scatterternary": [
           {
            "marker": {
             "colorbar": {
              "outlinewidth": 0,
              "ticks": ""
             }
            },
            "type": "scatterternary"
           }
          ],
          "surface": [
           {
            "colorbar": {
             "outlinewidth": 0,
             "ticks": ""
            },
            "colorscale": [
             [
              0,
              "#0d0887"
             ],
             [
              0.1111111111111111,
              "#46039f"
             ],
             [
              0.2222222222222222,
              "#7201a8"
             ],
             [
              0.3333333333333333,
              "#9c179e"
             ],
             [
              0.4444444444444444,
              "#bd3786"
             ],
             [
              0.5555555555555556,
              "#d8576b"
             ],
             [
              0.6666666666666666,
              "#ed7953"
             ],
             [
              0.7777777777777778,
              "#fb9f3a"
             ],
             [
              0.8888888888888888,
              "#fdca26"
             ],
             [
              1,
              "#f0f921"
             ]
            ],
            "type": "surface"
           }
          ],
          "table": [
           {
            "cells": {
             "fill": {
              "color": "#EBF0F8"
             },
             "line": {
              "color": "white"
             }
            },
            "header": {
             "fill": {
              "color": "#C8D4E3"
             },
             "line": {
              "color": "white"
             }
            },
            "type": "table"
           }
          ]
         },
         "layout": {
          "annotationdefaults": {
           "arrowcolor": "#2a3f5f",
           "arrowhead": 0,
           "arrowwidth": 1
          },
          "autotypenumbers": "strict",
          "coloraxis": {
           "colorbar": {
            "outlinewidth": 0,
            "ticks": ""
           }
          },
          "colorscale": {
           "diverging": [
            [
             0,
             "#8e0152"
            ],
            [
             0.1,
             "#c51b7d"
            ],
            [
             0.2,
             "#de77ae"
            ],
            [
             0.3,
             "#f1b6da"
            ],
            [
             0.4,
             "#fde0ef"
            ],
            [
             0.5,
             "#f7f7f7"
            ],
            [
             0.6,
             "#e6f5d0"
            ],
            [
             0.7,
             "#b8e186"
            ],
            [
             0.8,
             "#7fbc41"
            ],
            [
             0.9,
             "#4d9221"
            ],
            [
             1,
             "#276419"
            ]
           ],
           "sequential": [
            [
             0,
             "#0d0887"
            ],
            [
             0.1111111111111111,
             "#46039f"
            ],
            [
             0.2222222222222222,
             "#7201a8"
            ],
            [
             0.3333333333333333,
             "#9c179e"
            ],
            [
             0.4444444444444444,
             "#bd3786"
            ],
            [
             0.5555555555555556,
             "#d8576b"
            ],
            [
             0.6666666666666666,
             "#ed7953"
            ],
            [
             0.7777777777777778,
             "#fb9f3a"
            ],
            [
             0.8888888888888888,
             "#fdca26"
            ],
            [
             1,
             "#f0f921"
            ]
           ],
           "sequentialminus": [
            [
             0,
             "#0d0887"
            ],
            [
             0.1111111111111111,
             "#46039f"
            ],
            [
             0.2222222222222222,
             "#7201a8"
            ],
            [
             0.3333333333333333,
             "#9c179e"
            ],
            [
             0.4444444444444444,
             "#bd3786"
            ],
            [
             0.5555555555555556,
             "#d8576b"
            ],
            [
             0.6666666666666666,
             "#ed7953"
            ],
            [
             0.7777777777777778,
             "#fb9f3a"
            ],
            [
             0.8888888888888888,
             "#fdca26"
            ],
            [
             1,
             "#f0f921"
            ]
           ]
          },
          "colorway": [
           "#636efa",
           "#EF553B",
           "#00cc96",
           "#ab63fa",
           "#FFA15A",
           "#19d3f3",
           "#FF6692",
           "#B6E880",
           "#FF97FF",
           "#FECB52"
          ],
          "font": {
           "color": "#2a3f5f"
          },
          "geo": {
           "bgcolor": "white",
           "lakecolor": "white",
           "landcolor": "#E5ECF6",
           "showlakes": true,
           "showland": true,
           "subunitcolor": "white"
          },
          "hoverlabel": {
           "align": "left"
          },
          "hovermode": "closest",
          "mapbox": {
           "style": "light"
          },
          "paper_bgcolor": "white",
          "plot_bgcolor": "#E5ECF6",
          "polar": {
           "angularaxis": {
            "gridcolor": "white",
            "linecolor": "white",
            "ticks": ""
           },
           "bgcolor": "#E5ECF6",
           "radialaxis": {
            "gridcolor": "white",
            "linecolor": "white",
            "ticks": ""
           }
          },
          "scene": {
           "xaxis": {
            "backgroundcolor": "#E5ECF6",
            "gridcolor": "white",
            "gridwidth": 2,
            "linecolor": "white",
            "showbackground": true,
            "ticks": "",
            "zerolinecolor": "white"
           },
           "yaxis": {
            "backgroundcolor": "#E5ECF6",
            "gridcolor": "white",
            "gridwidth": 2,
            "linecolor": "white",
            "showbackground": true,
            "ticks": "",
            "zerolinecolor": "white"
           },
           "zaxis": {
            "backgroundcolor": "#E5ECF6",
            "gridcolor": "white",
            "gridwidth": 2,
            "linecolor": "white",
            "showbackground": true,
            "ticks": "",
            "zerolinecolor": "white"
           }
          },
          "shapedefaults": {
           "line": {
            "color": "#2a3f5f"
           }
          },
          "ternary": {
           "aaxis": {
            "gridcolor": "white",
            "linecolor": "white",
            "ticks": ""
           },
           "baxis": {
            "gridcolor": "white",
            "linecolor": "white",
            "ticks": ""
           },
           "bgcolor": "#E5ECF6",
           "caxis": {
            "gridcolor": "white",
            "linecolor": "white",
            "ticks": ""
           }
          },
          "title": {
           "x": 0.05
          },
          "xaxis": {
           "automargin": true,
           "gridcolor": "white",
           "linecolor": "white",
           "ticks": "",
           "title": {
            "standoff": 15
           },
           "zerolinecolor": "white",
           "zerolinewidth": 2
          },
          "yaxis": {
           "automargin": true,
           "gridcolor": "white",
           "linecolor": "white",
           "ticks": "",
           "title": {
            "standoff": 15
           },
           "zerolinecolor": "white",
           "zerolinewidth": 2
          }
         }
        },
        "title": {
         "text": "Aerosol Optical Depth over Months"
        },
        "xaxis": {
         "anchor": "y",
         "domain": [
          0,
          1
         ],
         "title": {
          "text": "index"
         }
        },
        "yaxis": {
         "anchor": "x",
         "domain": [
          0,
          1
         ],
         "title": {
          "text": "Aerosol Optical Depth"
         }
        }
       }
      }
     },
     "metadata": {},
     "output_type": "display_data"
    },
    {
     "data": {
      "application/vnd.plotly.v1+json": {
       "config": {
        "plotlyServerURL": "https://plot.ly"
       },
       "data": [
        {
         "hovertemplate": "Month=1.0<br>index=%{x}<br>Clearsky DHI=%{y}<extra></extra>",
         "legendgroup": "1.0",
         "line": {
          "color": "#636efa",
          "dash": "solid"
         },
         "marker": {
          "symbol": "circle"
         },
         "mode": "lines",
         "name": "1.0",
         "orientation": "v",
         "showlegend": true,
         "type": "scatter",
         "x": {
          "bdata": "AAECAwQFBgcICQoLDA0ODxAREhMUFRYXGBkaGxwdHg==",
          "dtype": "i1"
         },
         "xaxis": "x",
         "y": {
          "bdata": "mpmZmZmpb0AAAAAAAEBlQJqZmZmZiWhAZmZmZmaGaECamZmZmYljQJqZmZmZ2WBAMzMzMzOTX0BmZmZmZtZsQM3MzMzM3GNAMzMzMzPzX0BmZmZmZqZcQAAAAAAA4FtAmpmZmZk5VkAAAAAAAEBnQBVtM7roQmlAwbhl0UUXa0Aq2mZ00aVvQCraZnTRxWxA65LMRRcdYkAVbTO66IJgQINxy6KLrl1AP0eaLrrIbkCY3v5cdBFgQIl1cNFFF1RAPMVHF130VUAAAAAAAMBcQINxy6KLblpAFW0zuugCaECtSzIXXdRnQK1LMhddlGBAAAAAAAAAWUA=",
          "dtype": "f8"
         },
         "yaxis": "y"
        },
        {
         "hovertemplate": "Month=2.0<br>index=%{x}<br>Clearsky DHI=%{y}<extra></extra>",
         "legendgroup": "2.0",
         "line": {
          "color": "#EF553B",
          "dash": "solid"
         },
         "marker": {
          "symbol": "circle"
         },
         "mode": "lines",
         "name": "2.0",
         "orientation": "v",
         "showlegend": true,
         "type": "scatter",
         "x": {
          "bdata": "HyAhIiMkJSYnKCkqKywtLi8wMTIzNDU2Nzg5",
          "dtype": "i1"
         },
         "xaxis": "x",
         "y": {
          "bdata": "U7TN6KJLXUB9jjRddFFcQFO0zeiia2JAU7TN6KKrbUAq2mZ00WVlQK1LMhddVGVArUsyF13Ub0CY3v5cdNFlQAAAAAAAoGBAfY40XXQRXUCnaJvRRZdeQFmXZC666F9AU7TN6KKLXUDQQgJGF11bQAAAAAAAAFdAYh1cdNEFWECnaJvRRddaQNmn66KLrldAKtpmdNGlYkAAAAAAAMBsQHZJ5qKLLnBAirYZXXSRcEAq2mZ00cVtQBVtM7rowmtAAAAAAABgaEDBuGXRRVdjQCraZnTRxWNA",
          "dtype": "f8"
         },
         "yaxis": "y"
        },
        {
         "hovertemplate": "Month=3.0<br>index=%{x}<br>Clearsky DHI=%{y}<extra></extra>",
         "legendgroup": "3.0",
         "line": {
          "color": "#00cc96",
          "dash": "solid"
         },
         "marker": {
          "symbol": "circle"
         },
         "mode": "lines",
         "name": "3.0",
         "orientation": "v",
         "showlegend": true,
         "type": "scatter",
         "x": {
          "bdata": "Ojs8PT4/QEFCQ0RFRkdISUpLTE0=",
          "dtype": "i1"
         },
         "xaxis": "x",
         "y": {
          "bdata": "KtpmdNHFakCY3v5cdFFpQD9Hmi66SG5ArUsyF120bUAVbTO66MJpQKI6Z1VVZWhAojpnVVXNY0AAAAAAAABeQEN1zqqqGllAAAAAAACwZUCiOmdVVR1tQAAAAAAAEGFAAAAAAAD4Z0BexZiqqjpmQKI6Z1VVdWpAAAAAAACQYkCiOmdVVT1gQL2KMVVV1V5AAAAAAAC4aEAAAAAAAKhiQA==",
          "dtype": "f8"
         },
         "yaxis": "y"
        },
        {
         "hovertemplate": "Month=4.0<br>index=%{x}<br>Clearsky DHI=%{y}<extra></extra>",
         "legendgroup": "4.0",
         "line": {
          "color": "#ab63fa",
          "dash": "solid"
         },
         "marker": {
          "symbol": "circle"
         },
         "mode": "lines",
         "name": "4.0",
         "orientation": "v",
         "showlegend": true,
         "type": "scatter",
         "x": {
          "bdata": "Tk9QUVJTVFVWV1hZWltcXV5fYGFiY2RlZmdoaWo=",
          "dtype": "i1"
         },
         "xaxis": "x",
         "y": {
          "bdata": "AAAAAABYYUBexZiqqkJjQAAAAAAAgF9AXsWYqqrSYEBDdc6qqupfQAAAAAAAsGBAAAAAAADgZUBexZiqqsprQF7FmKqqAmdAXsWYqqoyZUBexZiqqlpmQKI6Z1VVdWVAXsWYqqoyY0AAAAAAAMBqQAAAAAAAsGhAXsWYqqpyZEBexZiqqpJkQAAAAAAA0GdAAAAAAABQaEBexZiqqspmQKI6Z1VV9WlAojpnVVUFY0CiOmdVVZ1oQAAAAAAA0GhAAAAAAABoZkBexZiqqmJnQKI6Z1VVRWRAojpnVVVVZ0BexZiqqqpnQA==",
          "dtype": "f8"
         },
         "yaxis": "y"
        },
        {
         "hovertemplate": "Month=5.0<br>index=%{x}<br>Clearsky DHI=%{y}<extra></extra>",
         "legendgroup": "5.0",
         "line": {
          "color": "#FFA15A",
          "dash": "solid"
         },
         "marker": {
          "symbol": "circle"
         },
         "mode": "lines",
         "name": "5.0",
         "orientation": "v",
         "showlegend": true,
         "type": "scatter",
         "x": {
          "bdata": "awBsAG0AbgBvAHAAcQByAHMAdAB1AHYAdwB4AHkAegB7AHwAfQB+AH8AgACBAIIAgwCEAIUAhgCHAIgAiQA=",
          "dtype": "i2"
         },
         "xaxis": "x",
         "y": {
          "bdata": "AAAAAAAoakCiOmdVVU1rQF7FmKqqimdAAAAAAACYZkCiOmdVVX1kQJtIemIn9mBAZbeFndjJY0CbSHpiJzZhQC4mkdiJfWJAZbeFndipZkBuIumJnfhgQAQwr23bdmNAC5ANSZJ0YED1b/K2bVtkQAAAAAAAgGNA9W/ytm0LYkD1b/K2bUtjQPifoSRJkmdA+J+hJEkCZUAEMK9t23ZqQAuQDUmSZGJAAAAAAADwYEAEMK9t24ZkQAAAAAAA0GdA/M9QkiTZZ0D8z1CSJHlkQPVv8rZtu2RAAAAAAABQZUALkA1JkhRsQAAAAAAAsGlAAAAAAACgZkA=",
          "dtype": "f8"
         },
         "yaxis": "y"
        },
        {
         "hovertemplate": "Month=6.0<br>index=%{x}<br>Clearsky DHI=%{y}<extra></extra>",
         "legendgroup": "6.0",
         "line": {
          "color": "#19d3f3",
          "dash": "solid"
         },
         "marker": {
          "symbol": "circle"
         },
         "mode": "lines",
         "name": "6.0",
         "orientation": "v",
         "showlegend": true,
         "type": "scatter",
         "x": {
          "bdata": "igCLAIwAjQCOAI8AkACRAJIAkwCUAJUAlgCXAJgAmQCaAJsAnACdAJ4AnwCgAKEAogCjAKQApQCmAKcA",
          "dtype": "i2"
         },
         "xaxis": "x",
         "y": {
          "bdata": "AAAAAADwZ0AEMK9t23ZpQPVv8rZtK2FAAAAAAABQZED4n6EkSXJiQAhgXtu2PWVACGBe27bNYUD8z1CSJFlnQPzPUJIkCWJA9W/ytm0rZUAEMK9t24ZwQAhgXtu2LWdAAAAAAADAZUD8z1CSJAlnQPzPUJIkaWdABDCvbdvGY0D4n6EkSRJoQAAAAAAAcGhA9W/ytm2LaUAIYF7btk1tQAQwr23bVmRACGBe27YtX0D4n6EkSfJfQBcgG5IkSV5AAAAAAADQYkAIYF7btk1lQAKY17Zty3FA+J+hJEmSa0D4n6EkSSJuQDeR9MRObHFA",
          "dtype": "f8"
         },
         "yaxis": "y"
        },
        {
         "hovertemplate": "Month=7.0<br>index=%{x}<br>Clearsky DHI=%{y}<extra></extra>",
         "legendgroup": "7.0",
         "line": {
          "color": "#FF6692",
          "dash": "solid"
         },
         "marker": {
          "symbol": "circle"
         },
         "mode": "lines",
         "name": "7.0",
         "orientation": "v",
         "showlegend": true,
         "type": "scatter",
         "x": {
          "bdata": "qACpAKoAqwCsAK0ArgCvALAAsQCyALMAtAC1ALYAtwC4ALkAugC7ALwAvQC+AL8AwADBAMIAwwDEAMUAxgA=",
          "dtype": "i2"
         },
         "xaxis": "x",
         "y": {
          "bdata": "9W/ytm1bZ0AAAAAAAIBlQPVv8rZt221AAAAAAADgakD8z1CSJDliQPzPUJIkqWFAAAAAAAAgWEAAAAAAAEBbQJoJI0mSRFdAZbeFndjJZ0DS2W4nduJrQJtIemIn1mNAbiLpiZ34Z0A3kfTETgxpQFtMIrETW2dAbiLpiZ1YYUAuJpHYiT1iQPeUnBM7EWNAkt0WdmJnYkDJbgs7sVNpQJLdFnZiR2dAAAAAAADAaEAAAAAAAOBlQJLdFnZix2VAbiLpiZ1YZkCS3RZ2YkdpQKWz3U7sBGVA95ScEzvRbUDJbgs7sXNhQC4mkdiJXWZAAAAAAACgZUA=",
          "dtype": "f8"
         },
         "yaxis": "y"
        },
        {
         "hovertemplate": "Month=8.0<br>index=%{x}<br>Clearsky DHI=%{y}<extra></extra>",
         "legendgroup": "8.0",
         "line": {
          "color": "#B6E880",
          "dash": "solid"
         },
         "marker": {
          "symbol": "circle"
         },
         "mode": "lines",
         "name": "8.0",
         "orientation": "v",
         "showlegend": true,
         "type": "scatter",
         "x": {
          "bdata": "xwDIAMkAygDLAMwAzQDOAM8A0ADRANIA0wDUANUA1gDXANgA2QDaANsA3ADdAN4A3wDgAOEA4gDjAOQA5QA=",
          "dtype": "i2"
         },
         "xaxis": "x",
         "y": {
          "bdata": "CWtj7MQuZUA3kfTETuxjQDeR9MROzGtA95ScEzsxa0DS2W4ndqJhQGW3hZ3Y6WBA3ETSEzsxW0Cls91O7ARcQNLZbid2wmVASme7ndjJX0D3lJwTO/FiQJtIemInFmBAAAAAAABAW0BbTCKxExtiQJLdFnZiR2FA7Sk5J3biX0BbTCKxE/tbQF7FmKqqWmFAXsWYqqr6YUAAAAAAAEBcQEN1zqqqWlxAAAAAAABwWUATwVFVVcVWQAAAAAAA8FhAvYoxVVVFXEC9ijFVVXVbQAAAAAAAAFxAojpnVVW1YEC9ijFVVdVaQL2KMVVVJVtAojpnVVVdYEA=",
          "dtype": "f8"
         },
         "yaxis": "y"
        },
        {
         "hovertemplate": "Month=9.0<br>index=%{x}<br>Clearsky DHI=%{y}<extra></extra>",
         "legendgroup": "9.0",
         "line": {
          "color": "#FF97FF",
          "dash": "solid"
         },
         "marker": {
          "symbol": "circle"
         },
         "mode": "lines",
         "name": "9.0",
         "orientation": "v",
         "showlegend": true,
         "type": "scatter",
         "x": {
          "bdata": "5gDnAOgA6QDqAOsA7ADtAO4A7wDwAPEA8gDzAPQA9QD2APcA+AD5APoA+wD8AP0A/gD/AAABAQECAQMB",
          "dtype": "i2"
         },
         "xaxis": "x",
         "y": {
          "bdata": "AAAAAABAX0CiOmdVVY1iQL2KMVVV9V1AojpnVVXVYUBexZiqqsJhQKI6Z1VVZWRAojpnVVWFZUCiOmdVVYVmQAAAAAAAoGVAAAAAAABwaEBexZiqquJqQAAAAAAAwGtAr2JMVVXRcECvYkxVVelxQAAAAAAAQGpAojpnVVXNbECiOmdVVV1vQF7FmKqqYmtAr2JMVVUNcUBexZiqqsJoQKI6Z1VVVWFAQ3XOqqpaXEC9ijFVVaVfQBPBUVVV5VVAAAAAAABwYUAAAAAAAFhmQF7FmKqqImpAXsWYqqqqZUCiOmdVVdViQF7FmKqqwmRA",
          "dtype": "f8"
         },
         "yaxis": "y"
        },
        {
         "hovertemplate": "Month=10.0<br>index=%{x}<br>Clearsky DHI=%{y}<extra></extra>",
         "legendgroup": "10.0",
         "line": {
          "color": "#FECB52",
          "dash": "solid"
         },
         "marker": {
          "symbol": "circle"
         },
         "mode": "lines",
         "name": "10.0",
         "orientation": "v",
         "showlegend": true,
         "type": "scatter",
         "x": {
          "bdata": "BAEFAQYBBwEIAQkBCgELAQwBDQEOAQ8BEAERARIBEwEUARUBFgEXARgBGQEaARsBHAEdAR4BHwEgASEBIgE=",
          "dtype": "i2"
         },
         "xaxis": "x",
         "y": {
          "bdata": "XsWYqqpCY0CiOmdVVaVjQF7FmKqqamZAXsWYqqqSa0AAAAAAAMBnQKI6Z1VVnWhAAAAAAADIZ0BexZiqqkJhQF7FmKqqQmdAAAAAAADYZUAAAAAAAIBkQF7FmKqqwmZAojpnVVUtZkBDdc6qqqpdQF7FmKqqomJAXsWYqqpyY0CY3v5cdDFkQAAAAAAAYGdAmN7+XHSxbEA/R5ouuqhvQCraZnTRZWRAmN7+XHSRY0DBuGXRRXdnQGghAaOLTmhArUsyF100Z0Aq2mZ00aVnQNYlmYsuOmhAP0eaLrrIZ0DBuGXRRddpQD9Hmi66KGRA65LMRRddZEA=",
          "dtype": "f8"
         },
         "yaxis": "y"
        },
        {
         "hovertemplate": "Month=11.0<br>index=%{x}<br>Clearsky DHI=%{y}<extra></extra>",
         "legendgroup": "11.0",
         "line": {
          "color": "#636efa",
          "dash": "solid"
         },
         "marker": {
          "symbol": "circle"
         },
         "mode": "lines",
         "name": "11.0",
         "orientation": "v",
         "showlegend": true,
         "type": "scatter",
         "x": {
          "bdata": "IwEkASUBJgEnASgBKQEqASsBLAEtAS4BLwEwATEBMgEzATQBNQE2ATcBOAE5AToBOwE8AT0BPgE/AUAB",
          "dtype": "i2"
         },
         "xaxis": "x",
         "y": {
          "bdata": "1iWZiy66bEAVbTO66MJmQCraZnTRhWJArUsyF130XkAq2mZ00aVgQGghAaOLjmdAKtpmdNFlaUDBuGXRRXdpQFO0zeiiS2pA1iWZiy6aaUDrksxFFz1hQOuSzEUXPWNArUsyF120ZEA/R5ouuihoQFO0zeiiS2RAKtpmdNElZUCtSzIXXVRnQJje/lx0cWdAMzMzMzPjZkBmZmZmZmZuQM3MzMzM/GJAAAAAAABgXEBmZmZmZiZfQM3MzMzMTGBAmpmZmZmZX0BmZmZmZjZhQGZmZmZm9mlAZmZmZmYGYUCamZmZmVlgQGZmZmZmhl5A",
          "dtype": "f8"
         },
         "yaxis": "y"
        },
        {
         "hovertemplate": "Month=12.0<br>index=%{x}<br>Clearsky DHI=%{y}<extra></extra>",
         "legendgroup": "12.0",
         "line": {
          "color": "#EF553B",
          "dash": "solid"
         },
         "marker": {
          "symbol": "circle"
         },
         "mode": "lines",
         "name": "12.0",
         "orientation": "v",
         "showlegend": true,
         "type": "scatter",
         "x": {
          "bdata": "QQFCAUMBRAFFAUYBRwFIAUkBSgFLAUwBTQFOAU8BUAFRAVIBUwFUAVUBVgFXAVgBWQFaAVsBXAFdAV4B",
          "dtype": "i2"
         },
         "xaxis": "x",
         "y": {
          "bdata": "mpmZmZl5W0DNzMzMzMxjQDMzMzMzA2FAmpmZmZl5XEAzMzMzM5NaQJqZmZmZWVhAZmZmZmamWEAzMzMzM3NgQM3MzMzMzF5AMzMzMzMTWUCamZmZmVlcQM3MzMzMjGJAAAAAAABAaECamZmZmblpQGZmZmZmRmxAAAAAAADQb0DNzMzMzDxjQM3MzMzMrFhAzczMzMwMWkDNzMzMzOxaQAAAAAAAAF9AZmZmZmaWYEAAAAAAAIBhQGZmZmZmRl9AzczMzMyMYkCamZmZmXldQJqZmZmZWWBAmpmZmZn5ZkAzMzMzM3NoQAAAAAAAgGZA",
          "dtype": "f8"
         },
         "yaxis": "y"
        }
       ],
       "layout": {
        "legend": {
         "title": {
          "text": "Month"
         },
         "tracegroupgap": 0
        },
        "template": {
         "data": {
          "bar": [
           {
            "error_x": {
             "color": "#2a3f5f"
            },
            "error_y": {
             "color": "#2a3f5f"
            },
            "marker": {
             "line": {
              "color": "#E5ECF6",
              "width": 0.5
             },
             "pattern": {
              "fillmode": "overlay",
              "size": 10,
              "solidity": 0.2
             }
            },
            "type": "bar"
           }
          ],
          "barpolar": [
           {
            "marker": {
             "line": {
              "color": "#E5ECF6",
              "width": 0.5
             },
             "pattern": {
              "fillmode": "overlay",
              "size": 10,
              "solidity": 0.2
             }
            },
            "type": "barpolar"
           }
          ],
          "carpet": [
           {
            "aaxis": {
             "endlinecolor": "#2a3f5f",
             "gridcolor": "white",
             "linecolor": "white",
             "minorgridcolor": "white",
             "startlinecolor": "#2a3f5f"
            },
            "baxis": {
             "endlinecolor": "#2a3f5f",
             "gridcolor": "white",
             "linecolor": "white",
             "minorgridcolor": "white",
             "startlinecolor": "#2a3f5f"
            },
            "type": "carpet"
           }
          ],
          "choropleth": [
           {
            "colorbar": {
             "outlinewidth": 0,
             "ticks": ""
            },
            "type": "choropleth"
           }
          ],
          "contour": [
           {
            "colorbar": {
             "outlinewidth": 0,
             "ticks": ""
            },
            "colorscale": [
             [
              0,
              "#0d0887"
             ],
             [
              0.1111111111111111,
              "#46039f"
             ],
             [
              0.2222222222222222,
              "#7201a8"
             ],
             [
              0.3333333333333333,
              "#9c179e"
             ],
             [
              0.4444444444444444,
              "#bd3786"
             ],
             [
              0.5555555555555556,
              "#d8576b"
             ],
             [
              0.6666666666666666,
              "#ed7953"
             ],
             [
              0.7777777777777778,
              "#fb9f3a"
             ],
             [
              0.8888888888888888,
              "#fdca26"
             ],
             [
              1,
              "#f0f921"
             ]
            ],
            "type": "contour"
           }
          ],
          "contourcarpet": [
           {
            "colorbar": {
             "outlinewidth": 0,
             "ticks": ""
            },
            "type": "contourcarpet"
           }
          ],
          "heatmap": [
           {
            "colorbar": {
             "outlinewidth": 0,
             "ticks": ""
            },
            "colorscale": [
             [
              0,
              "#0d0887"
             ],
             [
              0.1111111111111111,
              "#46039f"
             ],
             [
              0.2222222222222222,
              "#7201a8"
             ],
             [
              0.3333333333333333,
              "#9c179e"
             ],
             [
              0.4444444444444444,
              "#bd3786"
             ],
             [
              0.5555555555555556,
              "#d8576b"
             ],
             [
              0.6666666666666666,
              "#ed7953"
             ],
             [
              0.7777777777777778,
              "#fb9f3a"
             ],
             [
              0.8888888888888888,
              "#fdca26"
             ],
             [
              1,
              "#f0f921"
             ]
            ],
            "type": "heatmap"
           }
          ],
          "histogram": [
           {
            "marker": {
             "pattern": {
              "fillmode": "overlay",
              "size": 10,
              "solidity": 0.2
             }
            },
            "type": "histogram"
           }
          ],
          "histogram2d": [
           {
            "colorbar": {
             "outlinewidth": 0,
             "ticks": ""
            },
            "colorscale": [
             [
              0,
              "#0d0887"
             ],
             [
              0.1111111111111111,
              "#46039f"
             ],
             [
              0.2222222222222222,
              "#7201a8"
             ],
             [
              0.3333333333333333,
              "#9c179e"
             ],
             [
              0.4444444444444444,
              "#bd3786"
             ],
             [
              0.5555555555555556,
              "#d8576b"
             ],
             [
              0.6666666666666666,
              "#ed7953"
             ],
             [
              0.7777777777777778,
              "#fb9f3a"
             ],
             [
              0.8888888888888888,
              "#fdca26"
             ],
             [
              1,
              "#f0f921"
             ]
            ],
            "type": "histogram2d"
           }
          ],
          "histogram2dcontour": [
           {
            "colorbar": {
             "outlinewidth": 0,
             "ticks": ""
            },
            "colorscale": [
             [
              0,
              "#0d0887"
             ],
             [
              0.1111111111111111,
              "#46039f"
             ],
             [
              0.2222222222222222,
              "#7201a8"
             ],
             [
              0.3333333333333333,
              "#9c179e"
             ],
             [
              0.4444444444444444,
              "#bd3786"
             ],
             [
              0.5555555555555556,
              "#d8576b"
             ],
             [
              0.6666666666666666,
              "#ed7953"
             ],
             [
              0.7777777777777778,
              "#fb9f3a"
             ],
             [
              0.8888888888888888,
              "#fdca26"
             ],
             [
              1,
              "#f0f921"
             ]
            ],
            "type": "histogram2dcontour"
           }
          ],
          "mesh3d": [
           {
            "colorbar": {
             "outlinewidth": 0,
             "ticks": ""
            },
            "type": "mesh3d"
           }
          ],
          "parcoords": [
           {
            "line": {
             "colorbar": {
              "outlinewidth": 0,
              "ticks": ""
             }
            },
            "type": "parcoords"
           }
          ],
          "pie": [
           {
            "automargin": true,
            "type": "pie"
           }
          ],
          "scatter": [
           {
            "fillpattern": {
             "fillmode": "overlay",
             "size": 10,
             "solidity": 0.2
            },
            "type": "scatter"
           }
          ],
          "scatter3d": [
           {
            "line": {
             "colorbar": {
              "outlinewidth": 0,
              "ticks": ""
             }
            },
            "marker": {
             "colorbar": {
              "outlinewidth": 0,
              "ticks": ""
             }
            },
            "type": "scatter3d"
           }
          ],
          "scattercarpet": [
           {
            "marker": {
             "colorbar": {
              "outlinewidth": 0,
              "ticks": ""
             }
            },
            "type": "scattercarpet"
           }
          ],
          "scattergeo": [
           {
            "marker": {
             "colorbar": {
              "outlinewidth": 0,
              "ticks": ""
             }
            },
            "type": "scattergeo"
           }
          ],
          "scattergl": [
           {
            "marker": {
             "colorbar": {
              "outlinewidth": 0,
              "ticks": ""
             }
            },
            "type": "scattergl"
           }
          ],
          "scattermap": [
           {
            "marker": {
             "colorbar": {
              "outlinewidth": 0,
              "ticks": ""
             }
            },
            "type": "scattermap"
           }
          ],
          "scattermapbox": [
           {
            "marker": {
             "colorbar": {
              "outlinewidth": 0,
              "ticks": ""
             }
            },
            "type": "scattermapbox"
           }
          ],
          "scatterpolar": [
           {
            "marker": {
             "colorbar": {
              "outlinewidth": 0,
              "ticks": ""
             }
            },
            "type": "scatterpolar"
           }
          ],
          "scatterpolargl": [
           {
            "marker": {
             "colorbar": {
              "outlinewidth": 0,
              "ticks": ""
             }
            },
            "type": "scatterpolargl"
           }
          ],
          "scatterternary": [
           {
            "marker": {
             "colorbar": {
              "outlinewidth": 0,
              "ticks": ""
             }
            },
            "type": "scatterternary"
           }
          ],
          "surface": [
           {
            "colorbar": {
             "outlinewidth": 0,
             "ticks": ""
            },
            "colorscale": [
             [
              0,
              "#0d0887"
             ],
             [
              0.1111111111111111,
              "#46039f"
             ],
             [
              0.2222222222222222,
              "#7201a8"
             ],
             [
              0.3333333333333333,
              "#9c179e"
             ],
             [
              0.4444444444444444,
              "#bd3786"
             ],
             [
              0.5555555555555556,
              "#d8576b"
             ],
             [
              0.6666666666666666,
              "#ed7953"
             ],
             [
              0.7777777777777778,
              "#fb9f3a"
             ],
             [
              0.8888888888888888,
              "#fdca26"
             ],
             [
              1,
              "#f0f921"
             ]
            ],
            "type": "surface"
           }
          ],
          "table": [
           {
            "cells": {
             "fill": {
              "color": "#EBF0F8"
             },
             "line": {
              "color": "white"
             }
            },
            "header": {
             "fill": {
              "color": "#C8D4E3"
             },
             "line": {
              "color": "white"
             }
            },
            "type": "table"
           }
          ]
         },
         "layout": {
          "annotationdefaults": {
           "arrowcolor": "#2a3f5f",
           "arrowhead": 0,
           "arrowwidth": 1
          },
          "autotypenumbers": "strict",
          "coloraxis": {
           "colorbar": {
            "outlinewidth": 0,
            "ticks": ""
           }
          },
          "colorscale": {
           "diverging": [
            [
             0,
             "#8e0152"
            ],
            [
             0.1,
             "#c51b7d"
            ],
            [
             0.2,
             "#de77ae"
            ],
            [
             0.3,
             "#f1b6da"
            ],
            [
             0.4,
             "#fde0ef"
            ],
            [
             0.5,
             "#f7f7f7"
            ],
            [
             0.6,
             "#e6f5d0"
            ],
            [
             0.7,
             "#b8e186"
            ],
            [
             0.8,
             "#7fbc41"
            ],
            [
             0.9,
             "#4d9221"
            ],
            [
             1,
             "#276419"
            ]
           ],
           "sequential": [
            [
             0,
             "#0d0887"
            ],
            [
             0.1111111111111111,
             "#46039f"
            ],
            [
             0.2222222222222222,
             "#7201a8"
            ],
            [
             0.3333333333333333,
             "#9c179e"
            ],
            [
             0.4444444444444444,
             "#bd3786"
            ],
            [
             0.5555555555555556,
             "#d8576b"
            ],
            [
             0.6666666666666666,
             "#ed7953"
            ],
            [
             0.7777777777777778,
             "#fb9f3a"
            ],
            [
             0.8888888888888888,
             "#fdca26"
            ],
            [
             1,
             "#f0f921"
            ]
           ],
           "sequentialminus": [
            [
             0,
             "#0d0887"
            ],
            [
             0.1111111111111111,
             "#46039f"
            ],
            [
             0.2222222222222222,
             "#7201a8"
            ],
            [
             0.3333333333333333,
             "#9c179e"
            ],
            [
             0.4444444444444444,
             "#bd3786"
            ],
            [
             0.5555555555555556,
             "#d8576b"
            ],
            [
             0.6666666666666666,
             "#ed7953"
            ],
            [
             0.7777777777777778,
             "#fb9f3a"
            ],
            [
             0.8888888888888888,
             "#fdca26"
            ],
            [
             1,
             "#f0f921"
            ]
           ]
          },
          "colorway": [
           "#636efa",
           "#EF553B",
           "#00cc96",
           "#ab63fa",
           "#FFA15A",
           "#19d3f3",
           "#FF6692",
           "#B6E880",
           "#FF97FF",
           "#FECB52"
          ],
          "font": {
           "color": "#2a3f5f"
          },
          "geo": {
           "bgcolor": "white",
           "lakecolor": "white",
           "landcolor": "#E5ECF6",
           "showlakes": true,
           "showland": true,
           "subunitcolor": "white"
          },
          "hoverlabel": {
           "align": "left"
          },
          "hovermode": "closest",
          "mapbox": {
           "style": "light"
          },
          "paper_bgcolor": "white",
          "plot_bgcolor": "#E5ECF6",
          "polar": {
           "angularaxis": {
            "gridcolor": "white",
            "linecolor": "white",
            "ticks": ""
           },
           "bgcolor": "#E5ECF6",
           "radialaxis": {
            "gridcolor": "white",
            "linecolor": "white",
            "ticks": ""
           }
          },
          "scene": {
           "xaxis": {
            "backgroundcolor": "#E5ECF6",
            "gridcolor": "white",
            "gridwidth": 2,
            "linecolor": "white",
            "showbackground": true,
            "ticks": "",
            "zerolinecolor": "white"
           },
           "yaxis": {
            "backgroundcolor": "#E5ECF6",
            "gridcolor": "white",
            "gridwidth": 2,
            "linecolor": "white",
            "showbackground": true,
            "ticks": "",
            "zerolinecolor": "white"
           },
           "zaxis": {
            "backgroundcolor": "#E5ECF6",
            "gridcolor": "white",
            "gridwidth": 2,
            "linecolor": "white",
            "showbackground": true,
            "ticks": "",
            "zerolinecolor": "white"
           }
          },
          "shapedefaults": {
           "line": {
            "color": "#2a3f5f"
           }
          },
          "ternary": {
           "aaxis": {
            "gridcolor": "white",
            "linecolor": "white",
            "ticks": ""
           },
           "baxis": {
            "gridcolor": "white",
            "linecolor": "white",
            "ticks": ""
           },
           "bgcolor": "#E5ECF6",
           "caxis": {
            "gridcolor": "white",
            "linecolor": "white",
            "ticks": ""
           }
          },
          "title": {
           "x": 0.05
          },
          "xaxis": {
           "automargin": true,
           "gridcolor": "white",
           "linecolor": "white",
           "ticks": "",
           "title": {
            "standoff": 15
           },
           "zerolinecolor": "white",
           "zerolinewidth": 2
          },
          "yaxis": {
           "automargin": true,
           "gridcolor": "white",
           "linecolor": "white",
           "ticks": "",
           "title": {
            "standoff": 15
           },
           "zerolinecolor": "white",
           "zerolinewidth": 2
          }
         }
        },
        "title": {
         "text": "Clearsky DHI over Months"
        },
        "xaxis": {
         "anchor": "y",
         "domain": [
          0,
          1
         ],
         "title": {
          "text": "index"
         }
        },
        "yaxis": {
         "anchor": "x",
         "domain": [
          0,
          1
         ],
         "title": {
          "text": "Clearsky DHI"
         }
        }
       }
      }
     },
     "metadata": {},
     "output_type": "display_data"
    },
    {
     "data": {
      "application/vnd.plotly.v1+json": {
       "config": {
        "plotlyServerURL": "https://plot.ly"
       },
       "data": [
        {
         "hovertemplate": "Month=1.0<br>index=%{x}<br>Clearsky DNI=%{y}<extra></extra>",
         "legendgroup": "1.0",
         "line": {
          "color": "#636efa",
          "dash": "solid"
         },
         "marker": {
          "symbol": "circle"
         },
         "mode": "lines",
         "name": "1.0",
         "orientation": "v",
         "showlegend": true,
         "type": "scatter",
         "x": {
          "bdata": "AAECAwQFBgcICQoLDA0ODxAREhMUFRYXGBkaGxwdHg==",
          "dtype": "i1"
         },
         "xaxis": "x",
         "y": {
          "bdata": "MzMzMzMTa0DNzMzMzLx7QGZmZmZmPnlAMzMzMzPbekAAAAAAAOyAQDMzMzMzC4JAZmZmZmZeg0BmZmZmZiZzQJqZmZmZAYFAAAAAAACIhECamZmZmfGFQJqZmZmZkYVAmpmZmZmth0DNzMzMzGx8QHZJ5qKLHnRAdknmoovOcEDBuGXRRfdkQJ8jTRddNHFAuyRz0UVPgEDQkaaLLmqBQEXbjC66kIJAFW0zuugia0BF24wuumiCQHZJ5qKLLohAuyRz0UWnhkAAAAAAAJCDQDBuWXTR7YNAtJCA0UVndkDrksxFF316QHZJ5qKLloJA65LMRRcthkA=",
          "dtype": "f8"
         },
         "yaxis": "y"
        },
        {
         "hovertemplate": "Month=2.0<br>index=%{x}<br>Clearsky DNI=%{y}<extra></extra>",
         "legendgroup": "2.0",
         "line": {
          "color": "#EF553B",
          "dash": "solid"
         },
         "marker": {
          "symbol": "circle"
         },
         "mode": "lines",
         "name": "2.0",
         "orientation": "v",
         "showlegend": true,
         "type": "scatter",
         "x": {
          "bdata": "HyAhIiMkJSYnKCkqKywtLi8wMTIzNDU2Nzg5",
          "dtype": "i1"
         },
         "xaxis": "x",
         "y": {
          "bdata": "dknmootOhEDrksxFFx2FQIq2GV10kYFATG9/LrrYc0Bh3LLooit/QNYlmYsuKn5AYdyy6KLbcUB2SeaiizaAQIq2GV10KYRAWkjA6KIjhkCmtz8XXVyFQAAAAAAAYIRAMG5ZdNG9hEB2Seaiiz6GQAAAAAAAIIhAdknmoos2iEAwbll00XWHQHZJ5qKLzohAirYZXXTpgkCKthlddJF3QLSQgNFFt3RAKtpmdNFFc0B2Seaii254QBVtM7roInxA0JGmiy5CgEDQkaaLLiqDQAAAAAAAuIJA",
          "dtype": "f8"
         },
         "yaxis": "y"
        },
        {
         "hovertemplate": "Month=3.0<br>index=%{x}<br>Clearsky DNI=%{y}<extra></extra>",
         "legendgroup": "3.0",
         "line": {
          "color": "#00cc96",
          "dash": "solid"
         },
         "marker": {
          "symbol": "circle"
         },
         "mode": "lines",
         "name": "3.0",
         "orientation": "v",
         "showlegend": true,
         "type": "scatter",
         "x": {
          "bdata": "Ojs8PT4/QEFCQ0RFRkdISUpLTE0=",
          "dtype": "i1"
         },
         "xaxis": "x",
         "y": {
          "bdata": "Ydyy6KKLfEAq2mZ00dV9QBVtM7roQnpAKtpmdNEFe0BaSMDoohOAQK9iTFVVEXxAAAAAAADSgEAAAAAAAIaEQKjOWVVVuYZAUZ2zqqrGf0AAAAAAAJR3QKjOWVVVJYNAUZ2zqqoOfUCvYkxVVb1/QAAAAAAA7HxAqM5ZVVVfgkAAAAAAAPqDQAAAAAAADIVAAAAAAADEf0CozllVVdOCQA==",
          "dtype": "f8"
         },
         "yaxis": "y"
        },
        {
         "hovertemplate": "Month=4.0<br>index=%{x}<br>Clearsky DNI=%{y}<extra></extra>",
         "legendgroup": "4.0",
         "line": {
          "color": "#ab63fa",
          "dash": "solid"
         },
         "marker": {
          "symbol": "circle"
         },
         "mode": "lines",
         "name": "4.0",
         "orientation": "v",
         "showlegend": true,
         "type": "scatter",
         "x": {
          "bdata": "Tk9QUVJTVFVWV1hZWltcXV5fYGFiY2RlZmdoaWo=",
          "dtype": "i1"
         },
         "xaxis": "x",
         "y": {
          "bdata": "AAAAAACAhECozllVVY+DQKjOWVVViYZAqM5ZVVV1hUAAAAAAAFaGQKjOWVVVs4VAqM5ZVVVZgkCvYkxVVZV+QKjOWVVV44FAAAAAAABAg0BYMaaqqj6CQKjOWVVVF4NAqM5ZVVVhhEBRnbOqqpp/QFgxpqqqZoBAqM5ZVVWjg0CozllVVVeDQFgxpqqq+oBAqM5ZVVULgUAAAAAAADyCQFgxpqqqXIBAqM5ZVVWRhEBYMaaqqliBQFgxpqqqTIFAqM5ZVVX9gUCozllVVbuBQKjOWVVV1YNAWDGmqqpCgkBYMaaqquiBQA==",
          "dtype": "f8"
         },
         "yaxis": "y"
        },
        {
         "hovertemplate": "Month=5.0<br>index=%{x}<br>Clearsky DNI=%{y}<extra></extra>",
         "legendgroup": "5.0",
         "line": {
          "color": "#FFA15A",
          "dash": "solid"
         },
         "marker": {
          "symbol": "circle"
         },
         "mode": "lines",
         "name": "5.0",
         "orientation": "v",
         "showlegend": true,
         "type": "scatter",
         "x": {
          "bdata": "awBsAG0AbgBvAHAAcQByAHMAdAB1AHYAdwB4AHkAegB7AHwAfQB+AH8AgACBAIIAgwCEAIUAhgCHAIgAiQA=",
          "dtype": "i2"
         },
         "xaxis": "x",
         "y": {
          "bdata": "WDGmqqqUgECozllVVT+AQFgxpqqqQIJAAAAAAAASgkBYMaaqqqKDQD4l58ROpINAdbbbiZ0wgkCy28JO7JyDQLLbwk7s5IJAwtoYO7HTgECy28JO7CSDQP2bvG3bRoBA/zOUJEkOgkD8z1CSJIl/QAAAAAAA6H9AA2RDkiTdgEABzGvbtpmAQP5nKEmSrHtAApjXtm37f0B7Ss6JnQh8QAAAAAAAuIFAAAAAAABsgkD/M5QkSQ6AQC4mkdiJHX5AApjXtm0zfUD+ZyhJkgiAQP5nKEmSHH9AApjXtm3bfkB7Ss6JnWh5QAbIhiRJcnpA/mcoSZKkfUA=",
          "dtype": "f8"
         },
         "yaxis": "y"
        },
        {
         "hovertemplate": "Month=6.0<br>index=%{x}<br>Clearsky DNI=%{y}<extra></extra>",
         "legendgroup": "6.0",
         "line": {
          "color": "#19d3f3",
          "dash": "solid"
         },
         "marker": {
          "symbol": "circle"
         },
         "mode": "lines",
         "name": "6.0",
         "orientation": "v",
         "showlegend": true,
         "type": "scatter",
         "x": {
          "bdata": "igCLAIwAjQCOAI8AkACRAJIAkwCUAJUAlgCXAJgAmQCaAJsAnACdAJ4AnwCgAKEAogCjAKQApQCmAKcA",
          "dtype": "i2"
         },
         "xaxis": "x",
         "y": {
          "bdata": "BsiGJEmie0D8z1CSJCF6QANkQ5IkdYFA/M9QkiT5f0ADZEOSJHmAQAAAAAAAYH9A/mcoSZI0gUAEMK9t2xZ9QP2bvG3bzoBA/mcoSZIUf0D8z1CSJClzQAAAAAAAKHxA/M9QkiTRfUAEMK9t25Z8QPzPUJIk6XtAAAAAAABQgEACmNe2bSt7QPzPUJIkYXpABDCvbdsGeUA3kfTETqx3QAKY17Zty35A/mcoSZIEgkACmNe2baOBQAAAAAAADIJAA2RDkiQJgED+ZyhJklR9QGW3hZ3YOXFAm0h6YiemeEDS2W4ndgJ2QBeTSOzELnRA",
          "dtype": "f8"
         },
         "yaxis": "y"
        },
        {
         "hovertemplate": "Month=7.0<br>index=%{x}<br>Clearsky DNI=%{y}<extra></extra>",
         "legendgroup": "7.0",
         "line": {
          "color": "#FF6692",
          "dash": "solid"
         },
         "marker": {
          "symbol": "circle"
         },
         "mode": "lines",
         "name": "7.0",
         "orientation": "v",
         "showlegend": true,
         "type": "scatter",
         "x": {
          "bdata": "qACpAKoAqwCsAK0ArgCvALAAsQCyALMAtAC1ALYAtwC4ALkAugC7ALwAvQC+AL8AwADBAMIAwwDEAMUAxgA=",
          "dtype": "i2"
         },
         "xaxis": "x",
         "y": {
          "bdata": "/M9QkiShe0ACmNe2beN9QOlstxM7MXdA6Wy3EzuRekACmNe2bYOAQP5nKEmSMIFA/mcoSZLkg0D9m7xt21KDQANkQ5IkDYRAstvCTuyEf0DpbLcTO5F7QNltYSd28oFA0tluJ3Zyf0AuJpHYid19QHtKzomdmH5AF5NI7MQOg0DC2hg7sYuCQMLaGDuxG4JA2W1hJ3bagUA3kfTETmx9QBeTSOzEvn5AF5NI7MTefUCy28JO7BSAQMLaGDuxQ4BAyW4LO7HTf0AuJpHYiV19QCeSntiJxYBA6Wy3EzuheEAnkp7YiW2CQDeR9MRO/H5ATiQ9sRP7f0A=",
          "dtype": "f8"
         },
         "yaxis": "y"
        },
        {
         "hovertemplate": "Month=8.0<br>index=%{x}<br>Clearsky DNI=%{y}<extra></extra>",
         "legendgroup": "8.0",
         "line": {
          "color": "#B6E880",
          "dash": "solid"
         },
         "marker": {
          "symbol": "circle"
         },
         "mode": "lines",
         "name": "8.0",
         "orientation": "v",
         "showlegend": true,
         "type": "scatter",
         "x": {
          "bdata": "xwDIAMkAygDLAMwAzQDOAM8A0ADRANIA0wDUANUA1gDXANgA2QDaANsA3ADdAN4A3wDgAOEA4gDjAOQA5QA=",
          "dtype": "i2"
         },
         "xaxis": "x",
         "y": {
          "bdata": "stvCTuyUgEAnkp7Yie2AQOlstxM7gXpA0tluJ3ZyekBOJD2xE8OBQMLaGDuxy4JAJ5Ke2ImVhEB1ttuJnbiDQNLZbid2on9Ai0kkdmLngkCbSHpiJ2aBQJtIemInnoJAi0kkdmLng0DC2hg7sdOBQHW224mdyIFAwtoYO7FrgkB1ttuJnaCDQKjOWVVV0YNAWDGmqqpmg0CozllVVauFQFgxpqqqooVAAAAAAAAAhkBYMaaqqiiHQFgxpqqqioZAWDGmqqqShUAAAAAAAKKFQAAAAAAAQIVAWDGmqqqEg0AAAAAAAGyFQKjOWVVVCYZAqM5ZVVUphEA=",
          "dtype": "f8"
         },
         "yaxis": "y"
        },
        {
         "hovertemplate": "Month=9.0<br>index=%{x}<br>Clearsky DNI=%{y}<extra></extra>",
         "legendgroup": "9.0",
         "line": {
          "color": "#FF97FF",
          "dash": "solid"
         },
         "marker": {
          "symbol": "circle"
         },
         "mode": "lines",
         "name": "9.0",
         "orientation": "v",
         "showlegend": true,
         "type": "scatter",
         "x": {
          "bdata": "5gDnAOgA6QDqAOsA7ADtAO4A7wDwAPEA8gDzAPQA9QD2APcA+AD5APoA+wD8AP0A/gD/AAABAQECAQMB",
          "dtype": "i2"
         },
         "xaxis": "x",
         "y": {
          "bdata": "qM5ZVVWdhEAAAAAAAI6CQAAAAAAArIRAAAAAAAAOg0CozllVVSODQFgxpqqqeIFAWDGmqqqsgECvYkxVVbF/QKjOWVVVPYBAr2JMVVVVfkCvYkxVVU17QAAAAAAAXHpAr2JMVVVZdEAAAAAAAERyQFGds6qqznpAr2JMVVXVeEAAAAAAACx1QFGds6qqhnhAAAAAAACYckAAAAAAANh6QKjOWVVV2YFAAAAAAADag0BYMaaqqlSCQFgxpqqqqIVAWDGmqqoWgkAAAAAAAOR+QAAAAAAAqHhAUZ2zqqqufUCozllVVYmAQFGds6qqKn9A",
          "dtype": "f8"
         },
         "yaxis": "y"
        },
        {
         "hovertemplate": "Month=10.0<br>index=%{x}<br>Clearsky DNI=%{y}<extra></extra>",
         "legendgroup": "10.0",
         "line": {
          "color": "#FECB52",
          "dash": "solid"
         },
         "marker": {
          "symbol": "circle"
         },
         "mode": "lines",
         "name": "10.0",
         "orientation": "v",
         "showlegend": true,
         "type": "scatter",
         "x": {
          "bdata": "BAEFAQYBBwEIAQkBCgELAQwBDQEOAQ8BEAERARIBEwEUARUBFgEXARgBGQEaARsBHAEdAR4BHwEgASEBIgE=",
          "dtype": "i2"
         },
         "xaxis": "x",
         "y": {
          "bdata": "AAAAAABKgEBRnbOqqt5/QFGds6qq/nxAAAAAAADQdkAAAAAAANx6QFGds6qq2nlAr2JMVVUBe0CozllVVXOBQFGds6qqnntAr2JMVVVte0CvYkxVVUl9QK9iTFVVlXpAAAAAAACYekBYMaaqqhqCQFGds6qqzn5AAAAAAAB4fUC7JHPRRf+AQHZJ5qKLDn5AdknmoovOdkCKthlddPFyQOuSzEUXPYBAMG5ZdNF9gUBh3LLoort9QGHcsuiia3xAnyNNF12kfUAVbTO66FJ8QJ8jTRddRHtAAAAAAADwe0CKthlddFF5QEXbjC66QIBAYdyy6KILf0A=",
          "dtype": "f8"
         },
         "yaxis": "y"
        },
        {
         "hovertemplate": "Month=11.0<br>index=%{x}<br>Clearsky DNI=%{y}<extra></extra>",
         "legendgroup": "11.0",
         "line": {
          "color": "#636efa",
          "dash": "solid"
         },
         "marker": {
          "symbol": "circle"
         },
         "mode": "lines",
         "name": "11.0",
         "orientation": "v",
         "showlegend": true,
         "type": "scatter",
         "x": {
          "bdata": "IwEkASUBJgEnASgBKQEqASsBLAEtAS4BLwEwATEBMgEzATQBNQE2ATcBOAE5AToBOwE8AT0BPgE/AUAB",
          "dtype": "i2"
         },
         "xaxis": "x",
         "y": {
          "bdata": "KtpmdNGFckC0kIDRRSd6QNCRposu0oBAAAAAAABgg0AAAAAAAFCCQLSQgNFFZ3lAdknmootedkAq2mZ00cV2QExvfy66iHNAFW0zuuhidUAwbll00Z2AQOuSzEUX3XxATG9/LrrYekBh3LLoojt2QCraZnTRtXtAtJCA0UWXekDrksxFFx13QGHcsuii23VAAAAAAAB4ekAAAAAAALByQJqZmZmZKYJAMzMzMzOvhUAAAAAAAJCEQDMzMzMzH4RAMzMzMzOfhEAzMzMzM2uCQGZmZmZmxnZAMzMzMzN/gkCamZmZmVmDQGZmZmZmYoRA",
          "dtype": "f8"
         },
         "yaxis": "y"
        },
        {
         "hovertemplate": "Month=12.0<br>index=%{x}<br>Clearsky DNI=%{y}<extra></extra>",
         "legendgroup": "12.0",
         "line": {
          "color": "#EF553B",
          "dash": "solid"
         },
         "marker": {
          "symbol": "circle"
         },
         "mode": "lines",
         "name": "12.0",
         "orientation": "v",
         "showlegend": true,
         "type": "scatter",
         "x": {
          "bdata": "QQFCAUMBRAFFAUYBRwFIAUkBSgFLAUwBTQFOAU8BUAFRAVIBUwFUAVUBVgFXAVgBWQFaAVsBXAFdAV4B",
          "dtype": "i2"
         },
         "xaxis": "x",
         "y": {
          "bdata": "MzMzMzMLhUAzMzMzM+N+QAAAAAAAMIJAzczMzMx8hEDNzMzMzNSEQJqZmZmZ7YVAAAAAAADYhUDNzMzMzPCBQAAAAAAABINAmpmZmZl5hUAAAAAAAESDQM3MzMzMVH9AmpmZmZkZd0AAAAAAABh0QAAAAAAA+HFAmpmZmZm5aUAAAAAAAIiAQGZmZmZmXodAmpmZmZlphkAAAAAAAKCFQM3MzMzMJINAAAAAAAAIgkAzMzMzM4+BQGZmZmZmYoNAzczMzMzggEAAAAAAAJSEQJqZmZmZnYJAmpmZmZlBekAzMzMzM1N3QGZmZmZmxndA",
          "dtype": "f8"
         },
         "yaxis": "y"
        }
       ],
       "layout": {
        "legend": {
         "title": {
          "text": "Month"
         },
         "tracegroupgap": 0
        },
        "template": {
         "data": {
          "bar": [
           {
            "error_x": {
             "color": "#2a3f5f"
            },
            "error_y": {
             "color": "#2a3f5f"
            },
            "marker": {
             "line": {
              "color": "#E5ECF6",
              "width": 0.5
             },
             "pattern": {
              "fillmode": "overlay",
              "size": 10,
              "solidity": 0.2
             }
            },
            "type": "bar"
           }
          ],
          "barpolar": [
           {
            "marker": {
             "line": {
              "color": "#E5ECF6",
              "width": 0.5
             },
             "pattern": {
              "fillmode": "overlay",
              "size": 10,
              "solidity": 0.2
             }
            },
            "type": "barpolar"
           }
          ],
          "carpet": [
           {
            "aaxis": {
             "endlinecolor": "#2a3f5f",
             "gridcolor": "white",
             "linecolor": "white",
             "minorgridcolor": "white",
             "startlinecolor": "#2a3f5f"
            },
            "baxis": {
             "endlinecolor": "#2a3f5f",
             "gridcolor": "white",
             "linecolor": "white",
             "minorgridcolor": "white",
             "startlinecolor": "#2a3f5f"
            },
            "type": "carpet"
           }
          ],
          "choropleth": [
           {
            "colorbar": {
             "outlinewidth": 0,
             "ticks": ""
            },
            "type": "choropleth"
           }
          ],
          "contour": [
           {
            "colorbar": {
             "outlinewidth": 0,
             "ticks": ""
            },
            "colorscale": [
             [
              0,
              "#0d0887"
             ],
             [
              0.1111111111111111,
              "#46039f"
             ],
             [
              0.2222222222222222,
              "#7201a8"
             ],
             [
              0.3333333333333333,
              "#9c179e"
             ],
             [
              0.4444444444444444,
              "#bd3786"
             ],
             [
              0.5555555555555556,
              "#d8576b"
             ],
             [
              0.6666666666666666,
              "#ed7953"
             ],
             [
              0.7777777777777778,
              "#fb9f3a"
             ],
             [
              0.8888888888888888,
              "#fdca26"
             ],
             [
              1,
              "#f0f921"
             ]
            ],
            "type": "contour"
           }
          ],
          "contourcarpet": [
           {
            "colorbar": {
             "outlinewidth": 0,
             "ticks": ""
            },
            "type": "contourcarpet"
           }
          ],
          "heatmap": [
           {
            "colorbar": {
             "outlinewidth": 0,
             "ticks": ""
            },
            "colorscale": [
             [
              0,
              "#0d0887"
             ],
             [
              0.1111111111111111,
              "#46039f"
             ],
             [
              0.2222222222222222,
              "#7201a8"
             ],
             [
              0.3333333333333333,
              "#9c179e"
             ],
             [
              0.4444444444444444,
              "#bd3786"
             ],
             [
              0.5555555555555556,
              "#d8576b"
             ],
             [
              0.6666666666666666,
              "#ed7953"
             ],
             [
              0.7777777777777778,
              "#fb9f3a"
             ],
             [
              0.8888888888888888,
              "#fdca26"
             ],
             [
              1,
              "#f0f921"
             ]
            ],
            "type": "heatmap"
           }
          ],
          "histogram": [
           {
            "marker": {
             "pattern": {
              "fillmode": "overlay",
              "size": 10,
              "solidity": 0.2
             }
            },
            "type": "histogram"
           }
          ],
          "histogram2d": [
           {
            "colorbar": {
             "outlinewidth": 0,
             "ticks": ""
            },
            "colorscale": [
             [
              0,
              "#0d0887"
             ],
             [
              0.1111111111111111,
              "#46039f"
             ],
             [
              0.2222222222222222,
              "#7201a8"
             ],
             [
              0.3333333333333333,
              "#9c179e"
             ],
             [
              0.4444444444444444,
              "#bd3786"
             ],
             [
              0.5555555555555556,
              "#d8576b"
             ],
             [
              0.6666666666666666,
              "#ed7953"
             ],
             [
              0.7777777777777778,
              "#fb9f3a"
             ],
             [
              0.8888888888888888,
              "#fdca26"
             ],
             [
              1,
              "#f0f921"
             ]
            ],
            "type": "histogram2d"
           }
          ],
          "histogram2dcontour": [
           {
            "colorbar": {
             "outlinewidth": 0,
             "ticks": ""
            },
            "colorscale": [
             [
              0,
              "#0d0887"
             ],
             [
              0.1111111111111111,
              "#46039f"
             ],
             [
              0.2222222222222222,
              "#7201a8"
             ],
             [
              0.3333333333333333,
              "#9c179e"
             ],
             [
              0.4444444444444444,
              "#bd3786"
             ],
             [
              0.5555555555555556,
              "#d8576b"
             ],
             [
              0.6666666666666666,
              "#ed7953"
             ],
             [
              0.7777777777777778,
              "#fb9f3a"
             ],
             [
              0.8888888888888888,
              "#fdca26"
             ],
             [
              1,
              "#f0f921"
             ]
            ],
            "type": "histogram2dcontour"
           }
          ],
          "mesh3d": [
           {
            "colorbar": {
             "outlinewidth": 0,
             "ticks": ""
            },
            "type": "mesh3d"
           }
          ],
          "parcoords": [
           {
            "line": {
             "colorbar": {
              "outlinewidth": 0,
              "ticks": ""
             }
            },
            "type": "parcoords"
           }
          ],
          "pie": [
           {
            "automargin": true,
            "type": "pie"
           }
          ],
          "scatter": [
           {
            "fillpattern": {
             "fillmode": "overlay",
             "size": 10,
             "solidity": 0.2
            },
            "type": "scatter"
           }
          ],
          "scatter3d": [
           {
            "line": {
             "colorbar": {
              "outlinewidth": 0,
              "ticks": ""
             }
            },
            "marker": {
             "colorbar": {
              "outlinewidth": 0,
              "ticks": ""
             }
            },
            "type": "scatter3d"
           }
          ],
          "scattercarpet": [
           {
            "marker": {
             "colorbar": {
              "outlinewidth": 0,
              "ticks": ""
             }
            },
            "type": "scattercarpet"
           }
          ],
          "scattergeo": [
           {
            "marker": {
             "colorbar": {
              "outlinewidth": 0,
              "ticks": ""
             }
            },
            "type": "scattergeo"
           }
          ],
          "scattergl": [
           {
            "marker": {
             "colorbar": {
              "outlinewidth": 0,
              "ticks": ""
             }
            },
            "type": "scattergl"
           }
          ],
          "scattermap": [
           {
            "marker": {
             "colorbar": {
              "outlinewidth": 0,
              "ticks": ""
             }
            },
            "type": "scattermap"
           }
          ],
          "scattermapbox": [
           {
            "marker": {
             "colorbar": {
              "outlinewidth": 0,
              "ticks": ""
             }
            },
            "type": "scattermapbox"
           }
          ],
          "scatterpolar": [
           {
            "marker": {
             "colorbar": {
              "outlinewidth": 0,
              "ticks": ""
             }
            },
            "type": "scatterpolar"
           }
          ],
          "scatterpolargl": [
           {
            "marker": {
             "colorbar": {
              "outlinewidth": 0,
              "ticks": ""
             }
            },
            "type": "scatterpolargl"
           }
          ],
          "scatterternary": [
           {
            "marker": {
             "colorbar": {
              "outlinewidth": 0,
              "ticks": ""
             }
            },
            "type": "scatterternary"
           }
          ],
          "surface": [
           {
            "colorbar": {
             "outlinewidth": 0,
             "ticks": ""
            },
            "colorscale": [
             [
              0,
              "#0d0887"
             ],
             [
              0.1111111111111111,
              "#46039f"
             ],
             [
              0.2222222222222222,
              "#7201a8"
             ],
             [
              0.3333333333333333,
              "#9c179e"
             ],
             [
              0.4444444444444444,
              "#bd3786"
             ],
             [
              0.5555555555555556,
              "#d8576b"
             ],
             [
              0.6666666666666666,
              "#ed7953"
             ],
             [
              0.7777777777777778,
              "#fb9f3a"
             ],
             [
              0.8888888888888888,
              "#fdca26"
             ],
             [
              1,
              "#f0f921"
             ]
            ],
            "type": "surface"
           }
          ],
          "table": [
           {
            "cells": {
             "fill": {
              "color": "#EBF0F8"
             },
             "line": {
              "color": "white"
             }
            },
            "header": {
             "fill": {
              "color": "#C8D4E3"
             },
             "line": {
              "color": "white"
             }
            },
            "type": "table"
           }
          ]
         },
         "layout": {
          "annotationdefaults": {
           "arrowcolor": "#2a3f5f",
           "arrowhead": 0,
           "arrowwidth": 1
          },
          "autotypenumbers": "strict",
          "coloraxis": {
           "colorbar": {
            "outlinewidth": 0,
            "ticks": ""
           }
          },
          "colorscale": {
           "diverging": [
            [
             0,
             "#8e0152"
            ],
            [
             0.1,
             "#c51b7d"
            ],
            [
             0.2,
             "#de77ae"
            ],
            [
             0.3,
             "#f1b6da"
            ],
            [
             0.4,
             "#fde0ef"
            ],
            [
             0.5,
             "#f7f7f7"
            ],
            [
             0.6,
             "#e6f5d0"
            ],
            [
             0.7,
             "#b8e186"
            ],
            [
             0.8,
             "#7fbc41"
            ],
            [
             0.9,
             "#4d9221"
            ],
            [
             1,
             "#276419"
            ]
           ],
           "sequential": [
            [
             0,
             "#0d0887"
            ],
            [
             0.1111111111111111,
             "#46039f"
            ],
            [
             0.2222222222222222,
             "#7201a8"
            ],
            [
             0.3333333333333333,
             "#9c179e"
            ],
            [
             0.4444444444444444,
             "#bd3786"
            ],
            [
             0.5555555555555556,
             "#d8576b"
            ],
            [
             0.6666666666666666,
             "#ed7953"
            ],
            [
             0.7777777777777778,
             "#fb9f3a"
            ],
            [
             0.8888888888888888,
             "#fdca26"
            ],
            [
             1,
             "#f0f921"
            ]
           ],
           "sequentialminus": [
            [
             0,
             "#0d0887"
            ],
            [
             0.1111111111111111,
             "#46039f"
            ],
            [
             0.2222222222222222,
             "#7201a8"
            ],
            [
             0.3333333333333333,
             "#9c179e"
            ],
            [
             0.4444444444444444,
             "#bd3786"
            ],
            [
             0.5555555555555556,
             "#d8576b"
            ],
            [
             0.6666666666666666,
             "#ed7953"
            ],
            [
             0.7777777777777778,
             "#fb9f3a"
            ],
            [
             0.8888888888888888,
             "#fdca26"
            ],
            [
             1,
             "#f0f921"
            ]
           ]
          },
          "colorway": [
           "#636efa",
           "#EF553B",
           "#00cc96",
           "#ab63fa",
           "#FFA15A",
           "#19d3f3",
           "#FF6692",
           "#B6E880",
           "#FF97FF",
           "#FECB52"
          ],
          "font": {
           "color": "#2a3f5f"
          },
          "geo": {
           "bgcolor": "white",
           "lakecolor": "white",
           "landcolor": "#E5ECF6",
           "showlakes": true,
           "showland": true,
           "subunitcolor": "white"
          },
          "hoverlabel": {
           "align": "left"
          },
          "hovermode": "closest",
          "mapbox": {
           "style": "light"
          },
          "paper_bgcolor": "white",
          "plot_bgcolor": "#E5ECF6",
          "polar": {
           "angularaxis": {
            "gridcolor": "white",
            "linecolor": "white",
            "ticks": ""
           },
           "bgcolor": "#E5ECF6",
           "radialaxis": {
            "gridcolor": "white",
            "linecolor": "white",
            "ticks": ""
           }
          },
          "scene": {
           "xaxis": {
            "backgroundcolor": "#E5ECF6",
            "gridcolor": "white",
            "gridwidth": 2,
            "linecolor": "white",
            "showbackground": true,
            "ticks": "",
            "zerolinecolor": "white"
           },
           "yaxis": {
            "backgroundcolor": "#E5ECF6",
            "gridcolor": "white",
            "gridwidth": 2,
            "linecolor": "white",
            "showbackground": true,
            "ticks": "",
            "zerolinecolor": "white"
           },
           "zaxis": {
            "backgroundcolor": "#E5ECF6",
            "gridcolor": "white",
            "gridwidth": 2,
            "linecolor": "white",
            "showbackground": true,
            "ticks": "",
            "zerolinecolor": "white"
           }
          },
          "shapedefaults": {
           "line": {
            "color": "#2a3f5f"
           }
          },
          "ternary": {
           "aaxis": {
            "gridcolor": "white",
            "linecolor": "white",
            "ticks": ""
           },
           "baxis": {
            "gridcolor": "white",
            "linecolor": "white",
            "ticks": ""
           },
           "bgcolor": "#E5ECF6",
           "caxis": {
            "gridcolor": "white",
            "linecolor": "white",
            "ticks": ""
           }
          },
          "title": {
           "x": 0.05
          },
          "xaxis": {
           "automargin": true,
           "gridcolor": "white",
           "linecolor": "white",
           "ticks": "",
           "title": {
            "standoff": 15
           },
           "zerolinecolor": "white",
           "zerolinewidth": 2
          },
          "yaxis": {
           "automargin": true,
           "gridcolor": "white",
           "linecolor": "white",
           "ticks": "",
           "title": {
            "standoff": 15
           },
           "zerolinecolor": "white",
           "zerolinewidth": 2
          }
         }
        },
        "title": {
         "text": "Clearsky DNI over Months"
        },
        "xaxis": {
         "anchor": "y",
         "domain": [
          0,
          1
         ],
         "title": {
          "text": "index"
         }
        },
        "yaxis": {
         "anchor": "x",
         "domain": [
          0,
          1
         ],
         "title": {
          "text": "Clearsky DNI"
         }
        }
       }
      }
     },
     "metadata": {},
     "output_type": "display_data"
    },
    {
     "data": {
      "application/vnd.plotly.v1+json": {
       "config": {
        "plotlyServerURL": "https://plot.ly"
       },
       "data": [
        {
         "hovertemplate": "Month=1.0<br>index=%{x}<br>Clearsky GHI=%{y}<extra></extra>",
         "legendgroup": "1.0",
         "line": {
          "color": "#636efa",
          "dash": "solid"
         },
         "marker": {
          "symbol": "circle"
         },
         "mode": "lines",
         "name": "1.0",
         "orientation": "v",
         "showlegend": true,
         "type": "scatter",
         "x": {
          "bdata": "AAECAwQFBgcICQoLDA0ODxAREhMUFRYXGBkaGxwdHg==",
          "dtype": "i1"
         },
         "xaxis": "x",
         "y": {
          "bdata": "mpmZmZkxd0AAAAAAAJh5QJqZmZmZuXlAZmZmZmZWekAzMzMzM4N7QGZmZmZmXntAAAAAAADwe0CamZmZmZl4QM3MzMzMRHxAZmZmZmaOfUCamZmZmcl9QDMzMzMzW31AmpmZmZnxfUDNzMzMzKx6QIq2GV10oXdAirYZXXQRd0BMb38uuth1QCraZnTR1XdATG9/LrqoekC0kIDRRfd6QLSQgNFFV3tAtJCA0UU3d0DrksxFF917QLSQgNFFN35AYdyy6KJbfUB2Seaii258QLSQgNFFJ3xAAAAAAABgeUAq2mZ00bV6QNYlmYsuCn1AdknmootefkA=",
          "dtype": "f8"
         },
         "yaxis": "y"
        },
        {
         "hovertemplate": "Month=2.0<br>index=%{x}<br>Clearsky GHI=%{y}<extra></extra>",
         "legendgroup": "2.0",
         "line": {
          "color": "#EF553B",
          "dash": "solid"
         },
         "marker": {
          "symbol": "circle"
         },
         "mode": "lines",
         "name": "2.0",
         "orientation": "v",
         "showlegend": true,
         "type": "scatter",
         "x": {
          "bdata": "HyAhIiMkJSYnKCkqKywtLi8wMTIzNDU2Nzg5",
          "dtype": "i1"
         },
         "xaxis": "x",
         "y": {
          "bdata": "1iWZiy66fUAAAAAAAIB+QOuSzEUXHX1AKtpmdNGVekDWJZmLLsp8QLSQgNFFx3xAdknmooveekAAAAAAAAB+QNYlmYsumn9AAAAAAABIgEAwbll00S2AQOuSzEUX3X9AtJCA0UW3f0B2Seaii16AQHZJ5qKL1oBAMG5ZdNEVgUBaSMDoohOBQNCRposueoFAWkjA6KIjgECfI00XXcR9QIq2GV10QX1AtJCA0UU3fUAq2mZ00cV+QLSQgNFF939AMG5ZdNFlgEC7JHPRRQeBQEXbjC660IBA",
          "dtype": "f8"
         },
         "yaxis": "y"
        },
        {
         "hovertemplate": "Month=3.0<br>index=%{x}<br>Clearsky GHI=%{y}<extra></extra>",
         "legendgroup": "3.0",
         "line": {
          "color": "#00cc96",
          "dash": "solid"
         },
         "marker": {
          "symbol": "circle"
         },
         "mode": "lines",
         "name": "3.0",
         "orientation": "v",
         "showlegend": true,
         "type": "scatter",
         "x": {
          "bdata": "Ojs8PT4/QEFCQ0RFRkdISUpLTE0=",
          "dtype": "i1"
         },
         "xaxis": "x",
         "y": {
          "bdata": "WkjA6KIjgECmtz8XXXSAQFpIwOiiM4BAdknmootmgEC7JHPRRReBQAAAAAAAOH9AWDGmqqo0gEBYMaaqqh6BQAAAAAAAsoFAAAAAAAD8f0BRnbOqqtJ+QAAAAAAA8oBAWDGmqqoQgEBYMaaqqnSAQAAAAAAAcIBAAAAAAAAogUAAAAAAAIyBQAAAAAAA8oFAAAAAAADwgECozllVVYWBQA==",
          "dtype": "f8"
         },
         "yaxis": "y"
        },
        {
         "hovertemplate": "Month=4.0<br>index=%{x}<br>Clearsky GHI=%{y}<extra></extra>",
         "legendgroup": "4.0",
         "line": {
          "color": "#ab63fa",
          "dash": "solid"
         },
         "marker": {
          "symbol": "circle"
         },
         "mode": "lines",
         "name": "4.0",
         "orientation": "v",
         "showlegend": true,
         "type": "scatter",
         "x": {
          "bdata": "Tk9QUVJTVFVWV1hZWltcXV5fYGFiY2RlZmdoaWo=",
          "dtype": "i1"
         },
         "xaxis": "x",
         "y": {
          "bdata": "AAAAAAC4gkAAAAAAALCCQFgxpqqqloNAqM5ZVVU/g0CozllVVZ+DQAAAAAAAcINAAAAAAACqgkAAAAAAACqCQKjOWVVV2YJAWDGmqqoeg0BYMaaqquCCQKjOWVVVI4NAAAAAAACAg0CozllVVV+CQFgxpqqqgoJAWDGmqqpkg0CozllVVTeDQAAAAAAAvoJAqM5ZVVXhgkBYMaaqqjSDQKjOWVVVuYJAWDGmqqrGg0AAAAAAAPqCQAAAAAAAEoNAAAAAAABKg0CozllVVSmDQFgxpqqqrINAqM5ZVVV5g0CozllVVVODQA==",
          "dtype": "f8"
         },
         "yaxis": "y"
        },
        {
         "hovertemplate": "Month=5.0<br>index=%{x}<br>Clearsky GHI=%{y}<extra></extra>",
         "legendgroup": "5.0",
         "line": {
          "color": "#FFA15A",
          "dash": "solid"
         },
         "marker": {
          "symbol": "circle"
         },
         "mode": "lines",
         "name": "5.0",
         "orientation": "v",
         "showlegend": true,
         "type": "scatter",
         "x": {
          "bdata": "awBsAG0AbgBvAHAAcQByAHMAdAB1AHYAdwB4AHkAegB7AHwAfQB+AH8AgACBAIIAgwCEAIUAhgCHAIgAiQA=",
          "dtype": "i2"
         },
         "xaxis": "x",
         "y": {
          "bdata": "AAAAAABag0BYMaaqqliDQFgxpqqqgoNAAAAAAABkg0CozllVVbuDQGW3hZ3YsYJA6Wy3EzuJgkDC2hg7sdOCQJtIemInroJA2W1hJ3ZKgkAAAAAAALiCQANkQ5IkAYFAApjXtm1vgUD/M5QkSfKAQANkQ5Ik/YBA/Zu8bdsygUAAAAAAAFCBQP5nKEmSrIBA/Zu8bdtSgUD9m7xt29KAQP8zlCRJ8oFAAcxr27YRgkD+ZyhJkmCBQP2bvG3bwoBAAAAAAAAEgUD/M5QkSTqBQP8zlCRJMoFA/Zu8bds+gUADZEOSJFmAQAAAAAAAvIBA/Zu8bdsWgUA=",
          "dtype": "f8"
         },
         "yaxis": "y"
        },
        {
         "hovertemplate": "Month=6.0<br>index=%{x}<br>Clearsky GHI=%{y}<extra></extra>",
         "legendgroup": "6.0",
         "line": {
          "color": "#19d3f3",
          "dash": "solid"
         },
         "marker": {
          "symbol": "circle"
         },
         "mode": "lines",
         "name": "6.0",
         "orientation": "v",
         "showlegend": true,
         "type": "scatter",
         "x": {
          "bdata": "igCLAIwAjQCOAI8AkACRAJIAkwCUAJUAlgCXAJgAmQCaAJsAnACdAJ4AnwCgAKEAogCjAKQApQCmAKcA",
          "dtype": "i2"
         },
         "xaxis": "x",
         "y": {
          "bdata": "ApjXtm3DgED/M5QkSX6AQAKY17ZtT4FA/Zu8bdv+gEAAAAAAABCBQP8zlCRJ/oBA/mcoSZJAgUABzGvbtsGAQANkQ5IkRYFAA2RDkiQlgUD+ZyhJkrR/QAKY17Ztt4BAAAAAAADUgED/M5QkSbKAQAAAAAAAoIBAA2RDkiQdgUD+ZyhJkpSAQAHMa9u2bYBA/Zu8bdtmgEAAAAAAAASAQP2bvG3b1oBAA2RDkiRBgUACmNe2bSuBQP5nKEmSRIFA/mcoSZLogEACmNe2baeAQAAAAAAA8H5AA2RDkiQRgED8z1CSJKF/QE4kPbET04BA",
          "dtype": "f8"
         },
         "yaxis": "y"
        },
        {
         "hovertemplate": "Month=7.0<br>index=%{x}<br>Clearsky GHI=%{y}<extra></extra>",
         "legendgroup": "7.0",
         "line": {
          "color": "#FF6692",
          "dash": "solid"
         },
         "marker": {
          "symbol": "circle"
         },
         "mode": "lines",
         "name": "7.0",
         "orientation": "v",
         "showlegend": true,
         "type": "scatter",
         "x": {
          "bdata": "qACpAKoAqwCsAK0ArgCvALAAsQCyALMAtAC1ALYAtwC4ALkAugC7ALwAvQC+AL8AwADBAMIAwwDEAMUAxgA=",
          "dtype": "i2"
         },
         "xaxis": "x",
         "y": {
          "bdata": "/zOUJEl6gED/M5QkSbaAQP5nKEmSAIBAA2RDkiRFgEAAAAAAAAiBQP8zlCRJGoFA/zOUJEl6gUD/M5QkSW6BQAAAAAAAhIFAZbeFndjZgUDZbWEndnqBQOlstxM7OYJA2W1hJ3bagUAXk0jsxLaBQNltYSd2yoFAdbbbiZ1ggkDpbLcTO1GCQHW224mdKIJAPiXnxE4UgkAAAAAAAICBQNltYSd2qoFAstvCTuyMgUBlt4Wd2MmBQOlstxM70YFAwtoYO7GzgUA+JefETmyBQLLbwk7svIFAPiXnxE4EgUB1ttuJnQiCQNltYSd2goFAi0kkdmKfgUA=",
          "dtype": "f8"
         },
         "yaxis": "y"
        },
        {
         "hovertemplate": "Month=8.0<br>index=%{x}<br>Clearsky GHI=%{y}<extra></extra>",
         "legendgroup": "8.0",
         "line": {
          "color": "#B6E880",
          "dash": "solid"
         },
         "marker": {
          "symbol": "circle"
         },
         "mode": "lines",
         "name": "8.0",
         "orientation": "v",
         "showlegend": true,
         "type": "scatter",
         "x": {
          "bdata": "xwDIAMkAygDLAMwAzQDOAM8A0ADRANIA0wDUANUA1gDXANgA2QDaANsA3ADdAN4A3wDgAOEA4gDjAOQA5QA=",
          "dtype": "i2"
         },
         "xaxis": "x",
         "y": {
          "bdata": "TiQ9sRObgUB1ttuJnZiBQBeTSOzE9oBAF5NI7MTegECy28JO7LSBQItJJHZix4FAstvCTuwsgkDZbWEndgKCQBeTSOzERoFAi0kkdmLPgUAXk0jsxIaBQAAAAAAAoIFAm0h6YifmgUCbSHpiJ4aBQCeSntiJhYFAwtoYO7GLgUDZbWEndqqBQAAAAAAA6IJAqM5ZVVXBgkAAAAAAACKDQFgxpqqq/IJAqM5ZVVUFg0CozllVVTeDQFgxpqqqGoNAWDGmqqrmgkCozllVVcWCQFgxpqqqtoJAqM5ZVVVPgkCozllVVaGCQFgxpqqqzIJAAAAAAACKgkA=",
          "dtype": "f8"
         },
         "yaxis": "y"
        },
        {
         "hovertemplate": "Month=9.0<br>index=%{x}<br>Clearsky GHI=%{y}<extra></extra>",
         "legendgroup": "9.0",
         "line": {
          "color": "#FF97FF",
          "dash": "solid"
         },
         "marker": {
          "symbol": "circle"
         },
         "mode": "lines",
         "name": "9.0",
         "orientation": "v",
         "showlegend": true,
         "type": "scatter",
         "x": {
          "bdata": "5gDnAOgA6QDqAOsA7ADtAO4A7wDwAPEA8gDzAPQA9QD2APcA+AD5APoA+wD8AP0A/gD/AAABAQECAQMB",
          "dtype": "i2"
         },
         "xaxis": "x",
         "y": {
          "bdata": "AAAAAABygkCozllVVeuBQAAAAAAAQoJAAAAAAADwgUAAAAAAAOaBQAAAAAAAioFAWDGmqqpcgUAAAAAAADCBQKjOWVVVJYFAWDGmqqrWgEBYMaaqqoqAQFgxpqqqfoBAUZ2zqqq2f0CvYkxVVTF/QKjOWVVVLYBAUZ2zqqref0AAAAAAACR/QAAAAAAAgH9Ar2JMVVVlfkBRnbOqqrZ/QAAAAAAAmIBAWDGmqqrWgECozllVVYOAQKjOWVVV84BAAAAAAADGgECozllVVSeAQAAAAAAAqH5AUZ2zqqouf0AAAAAAAMx/QAAAAAAAhH9A",
          "dtype": "f8"
         },
         "yaxis": "y"
        },
        {
         "hovertemplate": "Month=10.0<br>index=%{x}<br>Clearsky GHI=%{y}<extra></extra>",
         "legendgroup": "10.0",
         "line": {
          "color": "#FECB52",
          "dash": "solid"
         },
         "marker": {
          "symbol": "circle"
         },
         "mode": "lines",
         "name": "10.0",
         "orientation": "v",
         "showlegend": true,
         "type": "scatter",
         "x": {
          "bdata": "BAEFAQYBBwEIAQkBCgELAQwBDQEOAQ8BEAERARIBEwEUARUBFgEXARgBGQEaARsBHAEdAR4BHwEgASEBIgE=",
          "dtype": "i2"
         },
         "xaxis": "x",
         "y": {
          "bdata": "r2JMVVWZf0BRnbOqqnJ/QFGds6qqtn5AAAAAAABYfUAAAAAAABB+QAAAAAAAnH1AAAAAAACcfUAAAAAAACx/QAAAAAAAOH1Ar2JMVVU5fUBRnbOqqnZ9QFGds6qqznxAUZ2zqqpqfEBRnbOqqvZ9QFGds6qq4nxAAAAAAACIfECKthlddGF/QCraZnTRtX5AirYZXXRhfUBMb38uuih8QCraZnTRlX5A1iWZiy46f0Bh3LLoovt9QBVtM7ro4n1A65LMRRftfUAAAAAAAEB9QIq2GV108XxAdknmoosOfUAVbTO66GJ8QLSQgNFFt31AAAAAAACAfEA=",
          "dtype": "f8"
         },
         "yaxis": "y"
        },
        {
         "hovertemplate": "Month=11.0<br>index=%{x}<br>Clearsky GHI=%{y}<extra></extra>",
         "legendgroup": "11.0",
         "line": {
          "color": "#636efa",
          "dash": "solid"
         },
         "marker": {
          "symbol": "circle"
         },
         "mode": "lines",
         "name": "11.0",
         "orientation": "v",
         "showlegend": true,
         "type": "scatter",
         "x": {
          "bdata": "IwEkASUBJgEnASgBKQEqASsBLAEtAS4BLwEwATEBMgEzATQBNQE2ATcBOAE5AToBOwE8AT0BPgE/AUAB",
          "dtype": "i2"
         },
         "xaxis": "x",
         "y": {
          "bdata": "tJCA0UWneUCKthlddCF7QGHcsuiiC31AnyNNF100fkBh3LLoomt9QCraZnTRpXpAnyNNF13keUAVbTO66PJ5QExvfy66yHhAAAAAAABgeUAVbTO66KJ7QOuSzEUXXXpAirYZXXSheUCfI00XXZR4QAAAAAAAgHlAAAAAAAAweUDrksxFF814QExvfy66OHhAAAAAAAAwe0AAAAAAAMB5QJqZmZmZMX1AMzMzMzNDfkCamZmZmbF9QM3MzMzMlH1AmpmZmZnBfUCamZmZmSl8QDMzMzMze3lAmpmZmZlJfEAAAAAAAJh8QM3MzMzMvHxA",
          "dtype": "f8"
         },
         "yaxis": "y"
        },
        {
         "hovertemplate": "Month=12.0<br>index=%{x}<br>Clearsky GHI=%{y}<extra></extra>",
         "legendgroup": "12.0",
         "line": {
          "color": "#EF553B",
          "dash": "solid"
         },
         "marker": {
          "symbol": "circle"
         },
         "mode": "lines",
         "name": "12.0",
         "orientation": "v",
         "showlegend": true,
         "type": "scatter",
         "x": {
          "bdata": "QQFCAUMBRAFFAUYBRwFIAUkBSgFLAUwBTQFOAU8BUAFRAVIBUwFUAVUBVgFXAVgBWQFaAVsBXAFdAV4B",
          "dtype": "i2"
         },
         "xaxis": "x",
         "y": {
          "bdata": "ZmZmZmaufEAAAAAAAEB6QAAAAAAAcHtAAAAAAAA4fEAzMzMzMxt8QJqZmZmZWXxAMzMzMzMzfEDNzMzMzNR6QAAAAAAAMHtAAAAAAADQe0DNzMzMzJR6QAAAAAAAeHlAmpmZmZkxeEDNzMzMzAx4QGZmZmZmzndAAAAAAADgdkBmZmZmZlZ6QAAAAAAASH1AzczMzMy0fEAzMzMzM1N8QJqZmZmZYXtAmpmZmZm5ekAzMzMzM5N6QGZmZmZmXntAZmZmZmaGekAzMzMzMwt8QAAAAAAA+HpAMzMzMzMTeUCamZmZmUF4QGZmZmZmZnhA",
          "dtype": "f8"
         },
         "yaxis": "y"
        }
       ],
       "layout": {
        "legend": {
         "title": {
          "text": "Month"
         },
         "tracegroupgap": 0
        },
        "template": {
         "data": {
          "bar": [
           {
            "error_x": {
             "color": "#2a3f5f"
            },
            "error_y": {
             "color": "#2a3f5f"
            },
            "marker": {
             "line": {
              "color": "#E5ECF6",
              "width": 0.5
             },
             "pattern": {
              "fillmode": "overlay",
              "size": 10,
              "solidity": 0.2
             }
            },
            "type": "bar"
           }
          ],
          "barpolar": [
           {
            "marker": {
             "line": {
              "color": "#E5ECF6",
              "width": 0.5
             },
             "pattern": {
              "fillmode": "overlay",
              "size": 10,
              "solidity": 0.2
             }
            },
            "type": "barpolar"
           }
          ],
          "carpet": [
           {
            "aaxis": {
             "endlinecolor": "#2a3f5f",
             "gridcolor": "white",
             "linecolor": "white",
             "minorgridcolor": "white",
             "startlinecolor": "#2a3f5f"
            },
            "baxis": {
             "endlinecolor": "#2a3f5f",
             "gridcolor": "white",
             "linecolor": "white",
             "minorgridcolor": "white",
             "startlinecolor": "#2a3f5f"
            },
            "type": "carpet"
           }
          ],
          "choropleth": [
           {
            "colorbar": {
             "outlinewidth": 0,
             "ticks": ""
            },
            "type": "choropleth"
           }
          ],
          "contour": [
           {
            "colorbar": {
             "outlinewidth": 0,
             "ticks": ""
            },
            "colorscale": [
             [
              0,
              "#0d0887"
             ],
             [
              0.1111111111111111,
              "#46039f"
             ],
             [
              0.2222222222222222,
              "#7201a8"
             ],
             [
              0.3333333333333333,
              "#9c179e"
             ],
             [
              0.4444444444444444,
              "#bd3786"
             ],
             [
              0.5555555555555556,
              "#d8576b"
             ],
             [
              0.6666666666666666,
              "#ed7953"
             ],
             [
              0.7777777777777778,
              "#fb9f3a"
             ],
             [
              0.8888888888888888,
              "#fdca26"
             ],
             [
              1,
              "#f0f921"
             ]
            ],
            "type": "contour"
           }
          ],
          "contourcarpet": [
           {
            "colorbar": {
             "outlinewidth": 0,
             "ticks": ""
            },
            "type": "contourcarpet"
           }
          ],
          "heatmap": [
           {
            "colorbar": {
             "outlinewidth": 0,
             "ticks": ""
            },
            "colorscale": [
             [
              0,
              "#0d0887"
             ],
             [
              0.1111111111111111,
              "#46039f"
             ],
             [
              0.2222222222222222,
              "#7201a8"
             ],
             [
              0.3333333333333333,
              "#9c179e"
             ],
             [
              0.4444444444444444,
              "#bd3786"
             ],
             [
              0.5555555555555556,
              "#d8576b"
             ],
             [
              0.6666666666666666,
              "#ed7953"
             ],
             [
              0.7777777777777778,
              "#fb9f3a"
             ],
             [
              0.8888888888888888,
              "#fdca26"
             ],
             [
              1,
              "#f0f921"
             ]
            ],
            "type": "heatmap"
           }
          ],
          "histogram": [
           {
            "marker": {
             "pattern": {
              "fillmode": "overlay",
              "size": 10,
              "solidity": 0.2
             }
            },
            "type": "histogram"
           }
          ],
          "histogram2d": [
           {
            "colorbar": {
             "outlinewidth": 0,
             "ticks": ""
            },
            "colorscale": [
             [
              0,
              "#0d0887"
             ],
             [
              0.1111111111111111,
              "#46039f"
             ],
             [
              0.2222222222222222,
              "#7201a8"
             ],
             [
              0.3333333333333333,
              "#9c179e"
             ],
             [
              0.4444444444444444,
              "#bd3786"
             ],
             [
              0.5555555555555556,
              "#d8576b"
             ],
             [
              0.6666666666666666,
              "#ed7953"
             ],
             [
              0.7777777777777778,
              "#fb9f3a"
             ],
             [
              0.8888888888888888,
              "#fdca26"
             ],
             [
              1,
              "#f0f921"
             ]
            ],
            "type": "histogram2d"
           }
          ],
          "histogram2dcontour": [
           {
            "colorbar": {
             "outlinewidth": 0,
             "ticks": ""
            },
            "colorscale": [
             [
              0,
              "#0d0887"
             ],
             [
              0.1111111111111111,
              "#46039f"
             ],
             [
              0.2222222222222222,
              "#7201a8"
             ],
             [
              0.3333333333333333,
              "#9c179e"
             ],
             [
              0.4444444444444444,
              "#bd3786"
             ],
             [
              0.5555555555555556,
              "#d8576b"
             ],
             [
              0.6666666666666666,
              "#ed7953"
             ],
             [
              0.7777777777777778,
              "#fb9f3a"
             ],
             [
              0.8888888888888888,
              "#fdca26"
             ],
             [
              1,
              "#f0f921"
             ]
            ],
            "type": "histogram2dcontour"
           }
          ],
          "mesh3d": [
           {
            "colorbar": {
             "outlinewidth": 0,
             "ticks": ""
            },
            "type": "mesh3d"
           }
          ],
          "parcoords": [
           {
            "line": {
             "colorbar": {
              "outlinewidth": 0,
              "ticks": ""
             }
            },
            "type": "parcoords"
           }
          ],
          "pie": [
           {
            "automargin": true,
            "type": "pie"
           }
          ],
          "scatter": [
           {
            "fillpattern": {
             "fillmode": "overlay",
             "size": 10,
             "solidity": 0.2
            },
            "type": "scatter"
           }
          ],
          "scatter3d": [
           {
            "line": {
             "colorbar": {
              "outlinewidth": 0,
              "ticks": ""
             }
            },
            "marker": {
             "colorbar": {
              "outlinewidth": 0,
              "ticks": ""
             }
            },
            "type": "scatter3d"
           }
          ],
          "scattercarpet": [
           {
            "marker": {
             "colorbar": {
              "outlinewidth": 0,
              "ticks": ""
             }
            },
            "type": "scattercarpet"
           }
          ],
          "scattergeo": [
           {
            "marker": {
             "colorbar": {
              "outlinewidth": 0,
              "ticks": ""
             }
            },
            "type": "scattergeo"
           }
          ],
          "scattergl": [
           {
            "marker": {
             "colorbar": {
              "outlinewidth": 0,
              "ticks": ""
             }
            },
            "type": "scattergl"
           }
          ],
          "scattermap": [
           {
            "marker": {
             "colorbar": {
              "outlinewidth": 0,
              "ticks": ""
             }
            },
            "type": "scattermap"
           }
          ],
          "scattermapbox": [
           {
            "marker": {
             "colorbar": {
              "outlinewidth": 0,
              "ticks": ""
             }
            },
            "type": "scattermapbox"
           }
          ],
          "scatterpolar": [
           {
            "marker": {
             "colorbar": {
              "outlinewidth": 0,
              "ticks": ""
             }
            },
            "type": "scatterpolar"
           }
          ],
          "scatterpolargl": [
           {
            "marker": {
             "colorbar": {
              "outlinewidth": 0,
              "ticks": ""
             }
            },
            "type": "scatterpolargl"
           }
          ],
          "scatterternary": [
           {
            "marker": {
             "colorbar": {
              "outlinewidth": 0,
              "ticks": ""
             }
            },
            "type": "scatterternary"
           }
          ],
          "surface": [
           {
            "colorbar": {
             "outlinewidth": 0,
             "ticks": ""
            },
            "colorscale": [
             [
              0,
              "#0d0887"
             ],
             [
              0.1111111111111111,
              "#46039f"
             ],
             [
              0.2222222222222222,
              "#7201a8"
             ],
             [
              0.3333333333333333,
              "#9c179e"
             ],
             [
              0.4444444444444444,
              "#bd3786"
             ],
             [
              0.5555555555555556,
              "#d8576b"
             ],
             [
              0.6666666666666666,
              "#ed7953"
             ],
             [
              0.7777777777777778,
              "#fb9f3a"
             ],
             [
              0.8888888888888888,
              "#fdca26"
             ],
             [
              1,
              "#f0f921"
             ]
            ],
            "type": "surface"
           }
          ],
          "table": [
           {
            "cells": {
             "fill": {
              "color": "#EBF0F8"
             },
             "line": {
              "color": "white"
             }
            },
            "header": {
             "fill": {
              "color": "#C8D4E3"
             },
             "line": {
              "color": "white"
             }
            },
            "type": "table"
           }
          ]
         },
         "layout": {
          "annotationdefaults": {
           "arrowcolor": "#2a3f5f",
           "arrowhead": 0,
           "arrowwidth": 1
          },
          "autotypenumbers": "strict",
          "coloraxis": {
           "colorbar": {
            "outlinewidth": 0,
            "ticks": ""
           }
          },
          "colorscale": {
           "diverging": [
            [
             0,
             "#8e0152"
            ],
            [
             0.1,
             "#c51b7d"
            ],
            [
             0.2,
             "#de77ae"
            ],
            [
             0.3,
             "#f1b6da"
            ],
            [
             0.4,
             "#fde0ef"
            ],
            [
             0.5,
             "#f7f7f7"
            ],
            [
             0.6,
             "#e6f5d0"
            ],
            [
             0.7,
             "#b8e186"
            ],
            [
             0.8,
             "#7fbc41"
            ],
            [
             0.9,
             "#4d9221"
            ],
            [
             1,
             "#276419"
            ]
           ],
           "sequential": [
            [
             0,
             "#0d0887"
            ],
            [
             0.1111111111111111,
             "#46039f"
            ],
            [
             0.2222222222222222,
             "#7201a8"
            ],
            [
             0.3333333333333333,
             "#9c179e"
            ],
            [
             0.4444444444444444,
             "#bd3786"
            ],
            [
             0.5555555555555556,
             "#d8576b"
            ],
            [
             0.6666666666666666,
             "#ed7953"
            ],
            [
             0.7777777777777778,
             "#fb9f3a"
            ],
            [
             0.8888888888888888,
             "#fdca26"
            ],
            [
             1,
             "#f0f921"
            ]
           ],
           "sequentialminus": [
            [
             0,
             "#0d0887"
            ],
            [
             0.1111111111111111,
             "#46039f"
            ],
            [
             0.2222222222222222,
             "#7201a8"
            ],
            [
             0.3333333333333333,
             "#9c179e"
            ],
            [
             0.4444444444444444,
             "#bd3786"
            ],
            [
             0.5555555555555556,
             "#d8576b"
            ],
            [
             0.6666666666666666,
             "#ed7953"
            ],
            [
             0.7777777777777778,
             "#fb9f3a"
            ],
            [
             0.8888888888888888,
             "#fdca26"
            ],
            [
             1,
             "#f0f921"
            ]
           ]
          },
          "colorway": [
           "#636efa",
           "#EF553B",
           "#00cc96",
           "#ab63fa",
           "#FFA15A",
           "#19d3f3",
           "#FF6692",
           "#B6E880",
           "#FF97FF",
           "#FECB52"
          ],
          "font": {
           "color": "#2a3f5f"
          },
          "geo": {
           "bgcolor": "white",
           "lakecolor": "white",
           "landcolor": "#E5ECF6",
           "showlakes": true,
           "showland": true,
           "subunitcolor": "white"
          },
          "hoverlabel": {
           "align": "left"
          },
          "hovermode": "closest",
          "mapbox": {
           "style": "light"
          },
          "paper_bgcolor": "white",
          "plot_bgcolor": "#E5ECF6",
          "polar": {
           "angularaxis": {
            "gridcolor": "white",
            "linecolor": "white",
            "ticks": ""
           },
           "bgcolor": "#E5ECF6",
           "radialaxis": {
            "gridcolor": "white",
            "linecolor": "white",
            "ticks": ""
           }
          },
          "scene": {
           "xaxis": {
            "backgroundcolor": "#E5ECF6",
            "gridcolor": "white",
            "gridwidth": 2,
            "linecolor": "white",
            "showbackground": true,
            "ticks": "",
            "zerolinecolor": "white"
           },
           "yaxis": {
            "backgroundcolor": "#E5ECF6",
            "gridcolor": "white",
            "gridwidth": 2,
            "linecolor": "white",
            "showbackground": true,
            "ticks": "",
            "zerolinecolor": "white"
           },
           "zaxis": {
            "backgroundcolor": "#E5ECF6",
            "gridcolor": "white",
            "gridwidth": 2,
            "linecolor": "white",
            "showbackground": true,
            "ticks": "",
            "zerolinecolor": "white"
           }
          },
          "shapedefaults": {
           "line": {
            "color": "#2a3f5f"
           }
          },
          "ternary": {
           "aaxis": {
            "gridcolor": "white",
            "linecolor": "white",
            "ticks": ""
           },
           "baxis": {
            "gridcolor": "white",
            "linecolor": "white",
            "ticks": ""
           },
           "bgcolor": "#E5ECF6",
           "caxis": {
            "gridcolor": "white",
            "linecolor": "white",
            "ticks": ""
           }
          },
          "title": {
           "x": 0.05
          },
          "xaxis": {
           "automargin": true,
           "gridcolor": "white",
           "linecolor": "white",
           "ticks": "",
           "title": {
            "standoff": 15
           },
           "zerolinecolor": "white",
           "zerolinewidth": 2
          },
          "yaxis": {
           "automargin": true,
           "gridcolor": "white",
           "linecolor": "white",
           "ticks": "",
           "title": {
            "standoff": 15
           },
           "zerolinecolor": "white",
           "zerolinewidth": 2
          }
         }
        },
        "title": {
         "text": "Clearsky GHI over Months"
        },
        "xaxis": {
         "anchor": "y",
         "domain": [
          0,
          1
         ],
         "title": {
          "text": "index"
         }
        },
        "yaxis": {
         "anchor": "x",
         "domain": [
          0,
          1
         ],
         "title": {
          "text": "Clearsky GHI"
         }
        }
       }
      }
     },
     "metadata": {},
     "output_type": "display_data"
    },
    {
     "data": {
      "application/vnd.plotly.v1+json": {
       "config": {
        "plotlyServerURL": "https://plot.ly"
       },
       "data": [
        {
         "hovertemplate": "Month=1.0<br>index=%{x}<br>DHI=%{y}<extra></extra>",
         "legendgroup": "1.0",
         "line": {
          "color": "#636efa",
          "dash": "solid"
         },
         "marker": {
          "symbol": "circle"
         },
         "mode": "lines",
         "name": "1.0",
         "orientation": "v",
         "showlegend": true,
         "type": "scatter",
         "x": {
          "bdata": "AAECAwQFBgcICQoLDA0ODxAREhMUFRYXGBkaGxwdHg==",
          "dtype": "i1"
         },
         "xaxis": "x",
         "y": {
          "bdata": "mpmZmZl5ZEAzMzMzM0NmQJqZmZmZiWhAZmZmZmY2aUCamZmZmRlkQJqZmZmZ2WBAMzMzMzODYEAAAAAAANBlQM3MzMzM3GNAmpmZmZk5XkBmZmZmZqZcQAAAAAAA4FtAmpmZmZk5VkAAAAAAAEBnQBVtM7roQmlAP0eaLrqoakCtSzIXXbRgQAAAAAAAoGpAmN7+XHQRYkCY3v5cdFFgQD9Hmi666GFAAAAAAAAAbECY3v5cdBFgQMQ6uOiiC1VAPMVHF130VUAAAAAAAMBcQINxy6KL7ltAaCEBo4vuaUAAAAAAACBpQK1LMhddlGBAAAAAAAAAWUA=",
          "dtype": "f8"
         },
         "yaxis": "y"
        },
        {
         "hovertemplate": "Month=2.0<br>index=%{x}<br>DHI=%{y}<extra></extra>",
         "legendgroup": "2.0",
         "line": {
          "color": "#EF553B",
          "dash": "solid"
         },
         "marker": {
          "symbol": "circle"
         },
         "mode": "lines",
         "name": "2.0",
         "orientation": "v",
         "showlegend": true,
         "type": "scatter",
         "x": {
          "bdata": "HyAhIiMkJSYnKCkqKywtLi8wMTIzNDU2Nzg5",
          "dtype": "i1"
         },
         "xaxis": "x",
         "y": {
          "bdata": "U7TN6KJLXUB9jjRddFFcQFO0zeiia2JAAAAAAABAY0Aq2mZ00WVlQD9Hmi666GZAaCEBo4sOb0CY3v5cdNFlQAAAAAAAoGBAfY40XXQRXUCnaJvRRZdeQFmXZC666F9AU7TN6KKLXUDQQgJGF11bQJ7io4suelZAYh1cdNEFWECnaJvRRddaQNmn66KLrldArUsyF11UbEDrksxFF71pQMG4ZdFF129AYdyy6KKLcEAq2mZ00cVtQNYlmYsuWmxAAAAAAABgaEAq2mZ00UVjQJje/lx0UWVA",
          "dtype": "f8"
         },
         "yaxis": "y"
        },
        {
         "hovertemplate": "Month=3.0<br>index=%{x}<br>DHI=%{y}<extra></extra>",
         "legendgroup": "3.0",
         "line": {
          "color": "#00cc96",
          "dash": "solid"
         },
         "marker": {
          "symbol": "circle"
         },
         "mode": "lines",
         "name": "3.0",
         "orientation": "v",
         "showlegend": true,
         "type": "scatter",
         "x": {
          "bdata": "Ojs8PT4/QEFCQ0RFRkdISUpLTE0=",
          "dtype": "i1"
         },
         "xaxis": "x",
         "y": {
          "bdata": "rUsyF13UYkCY3v5cdFFpQNYlmYsu+mtAwbhl0UU3bEDWJZmLLlpqQKI6Z1VV1WZAXsWYqqoyZ0CiOmdVVa1gQEN1zqqqGllAAAAAAABQZ0BexZiqqkJsQAAAAAAAEGFAojpnVVUNa0AAAAAAAPhjQKI6Z1VV5WlAAAAAAAAQZUCiOmdVVWViQAAAAAAA4F5AojpnVVXla0CiOmdVVV1pQA==",
          "dtype": "f8"
         },
         "yaxis": "y"
        },
        {
         "hovertemplate": "Month=4.0<br>index=%{x}<br>DHI=%{y}<extra></extra>",
         "legendgroup": "4.0",
         "line": {
          "color": "#ab63fa",
          "dash": "solid"
         },
         "marker": {
          "symbol": "circle"
         },
         "mode": "lines",
         "name": "4.0",
         "orientation": "v",
         "showlegend": true,
         "type": "scatter",
         "x": {
          "bdata": "Tk9QUVJTVFVWV1hZWltcXV5fYGFiY2RlZmdoaWo=",
          "dtype": "i1"
         },
         "xaxis": "x",
         "y": {
          "bdata": "AAAAAABYYUBexZiqqkJjQAAAAAAAgF9AXsWYqqrSYEBDdc6qqupfQAAAAAAAsGBAAAAAAADgZUAAAAAAAIhrQF7FmKqqAmdAXsWYqqoyZUAAAAAAAEBqQKI6Z1VVdWVAXsWYqqoyY0BexZiqqgpvQAAAAAAAuGhAXsWYqqpyZECiOmdVVYVmQK9iTFVVNXBAXsWYqqoqakCvYkxVVU1xQKI6Z1VVfWxAXsWYqqpCaUCiOmdVVYVsQF7FmKqqgmpAXsWYqqpSY0AAAAAAAFBlQF7FmKqqAmpAojpnVVVVZ0BexZiqqlpsQA==",
          "dtype": "f8"
         },
         "yaxis": "y"
        },
        {
         "hovertemplate": "Month=5.0<br>index=%{x}<br>DHI=%{y}<extra></extra>",
         "legendgroup": "5.0",
         "line": {
          "color": "#FFA15A",
          "dash": "solid"
         },
         "marker": {
          "symbol": "circle"
         },
         "mode": "lines",
         "name": "5.0",
         "orientation": "v",
         "showlegend": true,
         "type": "scatter",
         "x": {
          "bdata": "awBsAG0AbgBvAHAAcQByAHMAdAB1AHYAdwB4AHkAegB7AHwAfQB+AH8AgACBAIIAgwCEAIUAhgCHAIgAiQA=",
          "dtype": "i2"
         },
         "xaxis": "x",
         "y": {
          "bdata": "AAAAAAAoakCiOmdVVU1rQF7FmKqqimdAojpnVVXlZkCiOmdVVX1kQMluCzuxk2ZAbiLpiZ04ZkCS3RZ2YgdkQAlrY+zEjmJAyW4LO7FzZ0BuIumJnfhgQAuQDUmSFG5AC5ANSZJUZUD1b/K2bVtkQAuQDUmSBGhA9W/ytm07YkALkA1JkpRlQPVv8rZty2dABDCvbdsWbED4n6EkSdJtQAuQDUmSZGJAAAAAAADwYEAEMK9t24ZkQAAAAAAAUGlAAAAAAABAakD8z1CSJLlpQPVv8rZtC2JA9W/ytm0bZUD1b/K2bctrQAAAAAAAIGxABDCvbdtmZ0A=",
          "dtype": "f8"
         },
         "yaxis": "y"
        },
        {
         "hovertemplate": "Month=6.0<br>index=%{x}<br>DHI=%{y}<extra></extra>",
         "legendgroup": "6.0",
         "line": {
          "color": "#19d3f3",
          "dash": "solid"
         },
         "marker": {
          "symbol": "circle"
         },
         "mode": "lines",
         "name": "6.0",
         "orientation": "v",
         "showlegend": true,
         "type": "scatter",
         "x": {
          "bdata": "igCLAIwAjQCOAI8AkACRAJIAkwCUAJUAlgCXAJgAmQCaAJsAnACdAJ4AnwCgAKEAogCjAKQApQCmAKcA",
          "dtype": "i2"
         },
         "xaxis": "x",
         "y": {
          "bdata": "9W/ytm1LakAEMK9t26ZqQAhgXtu2nWtABDCvbdtmYUD4n6EkSXJiQAQwr23blmhA+J+hJEnyZEAEMK9t2xZsQAAAAAAAAGlA9W/ytm0rZUAIYF7btk1uQAuQDUmSFGpAC5ANSZIkbkALkA1JkrRqQAuQDUmSJGhA+jd527a1cEAAAAAAAHBrQAAAAAAA0G5ABsiGJElycUD6N3nbtlVwQPifoSRJkmtAAAAAAACwbkD1b/K2bWtpQAuQDUmSJGtACGBe27YNb0D8z1CSJBlpQPo3edu2RXBABDCvbdvGb0AAAAAAAMBoQFtMIrETm2ZA",
          "dtype": "f8"
         },
         "yaxis": "y"
        },
        {
         "hovertemplate": "Month=7.0<br>index=%{x}<br>DHI=%{y}<extra></extra>",
         "legendgroup": "7.0",
         "line": {
          "color": "#FF6692",
          "dash": "solid"
         },
         "marker": {
          "symbol": "circle"
         },
         "mode": "lines",
         "name": "7.0",
         "orientation": "v",
         "showlegend": true,
         "type": "scatter",
         "x": {
          "bdata": "qACpAKoAqwCsAK0ArgCvALAAsQCyALMAtAC1ALYAtwC4ALkAugC7ALwAvQC+AL8AwADBAMIAwwDEAMUAxgA=",
          "dtype": "i2"
         },
         "xaxis": "x",
         "y": {
          "bdata": "/M9QkiS5a0AIYF7btn1rQAQwr23bbnFA+J+hJEmyZkD4n6EkSWJsQAQwr23bVmNA+J+hJEkib0AIYF7bto1uQAKY17Ztm3BA7Sk5J3ZiXUAAAAAAAEByQDeR9MROzGlA95ScEzsRb0Cls91O7MRqQDeR9MRODGpApbPdTuxkakBbTCKxE5trQG4i6YmdeG5AF5NI7MR+cUAuJpHYib1vQDeR9MRO7G9A0tluJ3YibkAuJpHYiT1pQE4kPbETC3BAm0h6Yic2bUD3lJwTOxFsQDeR9MROvHBA0tluJ3aib0DJbgs7sQNxQFtMIrETu21ALiaR2In9aEA=",
          "dtype": "f8"
         },
         "yaxis": "y"
        },
        {
         "hovertemplate": "Month=8.0<br>index=%{x}<br>DHI=%{y}<extra></extra>",
         "legendgroup": "8.0",
         "line": {
          "color": "#B6E880",
          "dash": "solid"
         },
         "marker": {
          "symbol": "circle"
         },
         "mode": "lines",
         "name": "8.0",
         "orientation": "v",
         "showlegend": true,
         "type": "scatter",
         "x": {
          "bdata": "xwDIAMkAygDLAMwAzQDOAM8A0ADRANIA0wDUANUA1gDXANgA2QDaANsA3ADdAN4A3wDgAOEA4gDjAOQA5QA=",
          "dtype": "i2"
         },
         "xaxis": "x",
         "y": {
          "bdata": "pbPdTuzkZ0AXk0jsxA5wQBeTSOzEfnFAN5H0xE6MaEDS2W4nduJsQFtMIrET22tAm0h6YidWbEBuIumJnVhuQAlrY+zE7m9AZbeFndgpcECbSHpiJzZkQAsdZCd2olhACWtj7MSOaEA3kfTEToxrQC4mkdiJ/WtA95ScEztxbkBbTCKxE9toQAAAAAAAgGlAAAAAAADgcUAAAAAAABhmQAAAAAAA8GtAAAAAAACwakCvYkxVVRlwQAAAAAAA+HFAojpnVVUVaEBexZiqqmpvQKI6Z1VVJWpAAAAAAACYZkAAAAAAACBbQL2KMVVV5VxAojpnVVUFbEA=",
          "dtype": "f8"
         },
         "yaxis": "y"
        },
        {
         "hovertemplate": "Month=9.0<br>index=%{x}<br>DHI=%{y}<extra></extra>",
         "legendgroup": "9.0",
         "line": {
          "color": "#FF97FF",
          "dash": "solid"
         },
         "marker": {
          "symbol": "circle"
         },
         "mode": "lines",
         "name": "9.0",
         "orientation": "v",
         "showlegend": true,
         "type": "scatter",
         "x": {
          "bdata": "5gDnAOgA6QDqAOsA7ADtAO4A7wDwAPEA8gDzAPQA9QD2APcA+AD5APoA+wD8AP0A/gD/AAABAQECAQMB",
          "dtype": "i2"
         },
         "xaxis": "x",
         "y": {
          "bdata": "ojpnVVXVb0AAAAAAABBeQKI6Z1VVfWRAXsWYqqoSYkAAAAAAANhnQF7FmKqqKmxAXsWYqqrabEAAAAAAAFBrQKI6Z1VVtWtAAAAAAAAYbUCiOmdVVRVtQK9iTFVVOXFAAAAAAAC4b0AAAAAAADRwQKI6Z1VVVWlAAAAAAADgZkBexZiqqtJvQAAAAAAAtHBAAAAAAABIb0CvYkxVVWVwQKI6Z1VVhW1AojpnVVWVakBexZiqqrJnQEN1zqqqilxAXsWYqqp6aEAAAAAAAKhpQF7FmKqqImpAXsWYqqqqZUBexZiqqipjQKI6Z1VV3WhA",
          "dtype": "f8"
         },
         "yaxis": "y"
        },
        {
         "hovertemplate": "Month=10.0<br>index=%{x}<br>DHI=%{y}<extra></extra>",
         "legendgroup": "10.0",
         "line": {
          "color": "#FECB52",
          "dash": "solid"
         },
         "marker": {
          "symbol": "circle"
         },
         "mode": "lines",
         "name": "10.0",
         "orientation": "v",
         "showlegend": true,
         "type": "scatter",
         "x": {
          "bdata": "BAEFAQYBBwEIAQkBCgELAQwBDQEOAQ8BEAERARIBEwEUARUBFgEXARgBGQEaARsBHAEdAR4BHwEgASEBIgE=",
          "dtype": "i2"
         },
         "xaxis": "x",
         "y": {
          "bdata": "ojpnVVVlZ0BexZiqqvpjQF7FmKqqamZAAAAAAAAwbEBexZiqqsprQKI6Z1VV9WhAXsWYqqraZkCiOmdVVcVhQKI6Z1VVPWdAAAAAAADYZUCiOmdVVXVlQF7FmKqqomVAXsWYqqqCaUBDdc6qqqpdQAAAAAAAwGJAXsWYqqpyY0AVbTO66KJmQAAAAAAAYGdAmN7+XHSxbEA/R5ouuqhvQCraZnTRZWRAmN7+XHSRY0A/R5ouukhoQGghAaOLTmhArUsyF100Z0DrksxFF51nQNYlmYsuOmhAP0eaLrrIZ0DBuGXRRddpQD9Hmi66KGRAFW0zuuhiZEA=",
          "dtype": "f8"
         },
         "yaxis": "y"
        },
        {
         "hovertemplate": "Month=11.0<br>index=%{x}<br>DHI=%{y}<extra></extra>",
         "legendgroup": "11.0",
         "line": {
          "color": "#636efa",
          "dash": "solid"
         },
         "marker": {
          "symbol": "circle"
         },
         "mode": "lines",
         "name": "11.0",
         "orientation": "v",
         "showlegend": true,
         "type": "scatter",
         "x": {
          "bdata": "IwEkASUBJgEnASgBKQEqASsBLAEtAS4BLwEwATEBMgEzATQBNQE2ATcBOAE5AToBOwE8AT0BPgE/AUAB",
          "dtype": "i2"
         },
         "xaxis": "x",
         "y": {
          "bdata": "1iWZiy66bEAVbTO66MJmQCraZnTRhWJArUsyF130XkAq2mZ00aVgQGghAaOLjmdAKtpmdNFlaUDBuGXRRXdpQFO0zeiiS2pA1iWZiy6aaUDrksxFFz1hQAAAAAAAQGNAP0eaLrooZUA/R5ouuihoQCraZnTRBWVAKtpmdNElZUCtSzIXXVRnQAAAAAAAAF1AmpmZmZn5YkBmZmZmZmZuQM3MzMzM/GJAAAAAAABgXEBmZmZmZiZfQM3MzMzMTGBAmpmZmZmZX0CamZmZmUljQAAAAAAAoGhAZmZmZmYGYUCamZmZmVlgQGZmZmZmhl5A",
          "dtype": "f8"
         },
         "yaxis": "y"
        },
        {
         "hovertemplate": "Month=12.0<br>index=%{x}<br>DHI=%{y}<extra></extra>",
         "legendgroup": "12.0",
         "line": {
          "color": "#EF553B",
          "dash": "solid"
         },
         "marker": {
          "symbol": "circle"
         },
         "mode": "lines",
         "name": "12.0",
         "orientation": "v",
         "showlegend": true,
         "type": "scatter",
         "x": {
          "bdata": "QQFCAUMBRAFFAUYBRwFIAUkBSgFLAUwBTQFOAU8BUAFRAVIBUwFUAVUBVgFXAVgBWQFaAVsBXAFdAV4B",
          "dtype": "i2"
         },
         "xaxis": "x",
         "y": {
          "bdata": "mpmZmZl5W0DNzMzMzMxjQDMzMzMzA2FAmpmZmZl5XEAzMzMzM5NaQJqZmZmZWVhAZmZmZmamWEAzMzMzM3NgQGZmZmZmBl9AzczMzMxMWUAzMzMzM9NlQGZmZmZmxmJAzczMzMzcZ0AAAAAAABBgQGZmZmZmdmZAMzMzMzNTX0DNzMzMzDxjQM3MzMzMrFhAzczMzMwMWkDNzMzMzMxeQDMzMzMzc2BAZmZmZmaWYEAAAAAAAIBhQGZmZmZmRl9AzczMzMyMYkCamZmZmXldQJqZmZmZWWBAmpmZmZn5ZkAzMzMzM3NoQJqZmZmZWWZA",
          "dtype": "f8"
         },
         "yaxis": "y"
        }
       ],
       "layout": {
        "legend": {
         "title": {
          "text": "Month"
         },
         "tracegroupgap": 0
        },
        "template": {
         "data": {
          "bar": [
           {
            "error_x": {
             "color": "#2a3f5f"
            },
            "error_y": {
             "color": "#2a3f5f"
            },
            "marker": {
             "line": {
              "color": "#E5ECF6",
              "width": 0.5
             },
             "pattern": {
              "fillmode": "overlay",
              "size": 10,
              "solidity": 0.2
             }
            },
            "type": "bar"
           }
          ],
          "barpolar": [
           {
            "marker": {
             "line": {
              "color": "#E5ECF6",
              "width": 0.5
             },
             "pattern": {
              "fillmode": "overlay",
              "size": 10,
              "solidity": 0.2
             }
            },
            "type": "barpolar"
           }
          ],
          "carpet": [
           {
            "aaxis": {
             "endlinecolor": "#2a3f5f",
             "gridcolor": "white",
             "linecolor": "white",
             "minorgridcolor": "white",
             "startlinecolor": "#2a3f5f"
            },
            "baxis": {
             "endlinecolor": "#2a3f5f",
             "gridcolor": "white",
             "linecolor": "white",
             "minorgridcolor": "white",
             "startlinecolor": "#2a3f5f"
            },
            "type": "carpet"
           }
          ],
          "choropleth": [
           {
            "colorbar": {
             "outlinewidth": 0,
             "ticks": ""
            },
            "type": "choropleth"
           }
          ],
          "contour": [
           {
            "colorbar": {
             "outlinewidth": 0,
             "ticks": ""
            },
            "colorscale": [
             [
              0,
              "#0d0887"
             ],
             [
              0.1111111111111111,
              "#46039f"
             ],
             [
              0.2222222222222222,
              "#7201a8"
             ],
             [
              0.3333333333333333,
              "#9c179e"
             ],
             [
              0.4444444444444444,
              "#bd3786"
             ],
             [
              0.5555555555555556,
              "#d8576b"
             ],
             [
              0.6666666666666666,
              "#ed7953"
             ],
             [
              0.7777777777777778,
              "#fb9f3a"
             ],
             [
              0.8888888888888888,
              "#fdca26"
             ],
             [
              1,
              "#f0f921"
             ]
            ],
            "type": "contour"
           }
          ],
          "contourcarpet": [
           {
            "colorbar": {
             "outlinewidth": 0,
             "ticks": ""
            },
            "type": "contourcarpet"
           }
          ],
          "heatmap": [
           {
            "colorbar": {
             "outlinewidth": 0,
             "ticks": ""
            },
            "colorscale": [
             [
              0,
              "#0d0887"
             ],
             [
              0.1111111111111111,
              "#46039f"
             ],
             [
              0.2222222222222222,
              "#7201a8"
             ],
             [
              0.3333333333333333,
              "#9c179e"
             ],
             [
              0.4444444444444444,
              "#bd3786"
             ],
             [
              0.5555555555555556,
              "#d8576b"
             ],
             [
              0.6666666666666666,
              "#ed7953"
             ],
             [
              0.7777777777777778,
              "#fb9f3a"
             ],
             [
              0.8888888888888888,
              "#fdca26"
             ],
             [
              1,
              "#f0f921"
             ]
            ],
            "type": "heatmap"
           }
          ],
          "histogram": [
           {
            "marker": {
             "pattern": {
              "fillmode": "overlay",
              "size": 10,
              "solidity": 0.2
             }
            },
            "type": "histogram"
           }
          ],
          "histogram2d": [
           {
            "colorbar": {
             "outlinewidth": 0,
             "ticks": ""
            },
            "colorscale": [
             [
              0,
              "#0d0887"
             ],
             [
              0.1111111111111111,
              "#46039f"
             ],
             [
              0.2222222222222222,
              "#7201a8"
             ],
             [
              0.3333333333333333,
              "#9c179e"
             ],
             [
              0.4444444444444444,
              "#bd3786"
             ],
             [
              0.5555555555555556,
              "#d8576b"
             ],
             [
              0.6666666666666666,
              "#ed7953"
             ],
             [
              0.7777777777777778,
              "#fb9f3a"
             ],
             [
              0.8888888888888888,
              "#fdca26"
             ],
             [
              1,
              "#f0f921"
             ]
            ],
            "type": "histogram2d"
           }
          ],
          "histogram2dcontour": [
           {
            "colorbar": {
             "outlinewidth": 0,
             "ticks": ""
            },
            "colorscale": [
             [
              0,
              "#0d0887"
             ],
             [
              0.1111111111111111,
              "#46039f"
             ],
             [
              0.2222222222222222,
              "#7201a8"
             ],
             [
              0.3333333333333333,
              "#9c179e"
             ],
             [
              0.4444444444444444,
              "#bd3786"
             ],
             [
              0.5555555555555556,
              "#d8576b"
             ],
             [
              0.6666666666666666,
              "#ed7953"
             ],
             [
              0.7777777777777778,
              "#fb9f3a"
             ],
             [
              0.8888888888888888,
              "#fdca26"
             ],
             [
              1,
              "#f0f921"
             ]
            ],
            "type": "histogram2dcontour"
           }
          ],
          "mesh3d": [
           {
            "colorbar": {
             "outlinewidth": 0,
             "ticks": ""
            },
            "type": "mesh3d"
           }
          ],
          "parcoords": [
           {
            "line": {
             "colorbar": {
              "outlinewidth": 0,
              "ticks": ""
             }
            },
            "type": "parcoords"
           }
          ],
          "pie": [
           {
            "automargin": true,
            "type": "pie"
           }
          ],
          "scatter": [
           {
            "fillpattern": {
             "fillmode": "overlay",
             "size": 10,
             "solidity": 0.2
            },
            "type": "scatter"
           }
          ],
          "scatter3d": [
           {
            "line": {
             "colorbar": {
              "outlinewidth": 0,
              "ticks": ""
             }
            },
            "marker": {
             "colorbar": {
              "outlinewidth": 0,
              "ticks": ""
             }
            },
            "type": "scatter3d"
           }
          ],
          "scattercarpet": [
           {
            "marker": {
             "colorbar": {
              "outlinewidth": 0,
              "ticks": ""
             }
            },
            "type": "scattercarpet"
           }
          ],
          "scattergeo": [
           {
            "marker": {
             "colorbar": {
              "outlinewidth": 0,
              "ticks": ""
             }
            },
            "type": "scattergeo"
           }
          ],
          "scattergl": [
           {
            "marker": {
             "colorbar": {
              "outlinewidth": 0,
              "ticks": ""
             }
            },
            "type": "scattergl"
           }
          ],
          "scattermap": [
           {
            "marker": {
             "colorbar": {
              "outlinewidth": 0,
              "ticks": ""
             }
            },
            "type": "scattermap"
           }
          ],
          "scattermapbox": [
           {
            "marker": {
             "colorbar": {
              "outlinewidth": 0,
              "ticks": ""
             }
            },
            "type": "scattermapbox"
           }
          ],
          "scatterpolar": [
           {
            "marker": {
             "colorbar": {
              "outlinewidth": 0,
              "ticks": ""
             }
            },
            "type": "scatterpolar"
           }
          ],
          "scatterpolargl": [
           {
            "marker": {
             "colorbar": {
              "outlinewidth": 0,
              "ticks": ""
             }
            },
            "type": "scatterpolargl"
           }
          ],
          "scatterternary": [
           {
            "marker": {
             "colorbar": {
              "outlinewidth": 0,
              "ticks": ""
             }
            },
            "type": "scatterternary"
           }
          ],
          "surface": [
           {
            "colorbar": {
             "outlinewidth": 0,
             "ticks": ""
            },
            "colorscale": [
             [
              0,
              "#0d0887"
             ],
             [
              0.1111111111111111,
              "#46039f"
             ],
             [
              0.2222222222222222,
              "#7201a8"
             ],
             [
              0.3333333333333333,
              "#9c179e"
             ],
             [
              0.4444444444444444,
              "#bd3786"
             ],
             [
              0.5555555555555556,
              "#d8576b"
             ],
             [
              0.6666666666666666,
              "#ed7953"
             ],
             [
              0.7777777777777778,
              "#fb9f3a"
             ],
             [
              0.8888888888888888,
              "#fdca26"
             ],
             [
              1,
              "#f0f921"
             ]
            ],
            "type": "surface"
           }
          ],
          "table": [
           {
            "cells": {
             "fill": {
              "color": "#EBF0F8"
             },
             "line": {
              "color": "white"
             }
            },
            "header": {
             "fill": {
              "color": "#C8D4E3"
             },
             "line": {
              "color": "white"
             }
            },
            "type": "table"
           }
          ]
         },
         "layout": {
          "annotationdefaults": {
           "arrowcolor": "#2a3f5f",
           "arrowhead": 0,
           "arrowwidth": 1
          },
          "autotypenumbers": "strict",
          "coloraxis": {
           "colorbar": {
            "outlinewidth": 0,
            "ticks": ""
           }
          },
          "colorscale": {
           "diverging": [
            [
             0,
             "#8e0152"
            ],
            [
             0.1,
             "#c51b7d"
            ],
            [
             0.2,
             "#de77ae"
            ],
            [
             0.3,
             "#f1b6da"
            ],
            [
             0.4,
             "#fde0ef"
            ],
            [
             0.5,
             "#f7f7f7"
            ],
            [
             0.6,
             "#e6f5d0"
            ],
            [
             0.7,
             "#b8e186"
            ],
            [
             0.8,
             "#7fbc41"
            ],
            [
             0.9,
             "#4d9221"
            ],
            [
             1,
             "#276419"
            ]
           ],
           "sequential": [
            [
             0,
             "#0d0887"
            ],
            [
             0.1111111111111111,
             "#46039f"
            ],
            [
             0.2222222222222222,
             "#7201a8"
            ],
            [
             0.3333333333333333,
             "#9c179e"
            ],
            [
             0.4444444444444444,
             "#bd3786"
            ],
            [
             0.5555555555555556,
             "#d8576b"
            ],
            [
             0.6666666666666666,
             "#ed7953"
            ],
            [
             0.7777777777777778,
             "#fb9f3a"
            ],
            [
             0.8888888888888888,
             "#fdca26"
            ],
            [
             1,
             "#f0f921"
            ]
           ],
           "sequentialminus": [
            [
             0,
             "#0d0887"
            ],
            [
             0.1111111111111111,
             "#46039f"
            ],
            [
             0.2222222222222222,
             "#7201a8"
            ],
            [
             0.3333333333333333,
             "#9c179e"
            ],
            [
             0.4444444444444444,
             "#bd3786"
            ],
            [
             0.5555555555555556,
             "#d8576b"
            ],
            [
             0.6666666666666666,
             "#ed7953"
            ],
            [
             0.7777777777777778,
             "#fb9f3a"
            ],
            [
             0.8888888888888888,
             "#fdca26"
            ],
            [
             1,
             "#f0f921"
            ]
           ]
          },
          "colorway": [
           "#636efa",
           "#EF553B",
           "#00cc96",
           "#ab63fa",
           "#FFA15A",
           "#19d3f3",
           "#FF6692",
           "#B6E880",
           "#FF97FF",
           "#FECB52"
          ],
          "font": {
           "color": "#2a3f5f"
          },
          "geo": {
           "bgcolor": "white",
           "lakecolor": "white",
           "landcolor": "#E5ECF6",
           "showlakes": true,
           "showland": true,
           "subunitcolor": "white"
          },
          "hoverlabel": {
           "align": "left"
          },
          "hovermode": "closest",
          "mapbox": {
           "style": "light"
          },
          "paper_bgcolor": "white",
          "plot_bgcolor": "#E5ECF6",
          "polar": {
           "angularaxis": {
            "gridcolor": "white",
            "linecolor": "white",
            "ticks": ""
           },
           "bgcolor": "#E5ECF6",
           "radialaxis": {
            "gridcolor": "white",
            "linecolor": "white",
            "ticks": ""
           }
          },
          "scene": {
           "xaxis": {
            "backgroundcolor": "#E5ECF6",
            "gridcolor": "white",
            "gridwidth": 2,
            "linecolor": "white",
            "showbackground": true,
            "ticks": "",
            "zerolinecolor": "white"
           },
           "yaxis": {
            "backgroundcolor": "#E5ECF6",
            "gridcolor": "white",
            "gridwidth": 2,
            "linecolor": "white",
            "showbackground": true,
            "ticks": "",
            "zerolinecolor": "white"
           },
           "zaxis": {
            "backgroundcolor": "#E5ECF6",
            "gridcolor": "white",
            "gridwidth": 2,
            "linecolor": "white",
            "showbackground": true,
            "ticks": "",
            "zerolinecolor": "white"
           }
          },
          "shapedefaults": {
           "line": {
            "color": "#2a3f5f"
           }
          },
          "ternary": {
           "aaxis": {
            "gridcolor": "white",
            "linecolor": "white",
            "ticks": ""
           },
           "baxis": {
            "gridcolor": "white",
            "linecolor": "white",
            "ticks": ""
           },
           "bgcolor": "#E5ECF6",
           "caxis": {
            "gridcolor": "white",
            "linecolor": "white",
            "ticks": ""
           }
          },
          "title": {
           "x": 0.05
          },
          "xaxis": {
           "automargin": true,
           "gridcolor": "white",
           "linecolor": "white",
           "ticks": "",
           "title": {
            "standoff": 15
           },
           "zerolinecolor": "white",
           "zerolinewidth": 2
          },
          "yaxis": {
           "automargin": true,
           "gridcolor": "white",
           "linecolor": "white",
           "ticks": "",
           "title": {
            "standoff": 15
           },
           "zerolinecolor": "white",
           "zerolinewidth": 2
          }
         }
        },
        "title": {
         "text": "DHI over Months"
        },
        "xaxis": {
         "anchor": "y",
         "domain": [
          0,
          1
         ],
         "title": {
          "text": "index"
         }
        },
        "yaxis": {
         "anchor": "x",
         "domain": [
          0,
          1
         ],
         "title": {
          "text": "DHI"
         }
        }
       }
      }
     },
     "metadata": {},
     "output_type": "display_data"
    },
    {
     "data": {
      "application/vnd.plotly.v1+json": {
       "config": {
        "plotlyServerURL": "https://plot.ly"
       },
       "data": [
        {
         "hovertemplate": "Month=1.0<br>index=%{x}<br>DNI=%{y}<extra></extra>",
         "legendgroup": "1.0",
         "line": {
          "color": "#636efa",
          "dash": "solid"
         },
         "marker": {
          "symbol": "circle"
         },
         "mode": "lines",
         "name": "1.0",
         "orientation": "v",
         "showlegend": true,
         "type": "scatter",
         "x": {
          "bdata": "AAECAwQFBgcICQoLDA0ODxAREhMUFRYXGBkaGxwdHg==",
          "dtype": "i1"
         },
         "xaxis": "x",
         "y": {
          "bdata": "XsWYqqoaZ0BexZiqqmppQGZmZmZmPnlAAAAAAAAYdUCamZmZmSF/QDMzMzMzC4JAAAAAAADggUAAAAAAAFRkQJqZmZmZAYFAAAAAAACAhECamZmZmfGFQJqZmZmZkYVAmpmZmZmth0DNzMzMzGx8QHZJ5qKLHnRAtJCA0UW3cEBpJowkSZJJQOFoIsdxvHJAMzMzMzPrfUB2SeaiiyaBQLSQgNFF131AaCEBo4tuY0BF24wuumiCQFpIwOiiG4dAuyRz0UWnhkAAAAAAAJCDQEXbjC662IBAU7TN6KLLbkCKthlddAFxQHZJ5qKLloJA65LMRRcthkA=",
          "dtype": "f8"
         },
         "yaxis": "y"
        },
        {
         "hovertemplate": "Month=2.0<br>index=%{x}<br>DNI=%{y}<extra></extra>",
         "legendgroup": "2.0",
         "line": {
          "color": "#EF553B",
          "dash": "solid"
         },
         "marker": {
          "symbol": "circle"
         },
         "mode": "lines",
         "name": "2.0",
         "orientation": "v",
         "showlegend": true,
         "type": "scatter",
         "x": {
          "bdata": "HyAhIiMkJSYnKCkqKywtLi8wMTIzNDU2Nzg5",
          "dtype": "i1"
         },
         "xaxis": "x",
         "y": {
          "bdata": "dknmootOhEDrksxFFx2FQIq2GV10kYFAojpnVVUVaUBh3LLooit/QNYlmYsuKntAAAAAAAAAcUB2SeaiizaAQIq2GV10KYRAWkjA6KIjhkCmtz8XXVyFQAAAAAAAYIRAMG5ZdNG9hEB2Seaiiz6GQMhlN47jIIlAdknmoos2iEAwbll00XWHQHZJ5qKLzohA65LMRRddcUAAAAAAAGBuQM3MzMzMpHNAdknmoou+cEB2Seaii254QCraZnTRlXlA0JGmiy5CgEAwbll00fWCQLskc9FFL4FA",
          "dtype": "f8"
         },
         "yaxis": "y"
        },
        {
         "hovertemplate": "Month=3.0<br>index=%{x}<br>DNI=%{y}<extra></extra>",
         "legendgroup": "3.0",
         "line": {
          "color": "#00cc96",
          "dash": "solid"
         },
         "marker": {
          "symbol": "circle"
         },
         "mode": "lines",
         "name": "3.0",
         "orientation": "v",
         "showlegend": true,
         "type": "scatter",
         "x": {
          "bdata": "Ojs8PT4/QEFCQ0RFRkdISUpLTE0=",
          "dtype": "i1"
         },
         "xaxis": "x",
         "y": {
          "bdata": "AAAAAAAAR0Aq2mZ00dV9QAAAAAAAxndAAAAAAABIeUAVbTO66NJ9QK9iTFVVfXVAYdyy6KJLekAAAAAAACqCQKjOWVVVuYZAAAAAAABQcEDB0USO4+h0QKjOWVVVJYNAZmZmZmZec0AAAAAAAIJ7QAAAAAAA+GhAr2JMVVWRf0AAAAAAAICCQAAAAAAAWoRAtJCA0UXXc0AAAAAAAFh+QA==",
          "dtype": "f8"
         },
         "yaxis": "y"
        },
        {
         "hovertemplate": "Month=4.0<br>index=%{x}<br>DNI=%{y}<extra></extra>",
         "legendgroup": "4.0",
         "line": {
          "color": "#ab63fa",
          "dash": "solid"
         },
         "marker": {
          "symbol": "circle"
         },
         "mode": "lines",
         "name": "4.0",
         "orientation": "v",
         "showlegend": true,
         "type": "scatter",
         "x": {
          "bdata": "Tk9QUVJTVFVWV1hZWltcXV5fYGFiY2RlZmdoaWo=",
          "dtype": "i1"
         },
         "xaxis": "x",
         "y": {
          "bdata": "AAAAAACAhECozllVVY+DQKjOWVVViYZAqM5ZVVV1hUAAAAAAAFaGQKjOWVVVs4VAqM5ZVVVZgkAAAAAAAPB4QKjOWVVV44FAAAAAAABAg0CvYkxVVZ1/QKjOWVVVF4NAqM5ZVVVhhECvYkxVVcF3QAAAAAAANHhAqM5ZVVWjg0C7JHPRReeAQJje/lx0cW5ATG9/LrqYf0DWJZmLLop2QK9iTFVVdXxAWDGmqqrOgUCvYkxVVXVxQAAAAAAANIBAAAAAAACIgkAAAAAAALyCQK9iTFVV8X9AWDGmqqpCgkCKthlddGGAQA==",
          "dtype": "f8"
         },
         "yaxis": "y"
        },
        {
         "hovertemplate": "Month=5.0<br>index=%{x}<br>DNI=%{y}<extra></extra>",
         "legendgroup": "5.0",
         "line": {
          "color": "#FFA15A",
          "dash": "solid"
         },
         "marker": {
          "symbol": "circle"
         },
         "mode": "lines",
         "name": "5.0",
         "orientation": "v",
         "showlegend": true,
         "type": "scatter",
         "x": {
          "bdata": "awBsAG0AbgBvAHAAcQByAHMAdAB1AHYAdwB4AHkAegB7AHwAfQB+AH8AgACBAIIAgwCEAIUAhgCHAIgAiQA=",
          "dtype": "i2"
         },
         "xaxis": "x",
         "y": {
          "bdata": "WDGmqqqUgECozllVVT+AQFgxpqqqQIJAqM5ZVVX3gUBYMaaqqqKDQC4mkdiJLXxAJ5Ke2Ik1gUAXk0jsxHaCQJtIemIntoJAUZ2zqqraekCy28JO7CSDQK9iTFVVTXNAAAAAAADYfkD8z1CSJIl/QHtKzomdyHNAApjXtm23gEAGyIYkSVJ/QGHcsuiiq3pAApjXtm3reECy28JO7LR3QAAAAAAAuIFAAAAAAABsgkD/M5QkSQ6AQE4kPbETa3xABDCvbdvGeUDpbLcTO3F4QNYlmYsuGn9AAAAAAACAfkA3kfTETqx4QAKY17ZtC3hABDCvbdsefUA=",
          "dtype": "f8"
         },
         "yaxis": "y"
        },
        {
         "hovertemplate": "Month=6.0<br>index=%{x}<br>DNI=%{y}<extra></extra>",
         "legendgroup": "6.0",
         "line": {
          "color": "#19d3f3",
          "dash": "solid"
         },
         "marker": {
          "symbol": "circle"
         },
         "mode": "lines",
         "name": "6.0",
         "orientation": "v",
         "showlegend": true,
         "type": "scatter",
         "x": {
          "bdata": "igCLAIwAjQCOAI8AkACRAJIAkwCUAJUAlgCXAJgAmQCaAJsAnACdAJ4AnwCgAKEAogCjAKQApQCmAKcA",
          "dtype": "i2"
         },
         "xaxis": "x",
         "y": {
          "bdata": "BsiGJEnCc0AAAAAAAPBtQF7FmKqqqmJA+J+hJElyZ0ADZEOSJHmAQAbIhiRJqntABDCvbdt+fkAAAAAAAFB3QK9iTFVV5XdA/mcoSZIUf0DWJZmLLvpwQAQwr23bNndAAAAAAAAAdkB+XHbjOE5tQAAAAAAAmGdAXsWYqqq6a0BexZiqqmpuQGZmZmZmZlhAN5H0xE7saEDhaCLHcRxxQOuSzEUXfWlAwbhl0UVXZEB2Seaiiz52QGHcsuiiO3VAwdFEjuOYbEDNzMzMzLxyQAAAAAAA8G9AUZ2zqqoickCiOmdVVXVnQAAAAAAAwFRA",
          "dtype": "f8"
         },
         "yaxis": "y"
        },
        {
         "hovertemplate": "Month=7.0<br>index=%{x}<br>DNI=%{y}<extra></extra>",
         "legendgroup": "7.0",
         "line": {
          "color": "#FF6692",
          "dash": "solid"
         },
         "marker": {
          "symbol": "circle"
         },
         "mode": "lines",
         "name": "7.0",
         "orientation": "v",
         "showlegend": true,
         "type": "scatter",
         "x": {
          "bdata": "qACpAKoAqwCsAK0ArgCvALAAsQCyALMAtAC1ALYAtwC4ALkAugC7ALwAvQC+AL8AwADBAMIAwwDEAMUAxgA=",
          "dtype": "i2"
         },
         "xaxis": "x",
         "y": {
          "bdata": "ZbeFndhpdEAq2mZ00UV2QDeR9MRO7GhAApjXtm27ckAzMzMzMyNpQAAAAAAAwERAXsWYqqpKbEAVbTO66GJ3QBVtM7roUnBAAAAAAAAAIECS3RZ2YkdtQOlstxM7cX1AAAAAAACwd0AAAAAAAARlQBVtM7roQnVAZbeFndh5fEBRnbOqqpJ1QJtIemInpnVAMzMzMzPzaEAAAAAAAJhaQH5cduM4zmNAzczMzMxEc0AzMzMzM9N/QDMzMzMzc29AJ1gUXXQRV0CbSHpiJ4Z3QK1LMhddtG9AAAAAAADIXEDNzMzMzJxhQDMzMzMzy3VAMzMzMzMLfEA=",
          "dtype": "f8"
         },
         "yaxis": "y"
        },
        {
         "hovertemplate": "Month=8.0<br>index=%{x}<br>DNI=%{y}<extra></extra>",
         "legendgroup": "8.0",
         "line": {
          "color": "#B6E880",
          "dash": "solid"
         },
         "marker": {
          "symbol": "circle"
         },
         "mode": "lines",
         "name": "8.0",
         "orientation": "v",
         "showlegend": true,
         "type": "scatter",
         "x": {
          "bdata": "xwDIAMkAygDLAMwAzQDOAM8A0ADRANIA0wDUANUA1gDXANgA2QDaANsA3ADdAN4A3wDgAOEA4gDjAOQA5QA=",
          "dtype": "i2"
         },
         "xaxis": "x",
         "y": {
          "bdata": "wdFEjuPYZ0DWJZmLLup0QJje/lx0kWxAAAAAAACwe0DB0USO4xhoQAAAAAAADGZAtJCA0UVXdkAzMzMzMytxQAAAAAAA8GVAAAAAAADYckAAAAAAAChgQLX7uKqqqjlAy+y5bdu2UUDrksxFF91jQAAAAAAAoGZAAAAAAAA4akCiOmdVVZVjQKI6Z1VV1WpAojpnVVW1ZUBRnbOqqrJ8QGZmZmZm5nBAXsWYqqoqb0B2Seaii25zQF7FmKqq+mtAZmZmZmb2eUDL7Llt2zZRQPifoSRJcmZAAAAAAABwXkCvYkxVVZ16QFgxpqqqgIVAUZ2zqqqafUA=",
          "dtype": "f8"
         },
         "yaxis": "y"
        },
        {
         "hovertemplate": "Month=9.0<br>index=%{x}<br>DNI=%{y}<extra></extra>",
         "legendgroup": "9.0",
         "line": {
          "color": "#FF97FF",
          "dash": "solid"
         },
         "marker": {
          "symbol": "circle"
         },
         "mode": "lines",
         "name": "9.0",
         "orientation": "v",
         "showlegend": true,
         "type": "scatter",
         "x": {
          "bdata": "5gDnAOgA6QDqAOsA7ADtAO4A7wDwAPEA8gDzAPQA9QD2APcA+AD5APoA+wD8AP0A/gD/AAABAQECAQMB",
          "dtype": "i2"
         },
         "xaxis": "x",
         "y": {
          "bdata": "irYZXXSBd0BmZmZmZmYmQEXbjC66YIBAmpmZmZkxg0DNzMzMzBx/QFGds6qq6nJAUZ2zqqpOeEBRnbOqqup6QAAAAAAAGHdAojpnVVV1bkBwNJHjOJ52QM3MzMzMnGtAZmZmZmaWaUAzMzMzM/NxQGZmZmZmRnZAAAAAAAAQdUDWJZmLLup0QF7FmKqqYm9APy67cRznbkDhaCLHcZxnQExvfy66uHVAAAAAAAAAZEBexZiqqopmQJqZmZmZmT1AMzMzMzNjeUCvYkxVVWV7QAAAAAAAqHhAUZ2zqqqufUAAAAAAAFaAQK9iTFVVxXpA",
          "dtype": "f8"
         },
         "yaxis": "y"
        },
        {
         "hovertemplate": "Month=10.0<br>index=%{x}<br>DNI=%{y}<extra></extra>",
         "legendgroup": "10.0",
         "line": {
          "color": "#FECB52",
          "dash": "solid"
         },
         "marker": {
          "symbol": "circle"
         },
         "mode": "lines",
         "name": "10.0",
         "orientation": "v",
         "showlegend": true,
         "type": "scatter",
         "x": {
          "bdata": "BAEFAQYBBwEIAQkBCgELAQwBDQEOAQ8BEAERARIBEwEUARUBFgEXARgBGQEaARsBHAEdAR4BHwEgASEBIgE=",
          "dtype": "i2"
         },
         "xaxis": "x",
         "y": {
          "bdata": "r2JMVVU1fECvYkxVVVF/QFGds6qq/nxAPy67cRxHcEAzMzMzMxNjQFGds6qq9nhAmpmZmZlxfUAAAAAAANCBQK9iTFVVmXtAr2JMVVVte0BRnbOqqtZ7QJ8jTRddFHtAAAAAAADUdUBYMaaqqhqCQAAAAAAAmH1AAAAAAAB4fUAVbTO66GJ9QHZJ5qKLDn5AdknmoovOdkCKthlddPFyQOuSzEUXPYBAMG5ZdNF9gUBh3LLoost7QGHcsuiia3xAnyNNF12kfUC0kIDRRbd7QJ8jTRddRHtAAAAAAADwe0CKthlddFF5QEXbjC66QIBAqM5ZVVUtgEA=",
          "dtype": "f8"
         },
         "yaxis": "y"
        },
        {
         "hovertemplate": "Month=11.0<br>index=%{x}<br>DNI=%{y}<extra></extra>",
         "legendgroup": "11.0",
         "line": {
          "color": "#636efa",
          "dash": "solid"
         },
         "marker": {
          "symbol": "circle"
         },
         "mode": "lines",
         "name": "11.0",
         "orientation": "v",
         "showlegend": true,
         "type": "scatter",
         "x": {
          "bdata": "IwEkASUBJgEnASgBKQEqASsBLAEtAS4BLwEwATEBMgEzATQBNQE2ATcBOAE5AToBOwE8AT0BPgE/AUAB",
          "dtype": "i2"
         },
         "xaxis": "x",
         "y": {
          "bdata": "KtpmdNGFckC0kIDRRSd6QNCRposu0oBAAAAAAABgg0AAAAAAAFCCQLSQgNFFZ3lAdknmootedkAq2mZ00cV2QExvfy66iHNAFW0zuuhidUAwbll00Z2AQAAAAAAAMHtAZmZmZmZGeEBh3LLoojt2QExvfy66eHlAtJCA0UWXekDrksxFFx13QPVv8rZt22lAAAAAAAC4fEAAAAAAALByQJqZmZmZKYJAmpmZmZlJhUAAAAAAAJCEQDMzMzMzH4RAMzMzMzOfhEDNzMzMzLx+QK9iTFVVtXBAMzMzMzN/gkCamZmZmVmDQGZmZmZmYoRA",
          "dtype": "f8"
         },
         "yaxis": "y"
        },
        {
         "hovertemplate": "Month=12.0<br>index=%{x}<br>DNI=%{y}<extra></extra>",
         "legendgroup": "12.0",
         "line": {
          "color": "#EF553B",
          "dash": "solid"
         },
         "marker": {
          "symbol": "circle"
         },
         "mode": "lines",
         "name": "12.0",
         "orientation": "v",
         "showlegend": true,
         "type": "scatter",
         "x": {
          "bdata": "QQFCAUMBRAFFAUYBRwFIAUkBSgFLAUwBTQFOAU8BUAFRAVIBUwFUAVUBVgFXAVgBWQFaAVsBXAFdAV4B",
          "dtype": "i2"
         },
         "xaxis": "x",
         "y": {
          "bdata": "MzMzMzMLhUAzMzMzM+N+QAAAAAAAMIJAzczMzMx8hEDNzMzMzNSEQJqZmZmZ7YVAAAAAAADYhUDNzMzMzPCBQGZmZmZmnoJAAAAAAACEhEBexZiqqgpkQEN1zqqqil5A+J+hJEmybkBmZmZmZuZMQAAAAAAAcGFAojpnVVUVZUAAAAAAAIiAQGZmZmZmXodAmpmZmZlphkAAAAAAAFyCQGZmZmZmCoJAAAAAAAAIgkCamZmZmS2BQGZmZmZmYoNAzczMzMzggEAAAAAAAJSEQJqZmZmZnYJAmpmZmZlBekAzMzMzM1N3QGZmZmZmTnZA",
          "dtype": "f8"
         },
         "yaxis": "y"
        }
       ],
       "layout": {
        "legend": {
         "title": {
          "text": "Month"
         },
         "tracegroupgap": 0
        },
        "template": {
         "data": {
          "bar": [
           {
            "error_x": {
             "color": "#2a3f5f"
            },
            "error_y": {
             "color": "#2a3f5f"
            },
            "marker": {
             "line": {
              "color": "#E5ECF6",
              "width": 0.5
             },
             "pattern": {
              "fillmode": "overlay",
              "size": 10,
              "solidity": 0.2
             }
            },
            "type": "bar"
           }
          ],
          "barpolar": [
           {
            "marker": {
             "line": {
              "color": "#E5ECF6",
              "width": 0.5
             },
             "pattern": {
              "fillmode": "overlay",
              "size": 10,
              "solidity": 0.2
             }
            },
            "type": "barpolar"
           }
          ],
          "carpet": [
           {
            "aaxis": {
             "endlinecolor": "#2a3f5f",
             "gridcolor": "white",
             "linecolor": "white",
             "minorgridcolor": "white",
             "startlinecolor": "#2a3f5f"
            },
            "baxis": {
             "endlinecolor": "#2a3f5f",
             "gridcolor": "white",
             "linecolor": "white",
             "minorgridcolor": "white",
             "startlinecolor": "#2a3f5f"
            },
            "type": "carpet"
           }
          ],
          "choropleth": [
           {
            "colorbar": {
             "outlinewidth": 0,
             "ticks": ""
            },
            "type": "choropleth"
           }
          ],
          "contour": [
           {
            "colorbar": {
             "outlinewidth": 0,
             "ticks": ""
            },
            "colorscale": [
             [
              0,
              "#0d0887"
             ],
             [
              0.1111111111111111,
              "#46039f"
             ],
             [
              0.2222222222222222,
              "#7201a8"
             ],
             [
              0.3333333333333333,
              "#9c179e"
             ],
             [
              0.4444444444444444,
              "#bd3786"
             ],
             [
              0.5555555555555556,
              "#d8576b"
             ],
             [
              0.6666666666666666,
              "#ed7953"
             ],
             [
              0.7777777777777778,
              "#fb9f3a"
             ],
             [
              0.8888888888888888,
              "#fdca26"
             ],
             [
              1,
              "#f0f921"
             ]
            ],
            "type": "contour"
           }
          ],
          "contourcarpet": [
           {
            "colorbar": {
             "outlinewidth": 0,
             "ticks": ""
            },
            "type": "contourcarpet"
           }
          ],
          "heatmap": [
           {
            "colorbar": {
             "outlinewidth": 0,
             "ticks": ""
            },
            "colorscale": [
             [
              0,
              "#0d0887"
             ],
             [
              0.1111111111111111,
              "#46039f"
             ],
             [
              0.2222222222222222,
              "#7201a8"
             ],
             [
              0.3333333333333333,
              "#9c179e"
             ],
             [
              0.4444444444444444,
              "#bd3786"
             ],
             [
              0.5555555555555556,
              "#d8576b"
             ],
             [
              0.6666666666666666,
              "#ed7953"
             ],
             [
              0.7777777777777778,
              "#fb9f3a"
             ],
             [
              0.8888888888888888,
              "#fdca26"
             ],
             [
              1,
              "#f0f921"
             ]
            ],
            "type": "heatmap"
           }
          ],
          "histogram": [
           {
            "marker": {
             "pattern": {
              "fillmode": "overlay",
              "size": 10,
              "solidity": 0.2
             }
            },
            "type": "histogram"
           }
          ],
          "histogram2d": [
           {
            "colorbar": {
             "outlinewidth": 0,
             "ticks": ""
            },
            "colorscale": [
             [
              0,
              "#0d0887"
             ],
             [
              0.1111111111111111,
              "#46039f"
             ],
             [
              0.2222222222222222,
              "#7201a8"
             ],
             [
              0.3333333333333333,
              "#9c179e"
             ],
             [
              0.4444444444444444,
              "#bd3786"
             ],
             [
              0.5555555555555556,
              "#d8576b"
             ],
             [
              0.6666666666666666,
              "#ed7953"
             ],
             [
              0.7777777777777778,
              "#fb9f3a"
             ],
             [
              0.8888888888888888,
              "#fdca26"
             ],
             [
              1,
              "#f0f921"
             ]
            ],
            "type": "histogram2d"
           }
          ],
          "histogram2dcontour": [
           {
            "colorbar": {
             "outlinewidth": 0,
             "ticks": ""
            },
            "colorscale": [
             [
              0,
              "#0d0887"
             ],
             [
              0.1111111111111111,
              "#46039f"
             ],
             [
              0.2222222222222222,
              "#7201a8"
             ],
             [
              0.3333333333333333,
              "#9c179e"
             ],
             [
              0.4444444444444444,
              "#bd3786"
             ],
             [
              0.5555555555555556,
              "#d8576b"
             ],
             [
              0.6666666666666666,
              "#ed7953"
             ],
             [
              0.7777777777777778,
              "#fb9f3a"
             ],
             [
              0.8888888888888888,
              "#fdca26"
             ],
             [
              1,
              "#f0f921"
             ]
            ],
            "type": "histogram2dcontour"
           }
          ],
          "mesh3d": [
           {
            "colorbar": {
             "outlinewidth": 0,
             "ticks": ""
            },
            "type": "mesh3d"
           }
          ],
          "parcoords": [
           {
            "line": {
             "colorbar": {
              "outlinewidth": 0,
              "ticks": ""
             }
            },
            "type": "parcoords"
           }
          ],
          "pie": [
           {
            "automargin": true,
            "type": "pie"
           }
          ],
          "scatter": [
           {
            "fillpattern": {
             "fillmode": "overlay",
             "size": 10,
             "solidity": 0.2
            },
            "type": "scatter"
           }
          ],
          "scatter3d": [
           {
            "line": {
             "colorbar": {
              "outlinewidth": 0,
              "ticks": ""
             }
            },
            "marker": {
             "colorbar": {
              "outlinewidth": 0,
              "ticks": ""
             }
            },
            "type": "scatter3d"
           }
          ],
          "scattercarpet": [
           {
            "marker": {
             "colorbar": {
              "outlinewidth": 0,
              "ticks": ""
             }
            },
            "type": "scattercarpet"
           }
          ],
          "scattergeo": [
           {
            "marker": {
             "colorbar": {
              "outlinewidth": 0,
              "ticks": ""
             }
            },
            "type": "scattergeo"
           }
          ],
          "scattergl": [
           {
            "marker": {
             "colorbar": {
              "outlinewidth": 0,
              "ticks": ""
             }
            },
            "type": "scattergl"
           }
          ],
          "scattermap": [
           {
            "marker": {
             "colorbar": {
              "outlinewidth": 0,
              "ticks": ""
             }
            },
            "type": "scattermap"
           }
          ],
          "scattermapbox": [
           {
            "marker": {
             "colorbar": {
              "outlinewidth": 0,
              "ticks": ""
             }
            },
            "type": "scattermapbox"
           }
          ],
          "scatterpolar": [
           {
            "marker": {
             "colorbar": {
              "outlinewidth": 0,
              "ticks": ""
             }
            },
            "type": "scatterpolar"
           }
          ],
          "scatterpolargl": [
           {
            "marker": {
             "colorbar": {
              "outlinewidth": 0,
              "ticks": ""
             }
            },
            "type": "scatterpolargl"
           }
          ],
          "scatterternary": [
           {
            "marker": {
             "colorbar": {
              "outlinewidth": 0,
              "ticks": ""
             }
            },
            "type": "scatterternary"
           }
          ],
          "surface": [
           {
            "colorbar": {
             "outlinewidth": 0,
             "ticks": ""
            },
            "colorscale": [
             [
              0,
              "#0d0887"
             ],
             [
              0.1111111111111111,
              "#46039f"
             ],
             [
              0.2222222222222222,
              "#7201a8"
             ],
             [
              0.3333333333333333,
              "#9c179e"
             ],
             [
              0.4444444444444444,
              "#bd3786"
             ],
             [
              0.5555555555555556,
              "#d8576b"
             ],
             [
              0.6666666666666666,
              "#ed7953"
             ],
             [
              0.7777777777777778,
              "#fb9f3a"
             ],
             [
              0.8888888888888888,
              "#fdca26"
             ],
             [
              1,
              "#f0f921"
             ]
            ],
            "type": "surface"
           }
          ],
          "table": [
           {
            "cells": {
             "fill": {
              "color": "#EBF0F8"
             },
             "line": {
              "color": "white"
             }
            },
            "header": {
             "fill": {
              "color": "#C8D4E3"
             },
             "line": {
              "color": "white"
             }
            },
            "type": "table"
           }
          ]
         },
         "layout": {
          "annotationdefaults": {
           "arrowcolor": "#2a3f5f",
           "arrowhead": 0,
           "arrowwidth": 1
          },
          "autotypenumbers": "strict",
          "coloraxis": {
           "colorbar": {
            "outlinewidth": 0,
            "ticks": ""
           }
          },
          "colorscale": {
           "diverging": [
            [
             0,
             "#8e0152"
            ],
            [
             0.1,
             "#c51b7d"
            ],
            [
             0.2,
             "#de77ae"
            ],
            [
             0.3,
             "#f1b6da"
            ],
            [
             0.4,
             "#fde0ef"
            ],
            [
             0.5,
             "#f7f7f7"
            ],
            [
             0.6,
             "#e6f5d0"
            ],
            [
             0.7,
             "#b8e186"
            ],
            [
             0.8,
             "#7fbc41"
            ],
            [
             0.9,
             "#4d9221"
            ],
            [
             1,
             "#276419"
            ]
           ],
           "sequential": [
            [
             0,
             "#0d0887"
            ],
            [
             0.1111111111111111,
             "#46039f"
            ],
            [
             0.2222222222222222,
             "#7201a8"
            ],
            [
             0.3333333333333333,
             "#9c179e"
            ],
            [
             0.4444444444444444,
             "#bd3786"
            ],
            [
             0.5555555555555556,
             "#d8576b"
            ],
            [
             0.6666666666666666,
             "#ed7953"
            ],
            [
             0.7777777777777778,
             "#fb9f3a"
            ],
            [
             0.8888888888888888,
             "#fdca26"
            ],
            [
             1,
             "#f0f921"
            ]
           ],
           "sequentialminus": [
            [
             0,
             "#0d0887"
            ],
            [
             0.1111111111111111,
             "#46039f"
            ],
            [
             0.2222222222222222,
             "#7201a8"
            ],
            [
             0.3333333333333333,
             "#9c179e"
            ],
            [
             0.4444444444444444,
             "#bd3786"
            ],
            [
             0.5555555555555556,
             "#d8576b"
            ],
            [
             0.6666666666666666,
             "#ed7953"
            ],
            [
             0.7777777777777778,
             "#fb9f3a"
            ],
            [
             0.8888888888888888,
             "#fdca26"
            ],
            [
             1,
             "#f0f921"
            ]
           ]
          },
          "colorway": [
           "#636efa",
           "#EF553B",
           "#00cc96",
           "#ab63fa",
           "#FFA15A",
           "#19d3f3",
           "#FF6692",
           "#B6E880",
           "#FF97FF",
           "#FECB52"
          ],
          "font": {
           "color": "#2a3f5f"
          },
          "geo": {
           "bgcolor": "white",
           "lakecolor": "white",
           "landcolor": "#E5ECF6",
           "showlakes": true,
           "showland": true,
           "subunitcolor": "white"
          },
          "hoverlabel": {
           "align": "left"
          },
          "hovermode": "closest",
          "mapbox": {
           "style": "light"
          },
          "paper_bgcolor": "white",
          "plot_bgcolor": "#E5ECF6",
          "polar": {
           "angularaxis": {
            "gridcolor": "white",
            "linecolor": "white",
            "ticks": ""
           },
           "bgcolor": "#E5ECF6",
           "radialaxis": {
            "gridcolor": "white",
            "linecolor": "white",
            "ticks": ""
           }
          },
          "scene": {
           "xaxis": {
            "backgroundcolor": "#E5ECF6",
            "gridcolor": "white",
            "gridwidth": 2,
            "linecolor": "white",
            "showbackground": true,
            "ticks": "",
            "zerolinecolor": "white"
           },
           "yaxis": {
            "backgroundcolor": "#E5ECF6",
            "gridcolor": "white",
            "gridwidth": 2,
            "linecolor": "white",
            "showbackground": true,
            "ticks": "",
            "zerolinecolor": "white"
           },
           "zaxis": {
            "backgroundcolor": "#E5ECF6",
            "gridcolor": "white",
            "gridwidth": 2,
            "linecolor": "white",
            "showbackground": true,
            "ticks": "",
            "zerolinecolor": "white"
           }
          },
          "shapedefaults": {
           "line": {
            "color": "#2a3f5f"
           }
          },
          "ternary": {
           "aaxis": {
            "gridcolor": "white",
            "linecolor": "white",
            "ticks": ""
           },
           "baxis": {
            "gridcolor": "white",
            "linecolor": "white",
            "ticks": ""
           },
           "bgcolor": "#E5ECF6",
           "caxis": {
            "gridcolor": "white",
            "linecolor": "white",
            "ticks": ""
           }
          },
          "title": {
           "x": 0.05
          },
          "xaxis": {
           "automargin": true,
           "gridcolor": "white",
           "linecolor": "white",
           "ticks": "",
           "title": {
            "standoff": 15
           },
           "zerolinecolor": "white",
           "zerolinewidth": 2
          },
          "yaxis": {
           "automargin": true,
           "gridcolor": "white",
           "linecolor": "white",
           "ticks": "",
           "title": {
            "standoff": 15
           },
           "zerolinecolor": "white",
           "zerolinewidth": 2
          }
         }
        },
        "title": {
         "text": "DNI over Months"
        },
        "xaxis": {
         "anchor": "y",
         "domain": [
          0,
          1
         ],
         "title": {
          "text": "index"
         }
        },
        "yaxis": {
         "anchor": "x",
         "domain": [
          0,
          1
         ],
         "title": {
          "text": "DNI"
         }
        }
       }
      }
     },
     "metadata": {},
     "output_type": "display_data"
    },
    {
     "data": {
      "application/vnd.plotly.v1+json": {
       "config": {
        "plotlyServerURL": "https://plot.ly"
       },
       "data": [
        {
         "hovertemplate": "Month=1.0<br>index=%{x}<br>GHI=%{y}<extra></extra>",
         "legendgroup": "1.0",
         "line": {
          "color": "#636efa",
          "dash": "solid"
         },
         "marker": {
          "symbol": "circle"
         },
         "mode": "lines",
         "name": "1.0",
         "orientation": "v",
         "showlegend": true,
         "type": "scatter",
         "x": {
          "bdata": "AAECAwQFBgcICQoLDA0ODxAREhMUFRYXGBkaGxwdHg==",
          "dtype": "i1"
         },
         "xaxis": "x",
         "y": {
          "bdata": "zczMzMycbEAzMzMzM/NwQJqZmZmZuXlAmpmZmZkhd0CamZmZmXl6QGZmZmZmXntAAAAAAAAQe0BmZmZmZmZtQM3MzMzMRHxAMzMzMzP7eUCamZmZmcl9QDMzMzMzW31AmpmZmZnxfUDNzMzMzKx6QIq2GV10oXdAnyNNF13UdkBTtM3oootiQGHcsuiiO3ZA1iWZiy5aeEDrksxFF616QOuSzEUXfXhAYdyy6KJrc0DrksxFF917QOuSzEUXvX1AYdyy6KJbfUB2Seaii258QLSQgNFFR3pAYdyy6KJrdUB2Seaii151QNYlmYsuCn1AdknmootefkA=",
          "dtype": "f8"
         },
         "yaxis": "y"
        },
        {
         "hovertemplate": "Month=2.0<br>index=%{x}<br>GHI=%{y}<extra></extra>",
         "legendgroup": "2.0",
         "line": {
          "color": "#EF553B",
          "dash": "solid"
         },
         "marker": {
          "symbol": "circle"
         },
         "mode": "lines",
         "name": "2.0",
         "orientation": "v",
         "showlegend": true,
         "type": "scatter",
         "x": {
          "bdata": "HyAhIiMkJSYnKCkqKywtLi8wMTIzNDU2Nzg5",
          "dtype": "i1"
         },
         "xaxis": "x",
         "y": {
          "bdata": "1iWZiy66fUAAAAAAAIB+QOuSzEUXHX1AFW0zuugibkDWJZmLLsp8QLSQgNFFZ3tAnyNNF10UekAAAAAAAAB+QNYlmYsumn9AAAAAAABIgEAwbll00S2AQOuSzEUX3X9AtJCA0UW3f0B2Seaii16AQJ8jTRddVH9AMG5ZdNEVgUBaSMDoohOBQNCRposueoFA65LMRRddeEBh3LLooitzQJ8jTRddpHtAtJCA0UVXe0Aq2mZ00cV+QAAAAAAAkH5AMG5ZdNFlgEBF24wuuvCAQHZJ5qKLRoBA",
          "dtype": "f8"
         },
         "yaxis": "y"
        },
        {
         "hovertemplate": "Month=3.0<br>index=%{x}<br>GHI=%{y}<extra></extra>",
         "legendgroup": "3.0",
         "line": {
          "color": "#00cc96",
          "dash": "solid"
         },
         "marker": {
          "symbol": "circle"
         },
         "mode": "lines",
         "name": "3.0",
         "orientation": "v",
         "showlegend": true,
         "type": "scatter",
         "x": {
          "bdata": "Ojs8PT4/QEFCQ0RFRkdISUpLTE0=",
          "dtype": "i1"
         },
         "xaxis": "x",
         "y": {
          "bdata": "P0eaLrooZECmtz8XXXSAQLSQgNFFp3pAirYZXXRBfkBaSMDoooOAQAAAAAAA5HhAr2JMVVX1e0CozllVVQ2AQAAAAAAAsoFAUZ2zqqq6ckBRnbOqqmJ5QAAAAAAA8oBAAAAAAADoeUCvYkxVVal2QK9iTFVVmXNAAAAAAABYgEBYMaaqqhiBQAAAAAAA1oFAr2JMVVWpeEAAAAAAAECAQA==",
          "dtype": "f8"
         },
         "yaxis": "y"
        },
        {
         "hovertemplate": "Month=4.0<br>index=%{x}<br>GHI=%{y}<extra></extra>",
         "legendgroup": "4.0",
         "line": {
          "color": "#ab63fa",
          "dash": "solid"
         },
         "marker": {
          "symbol": "circle"
         },
         "mode": "lines",
         "name": "4.0",
         "orientation": "v",
         "showlegend": true,
         "type": "scatter",
         "x": {
          "bdata": "Tk9QUVJTVFVWV1hZWltcXV5fYGFiY2RlZmdoaWo=",
          "dtype": "i1"
         },
         "xaxis": "x",
         "y": {
          "bdata": "AAAAAAC4gkAAAAAAALCCQFgxpqqqloNAqM5ZVVU/g0CozllVVZ+DQAAAAAAAcINAAAAAAACqgkAAAAAAAER/QKjOWVVV2YJAWDGmqqoeg0AAAAAAAMiBQKjOWVVVI4NAAAAAAACAg0AAAAAAAJCAQK9iTFVVfX9AWDGmqqpkg0CozllVVZOBQK9iTFVV5XhAqM5ZVVXRgUBRnbOqqs5/QKjOWVVVA4JAWDGmqqrkgkBRnbOqqr52QKjOWVVVn4JAqM5ZVVVzgECozllVVdWBQFgxpqqqGoJAqM5ZVVV5g0CozllVVS+CQA==",
          "dtype": "f8"
         },
         "yaxis": "y"
        },
        {
         "hovertemplate": "Month=5.0<br>index=%{x}<br>GHI=%{y}<extra></extra>",
         "legendgroup": "5.0",
         "line": {
          "color": "#FFA15A",
          "dash": "solid"
         },
         "marker": {
          "symbol": "circle"
         },
         "mode": "lines",
         "name": "5.0",
         "orientation": "v",
         "showlegend": true,
         "type": "scatter",
         "x": {
          "bdata": "awBsAG0AbgBvAHAAcQByAHMAdAB1AHYAdwB4AHkAegB7AHwAfQB+AH8AgACBAIIAgwCEAIUAhgCHAIgAiQA=",
          "dtype": "i2"
         },
         "xaxis": "x",
         "y": {
          "bdata": "AAAAAABag0BYMaaqqliDQFgxpqqqgoNAAAAAAABig0CozllVVbuDQMluCzuxY35Ai0kkdmIvgkDZbWEndoqCQLLbwk7snIJAe0rOiZ1ofkAAAAAAALiCQPo3edu2JXtA/zOUJEk2gED/M5QkSfKAQAAAAAAAIHlA/zOUJEkmgUADZEOSJAmBQAAAAAAAAHxAA2RDkiQxgEADZEOSJAWAQP8zlCRJ8oFAAcxr27YRgkD+ZyhJkmCBQAAAAAAAeIBA/zOUJEkmgEAEMK9t2859QAAAAAAAQH1AA2RDkiQlgUD9m7xt2w6AQP2bvG3bRoBA/zOUJEkKgUA=",
          "dtype": "f8"
         },
         "yaxis": "y"
        },
        {
         "hovertemplate": "Month=6.0<br>index=%{x}<br>GHI=%{y}<extra></extra>",
         "legendgroup": "6.0",
         "line": {
          "color": "#19d3f3",
          "dash": "solid"
         },
         "marker": {
          "symbol": "circle"
         },
         "mode": "lines",
         "name": "6.0",
         "orientation": "v",
         "showlegend": true,
         "type": "scatter",
         "x": {
          "bdata": "igCLAIwAjQCOAI8AkACRAJIAkwCUAJUAlgCXAJgAmQCaAJsAnACdAJ4AnwCgAKEAogCjAKQApQCmAKcA",
          "dtype": "i2"
         },
         "xaxis": "x",
         "y": {
          "bdata": "BDCvbdt+fED+ZyhJksR1QAbIhiRJmnJACGBe27atakAAAAAAABCBQANkQ5IkVYBA/zOUJEmKgEAGyIYkSeJ+QPzPUJIkwXtAA2RDkiQlgUD6N3nbtg16QPo3edu2hX5ABsiGJEkqf0D6N3nbtuV0QAKY17ZtY3JABsiGJEl6eUAGyIYkSTJ1QPzPUJIkgXJAAAAAAAAAekAAAAAAAJB5QPo3edu2lXZA/M9QkiRZdUD8z1CSJMl5QAQwr23b5npABsiGJEm6d0AAAAAAAOB2QPo3edu2pXlABDCvbdsmfEACmNe2beNwQAlrY+zETmpA",
          "dtype": "f8"
         },
         "yaxis": "y"
        },
        {
         "hovertemplate": "Month=7.0<br>index=%{x}<br>GHI=%{y}<extra></extra>",
         "legendgroup": "7.0",
         "line": {
          "color": "#FF6692",
          "dash": "solid"
         },
         "marker": {
          "symbol": "circle"
         },
         "mode": "lines",
         "name": "7.0",
         "orientation": "v",
         "showlegend": true,
         "type": "scatter",
         "x": {
          "bdata": "qACpAKoAqwCsAK0ArgCvALAAsQCyALMAtAC1ALYAtwC4ALkAugC7ALwAvQC+AL8AwADBAMIAwwDEAMUAxgA=",
          "dtype": "i2"
         },
         "xaxis": "x",
         "y": {
          "bdata": "BDCvbdsOfUD+ZyhJklR7QAAAAAAAaHpA/mcoSZKcckD+ZyhJkrx0QAhgXtu2/WRA/M9QkiRRd0AEMK9t29Z8QAbIhiRJQnpAyW4LO7FTXkAXk0jsxF59QOlstxM7QYFAe0rOiZ1IfkCbSHpiJ0ZyQHtKzomdOHpAm0h6YidugEDpbLcTO9F6QBeTSOzEfn9AZbeFndiJeEAAAAAAAIBzQBeTSOzEznVA0tluJ3YCe0AAAAAAACiAQHtKzomd6HlAhbUxdmIHckAuJpHYiZ1/QJtIemInNnxA6Wy3EzvBc0AuJpHYiS12QDeR9MROzHtAstvCTuxEfkA=",
          "dtype": "f8"
         },
         "yaxis": "y"
        },
        {
         "hovertemplate": "Month=8.0<br>index=%{x}<br>GHI=%{y}<extra></extra>",
         "legendgroup": "8.0",
         "line": {
          "color": "#B6E880",
          "dash": "solid"
         },
         "marker": {
          "symbol": "circle"
         },
         "mode": "lines",
         "name": "8.0",
         "orientation": "v",
         "showlegend": true,
         "type": "scatter",
         "x": {
          "bdata": "xwDIAMkAygDLAMwAzQDOAM8A0ADRANIA0wDUANUA1gDXANgA2QDaANsA3ADdAN4A3wDgAOEA4gDjAOQA5QA=",
          "dtype": "i2"
         },
         "xaxis": "x",
         "y": {
          "bdata": "hbUxdmJHcUA3kfTETlx+QGW3hZ3YaXpAhbUxdmL3ekDpbLcTO4F0QBeTSOzE3nJAF5NI7MROe0DJbgs7sTN6QJtIemInhnZAZbeFndiJe0D3lJwTOxFqQG4i6Ymd2FlA95ScEzsRbUB7Ss6JnahzQC4mkdiJTXNAm0h6YifWeEBlt4Wd2ClvQFGds6qq+nNAUZ2zqqoCeEBRnbOqql5+QFGds6qqLnhAUZ2zqqpGd0CvYkxVVXV8QAAAAAAAQHpAAAAAAACYfUAAAAAAAPBxQAAAAAAABHFAojpnVVU1a0CiOmdVVX1sQKjOWVVVr4JAAAAAAAA4gUA=",
          "dtype": "f8"
         },
         "yaxis": "y"
        },
        {
         "hovertemplate": "Month=9.0<br>index=%{x}<br>GHI=%{y}<extra></extra>",
         "legendgroup": "9.0",
         "line": {
          "color": "#FF97FF",
          "dash": "solid"
         },
         "marker": {
          "symbol": "circle"
         },
         "mode": "lines",
         "name": "9.0",
         "orientation": "v",
         "showlegend": true,
         "type": "scatter",
         "x": {
          "bdata": "5gDnAOgA6QDqAOsA7ADtAO4A7wDwAPEA8gDzAPQA9QD2APcA+AD5APoA+wD8AP0A/gD/AAABAQECAQMB",
          "dtype": "i2"
         },
         "xaxis": "x",
         "y": {
          "bdata": "AAAAAADIfkBDdc6qqvpeQKjOWVVVD4BAAAAAAAC4gEAAAAAAAPR+QK9iTFVViXdAUZ2zqqqOfkAAAAAAAICAQAAAAAAAbH5AUZ2zqqqSdkAAAAAAADR7QAAAAAAAgHlAUZ2zqqrSd0CvYkxVVZF7QAAAAAAATHpAAAAAAABwdUBRnbOqquJ9QAAAAAAAkHtAUZ2zqqpCeEBRnbOqqgp3QFGds6qq6ntAUZ2zqqqCcUCvYkxVVT1wQEN1zqqqyl1AAAAAAACEe0CvYkxVVVl/QAAAAAAAqH5AUZ2zqqouf0BRnbOqqq5/QK9iTFVVFX5A",
          "dtype": "f8"
         },
         "yaxis": "y"
        },
        {
         "hovertemplate": "Month=10.0<br>index=%{x}<br>GHI=%{y}<extra></extra>",
         "legendgroup": "10.0",
         "line": {
          "color": "#FECB52",
          "dash": "solid"
         },
         "marker": {
          "symbol": "circle"
         },
         "mode": "lines",
         "name": "10.0",
         "orientation": "v",
         "showlegend": true,
         "type": "scatter",
         "x": {
          "bdata": "BAEFAQYBBwEIAQkBCgELAQwBDQEOAQ8BEAERARIBEwEUARUBFgEXARgBGQEaARsBHAEdAR4BHwEgASEBIgE=",
          "dtype": "i2"
         },
         "xaxis": "x",
         "y": {
          "bdata": "AAAAAAAofkCvYkxVVT1/QFGds6qqtn5AUZ2zqqp2dkCvYkxVVWVzQAAAAAAAMH1Ar2JMVVUtfEAAAAAAALB+QK9iTFVVNX1Ar2JMVVU5fUAAAAAAAOB8QAAAAAAAqHtAr2JMVVW1ekBRnbOqqvZ9QAAAAAAAeHxAAAAAAACIfEB2Seaiix59QCraZnTRtX5AirYZXXRhfUBMb38uuih8QCraZnTRlX5A1iWZiy46f0B2Seaiiz59QBVtM7ro4n1A65LMRRftfUAAAAAAAOB8QIq2GV108XxAdknmoosOfUAVbTO66GJ8QLSQgNFFt31AKtpmdNH1ekA=",
          "dtype": "f8"
         },
         "yaxis": "y"
        },
        {
         "hovertemplate": "Month=11.0<br>index=%{x}<br>GHI=%{y}<extra></extra>",
         "legendgroup": "11.0",
         "line": {
          "color": "#636efa",
          "dash": "solid"
         },
         "marker": {
          "symbol": "circle"
         },
         "mode": "lines",
         "name": "11.0",
         "orientation": "v",
         "showlegend": true,
         "type": "scatter",
         "x": {
          "bdata": "IwEkASUBJgEnASgBKQEqASsBLAEtAS4BLwEwATEBMgEzATQBNQE2ATcBOAE5AToBOwE8AT0BPgE/AUAB",
          "dtype": "i2"
         },
         "xaxis": "x",
         "y": {
          "bdata": "tJCA0UWneUCKthlddCF7QGHcsuiiC31AnyNNF100fkBh3LLoomt9QCraZnTRpXpAnyNNF13keUAVbTO66PJ5QExvfy66yHhAAAAAAABgeUAVbTO66KJ7QJ8jTRddhHhA65LMRRetd0CfI00XXZR4QGHcsuiia3hAAAAAAAAweUDrksxFF814QGghAaOLbmVAzczMzMzMd0AAAAAAAMB5QJqZmZmZMX1AzczMzMwkfkCamZmZmbF9QM3MzMzMlH1AmpmZmZnBfUAzMzMzM9N5QDMzMzMzK3VAmpmZmZlJfEAAAAAAAJh8QM3MzMzMvHxA",
          "dtype": "f8"
         },
         "yaxis": "y"
        },
        {
         "hovertemplate": "Month=12.0<br>index=%{x}<br>GHI=%{y}<extra></extra>",
         "legendgroup": "12.0",
         "line": {
          "color": "#EF553B",
          "dash": "solid"
         },
         "marker": {
          "symbol": "circle"
         },
         "mode": "lines",
         "name": "12.0",
         "orientation": "v",
         "showlegend": true,
         "type": "scatter",
         "x": {
          "bdata": "QQFCAUMBRAFFAUYBRwFIAUkBSgFLAUwBTQFOAU8BUAFRAVIBUwFUAVUBVgFXAVgBWQFaAVsBXAFdAV4B",
          "dtype": "i2"
         },
         "xaxis": "x",
         "y": {
          "bdata": "ZmZmZmaufEAAAAAAAEB6QAAAAAAAcHtAAAAAAAA4fEAzMzMzMxt8QJqZmZmZWXxAMzMzMzMzfEDNzMzMzNR6QM3MzMzM5HpAmpmZmZmJe0BmZmZmZgZtQAAAAAAAMGdAAAAAAADgcUAAAAAAAKBhQDMzMzMzw21AZmZmZmYmY0BmZmZmZlZ6QAAAAAAASH1AzczMzMy0fEBmZmZmZk56QM3MzMzMdHpAmpmZmZm5ekCamZmZmVF6QGZmZmZmXntAZmZmZmaGekAzMzMzMwt8QAAAAAAA+HpAMzMzMzMTeUCamZmZmUF4QDMzMzMz83dA",
          "dtype": "f8"
         },
         "yaxis": "y"
        }
       ],
       "layout": {
        "legend": {
         "title": {
          "text": "Month"
         },
         "tracegroupgap": 0
        },
        "template": {
         "data": {
          "bar": [
           {
            "error_x": {
             "color": "#2a3f5f"
            },
            "error_y": {
             "color": "#2a3f5f"
            },
            "marker": {
             "line": {
              "color": "#E5ECF6",
              "width": 0.5
             },
             "pattern": {
              "fillmode": "overlay",
              "size": 10,
              "solidity": 0.2
             }
            },
            "type": "bar"
           }
          ],
          "barpolar": [
           {
            "marker": {
             "line": {
              "color": "#E5ECF6",
              "width": 0.5
             },
             "pattern": {
              "fillmode": "overlay",
              "size": 10,
              "solidity": 0.2
             }
            },
            "type": "barpolar"
           }
          ],
          "carpet": [
           {
            "aaxis": {
             "endlinecolor": "#2a3f5f",
             "gridcolor": "white",
             "linecolor": "white",
             "minorgridcolor": "white",
             "startlinecolor": "#2a3f5f"
            },
            "baxis": {
             "endlinecolor": "#2a3f5f",
             "gridcolor": "white",
             "linecolor": "white",
             "minorgridcolor": "white",
             "startlinecolor": "#2a3f5f"
            },
            "type": "carpet"
           }
          ],
          "choropleth": [
           {
            "colorbar": {
             "outlinewidth": 0,
             "ticks": ""
            },
            "type": "choropleth"
           }
          ],
          "contour": [
           {
            "colorbar": {
             "outlinewidth": 0,
             "ticks": ""
            },
            "colorscale": [
             [
              0,
              "#0d0887"
             ],
             [
              0.1111111111111111,
              "#46039f"
             ],
             [
              0.2222222222222222,
              "#7201a8"
             ],
             [
              0.3333333333333333,
              "#9c179e"
             ],
             [
              0.4444444444444444,
              "#bd3786"
             ],
             [
              0.5555555555555556,
              "#d8576b"
             ],
             [
              0.6666666666666666,
              "#ed7953"
             ],
             [
              0.7777777777777778,
              "#fb9f3a"
             ],
             [
              0.8888888888888888,
              "#fdca26"
             ],
             [
              1,
              "#f0f921"
             ]
            ],
            "type": "contour"
           }
          ],
          "contourcarpet": [
           {
            "colorbar": {
             "outlinewidth": 0,
             "ticks": ""
            },
            "type": "contourcarpet"
           }
          ],
          "heatmap": [
           {
            "colorbar": {
             "outlinewidth": 0,
             "ticks": ""
            },
            "colorscale": [
             [
              0,
              "#0d0887"
             ],
             [
              0.1111111111111111,
              "#46039f"
             ],
             [
              0.2222222222222222,
              "#7201a8"
             ],
             [
              0.3333333333333333,
              "#9c179e"
             ],
             [
              0.4444444444444444,
              "#bd3786"
             ],
             [
              0.5555555555555556,
              "#d8576b"
             ],
             [
              0.6666666666666666,
              "#ed7953"
             ],
             [
              0.7777777777777778,
              "#fb9f3a"
             ],
             [
              0.8888888888888888,
              "#fdca26"
             ],
             [
              1,
              "#f0f921"
             ]
            ],
            "type": "heatmap"
           }
          ],
          "histogram": [
           {
            "marker": {
             "pattern": {
              "fillmode": "overlay",
              "size": 10,
              "solidity": 0.2
             }
            },
            "type": "histogram"
           }
          ],
          "histogram2d": [
           {
            "colorbar": {
             "outlinewidth": 0,
             "ticks": ""
            },
            "colorscale": [
             [
              0,
              "#0d0887"
             ],
             [
              0.1111111111111111,
              "#46039f"
             ],
             [
              0.2222222222222222,
              "#7201a8"
             ],
             [
              0.3333333333333333,
              "#9c179e"
             ],
             [
              0.4444444444444444,
              "#bd3786"
             ],
             [
              0.5555555555555556,
              "#d8576b"
             ],
             [
              0.6666666666666666,
              "#ed7953"
             ],
             [
              0.7777777777777778,
              "#fb9f3a"
             ],
             [
              0.8888888888888888,
              "#fdca26"
             ],
             [
              1,
              "#f0f921"
             ]
            ],
            "type": "histogram2d"
           }
          ],
          "histogram2dcontour": [
           {
            "colorbar": {
             "outlinewidth": 0,
             "ticks": ""
            },
            "colorscale": [
             [
              0,
              "#0d0887"
             ],
             [
              0.1111111111111111,
              "#46039f"
             ],
             [
              0.2222222222222222,
              "#7201a8"
             ],
             [
              0.3333333333333333,
              "#9c179e"
             ],
             [
              0.4444444444444444,
              "#bd3786"
             ],
             [
              0.5555555555555556,
              "#d8576b"
             ],
             [
              0.6666666666666666,
              "#ed7953"
             ],
             [
              0.7777777777777778,
              "#fb9f3a"
             ],
             [
              0.8888888888888888,
              "#fdca26"
             ],
             [
              1,
              "#f0f921"
             ]
            ],
            "type": "histogram2dcontour"
           }
          ],
          "mesh3d": [
           {
            "colorbar": {
             "outlinewidth": 0,
             "ticks": ""
            },
            "type": "mesh3d"
           }
          ],
          "parcoords": [
           {
            "line": {
             "colorbar": {
              "outlinewidth": 0,
              "ticks": ""
             }
            },
            "type": "parcoords"
           }
          ],
          "pie": [
           {
            "automargin": true,
            "type": "pie"
           }
          ],
          "scatter": [
           {
            "fillpattern": {
             "fillmode": "overlay",
             "size": 10,
             "solidity": 0.2
            },
            "type": "scatter"
           }
          ],
          "scatter3d": [
           {
            "line": {
             "colorbar": {
              "outlinewidth": 0,
              "ticks": ""
             }
            },
            "marker": {
             "colorbar": {
              "outlinewidth": 0,
              "ticks": ""
             }
            },
            "type": "scatter3d"
           }
          ],
          "scattercarpet": [
           {
            "marker": {
             "colorbar": {
              "outlinewidth": 0,
              "ticks": ""
             }
            },
            "type": "scattercarpet"
           }
          ],
          "scattergeo": [
           {
            "marker": {
             "colorbar": {
              "outlinewidth": 0,
              "ticks": ""
             }
            },
            "type": "scattergeo"
           }
          ],
          "scattergl": [
           {
            "marker": {
             "colorbar": {
              "outlinewidth": 0,
              "ticks": ""
             }
            },
            "type": "scattergl"
           }
          ],
          "scattermap": [
           {
            "marker": {
             "colorbar": {
              "outlinewidth": 0,
              "ticks": ""
             }
            },
            "type": "scattermap"
           }
          ],
          "scattermapbox": [
           {
            "marker": {
             "colorbar": {
              "outlinewidth": 0,
              "ticks": ""
             }
            },
            "type": "scattermapbox"
           }
          ],
          "scatterpolar": [
           {
            "marker": {
             "colorbar": {
              "outlinewidth": 0,
              "ticks": ""
             }
            },
            "type": "scatterpolar"
           }
          ],
          "scatterpolargl": [
           {
            "marker": {
             "colorbar": {
              "outlinewidth": 0,
              "ticks": ""
             }
            },
            "type": "scatterpolargl"
           }
          ],
          "scatterternary": [
           {
            "marker": {
             "colorbar": {
              "outlinewidth": 0,
              "ticks": ""
             }
            },
            "type": "scatterternary"
           }
          ],
          "surface": [
           {
            "colorbar": {
             "outlinewidth": 0,
             "ticks": ""
            },
            "colorscale": [
             [
              0,
              "#0d0887"
             ],
             [
              0.1111111111111111,
              "#46039f"
             ],
             [
              0.2222222222222222,
              "#7201a8"
             ],
             [
              0.3333333333333333,
              "#9c179e"
             ],
             [
              0.4444444444444444,
              "#bd3786"
             ],
             [
              0.5555555555555556,
              "#d8576b"
             ],
             [
              0.6666666666666666,
              "#ed7953"
             ],
             [
              0.7777777777777778,
              "#fb9f3a"
             ],
             [
              0.8888888888888888,
              "#fdca26"
             ],
             [
              1,
              "#f0f921"
             ]
            ],
            "type": "surface"
           }
          ],
          "table": [
           {
            "cells": {
             "fill": {
              "color": "#EBF0F8"
             },
             "line": {
              "color": "white"
             }
            },
            "header": {
             "fill": {
              "color": "#C8D4E3"
             },
             "line": {
              "color": "white"
             }
            },
            "type": "table"
           }
          ]
         },
         "layout": {
          "annotationdefaults": {
           "arrowcolor": "#2a3f5f",
           "arrowhead": 0,
           "arrowwidth": 1
          },
          "autotypenumbers": "strict",
          "coloraxis": {
           "colorbar": {
            "outlinewidth": 0,
            "ticks": ""
           }
          },
          "colorscale": {
           "diverging": [
            [
             0,
             "#8e0152"
            ],
            [
             0.1,
             "#c51b7d"
            ],
            [
             0.2,
             "#de77ae"
            ],
            [
             0.3,
             "#f1b6da"
            ],
            [
             0.4,
             "#fde0ef"
            ],
            [
             0.5,
             "#f7f7f7"
            ],
            [
             0.6,
             "#e6f5d0"
            ],
            [
             0.7,
             "#b8e186"
            ],
            [
             0.8,
             "#7fbc41"
            ],
            [
             0.9,
             "#4d9221"
            ],
            [
             1,
             "#276419"
            ]
           ],
           "sequential": [
            [
             0,
             "#0d0887"
            ],
            [
             0.1111111111111111,
             "#46039f"
            ],
            [
             0.2222222222222222,
             "#7201a8"
            ],
            [
             0.3333333333333333,
             "#9c179e"
            ],
            [
             0.4444444444444444,
             "#bd3786"
            ],
            [
             0.5555555555555556,
             "#d8576b"
            ],
            [
             0.6666666666666666,
             "#ed7953"
            ],
            [
             0.7777777777777778,
             "#fb9f3a"
            ],
            [
             0.8888888888888888,
             "#fdca26"
            ],
            [
             1,
             "#f0f921"
            ]
           ],
           "sequentialminus": [
            [
             0,
             "#0d0887"
            ],
            [
             0.1111111111111111,
             "#46039f"
            ],
            [
             0.2222222222222222,
             "#7201a8"
            ],
            [
             0.3333333333333333,
             "#9c179e"
            ],
            [
             0.4444444444444444,
             "#bd3786"
            ],
            [
             0.5555555555555556,
             "#d8576b"
            ],
            [
             0.6666666666666666,
             "#ed7953"
            ],
            [
             0.7777777777777778,
             "#fb9f3a"
            ],
            [
             0.8888888888888888,
             "#fdca26"
            ],
            [
             1,
             "#f0f921"
            ]
           ]
          },
          "colorway": [
           "#636efa",
           "#EF553B",
           "#00cc96",
           "#ab63fa",
           "#FFA15A",
           "#19d3f3",
           "#FF6692",
           "#B6E880",
           "#FF97FF",
           "#FECB52"
          ],
          "font": {
           "color": "#2a3f5f"
          },
          "geo": {
           "bgcolor": "white",
           "lakecolor": "white",
           "landcolor": "#E5ECF6",
           "showlakes": true,
           "showland": true,
           "subunitcolor": "white"
          },
          "hoverlabel": {
           "align": "left"
          },
          "hovermode": "closest",
          "mapbox": {
           "style": "light"
          },
          "paper_bgcolor": "white",
          "plot_bgcolor": "#E5ECF6",
          "polar": {
           "angularaxis": {
            "gridcolor": "white",
            "linecolor": "white",
            "ticks": ""
           },
           "bgcolor": "#E5ECF6",
           "radialaxis": {
            "gridcolor": "white",
            "linecolor": "white",
            "ticks": ""
           }
          },
          "scene": {
           "xaxis": {
            "backgroundcolor": "#E5ECF6",
            "gridcolor": "white",
            "gridwidth": 2,
            "linecolor": "white",
            "showbackground": true,
            "ticks": "",
            "zerolinecolor": "white"
           },
           "yaxis": {
            "backgroundcolor": "#E5ECF6",
            "gridcolor": "white",
            "gridwidth": 2,
            "linecolor": "white",
            "showbackground": true,
            "ticks": "",
            "zerolinecolor": "white"
           },
           "zaxis": {
            "backgroundcolor": "#E5ECF6",
            "gridcolor": "white",
            "gridwidth": 2,
            "linecolor": "white",
            "showbackground": true,
            "ticks": "",
            "zerolinecolor": "white"
           }
          },
          "shapedefaults": {
           "line": {
            "color": "#2a3f5f"
           }
          },
          "ternary": {
           "aaxis": {
            "gridcolor": "white",
            "linecolor": "white",
            "ticks": ""
           },
           "baxis": {
            "gridcolor": "white",
            "linecolor": "white",
            "ticks": ""
           },
           "bgcolor": "#E5ECF6",
           "caxis": {
            "gridcolor": "white",
            "linecolor": "white",
            "ticks": ""
           }
          },
          "title": {
           "x": 0.05
          },
          "xaxis": {
           "automargin": true,
           "gridcolor": "white",
           "linecolor": "white",
           "ticks": "",
           "title": {
            "standoff": 15
           },
           "zerolinecolor": "white",
           "zerolinewidth": 2
          },
          "yaxis": {
           "automargin": true,
           "gridcolor": "white",
           "linecolor": "white",
           "ticks": "",
           "title": {
            "standoff": 15
           },
           "zerolinecolor": "white",
           "zerolinewidth": 2
          }
         }
        },
        "title": {
         "text": "GHI over Months"
        },
        "xaxis": {
         "anchor": "y",
         "domain": [
          0,
          1
         ],
         "title": {
          "text": "index"
         }
        },
        "yaxis": {
         "anchor": "x",
         "domain": [
          0,
          1
         ],
         "title": {
          "text": "GHI"
         }
        }
       }
      }
     },
     "metadata": {},
     "output_type": "display_data"
    },
    {
     "data": {
      "application/vnd.plotly.v1+json": {
       "config": {
        "plotlyServerURL": "https://plot.ly"
       },
       "data": [
        {
         "hovertemplate": "Month=1.0<br>index=%{x}<br>Actual Generation(Mu)=%{y}<extra></extra>",
         "legendgroup": "1.0",
         "line": {
          "color": "#636efa",
          "dash": "solid"
         },
         "marker": {
          "symbol": "circle"
         },
         "mode": "lines",
         "name": "1.0",
         "orientation": "v",
         "showlegend": true,
         "type": "scatter",
         "x": {
          "bdata": "AAECAwQFBgcICQoLDA0ODxAREhMUFRYXGBkaGxwdHg==",
          "dtype": "i1"
         },
         "xaxis": "x",
         "y": {
          "bdata": "exSuR+F65D+F61G4HoXbP8P1KFyPwu0/16NwPQrX6z9SuB6F61H0P1K4HoXrUfg/16NwPQrX9z/2KFyPwvXgP3sUrkfhevQ/CtejcD0K9z8zMzMzMzP7P5qZmZmZmfk/FK5H4XoU+j/NzMzMzMz0P1K4HoXrUfQ/ZmZmZmZm8j+F61G4HoXbP8P1KFyPwu0/exSuR+F68D/NzMzMzMz4PxSuR+F6FPY/7FG4HoXr6T9mZmZmZmb6PwAAAAAAAPw/hetRuB6F+z8K16NwPQr7PwAAAAAAAPg/pHA9Ctej8D9cj8L1KFzvPwrXo3A9Cvs/AAAAAAAA/D8=",
          "dtype": "f8"
         },
         "yaxis": "y"
        },
        {
         "hovertemplate": "Month=2.0<br>index=%{x}<br>Actual Generation(Mu)=%{y}<extra></extra>",
         "legendgroup": "2.0",
         "line": {
          "color": "#EF553B",
          "dash": "solid"
         },
         "marker": {
          "symbol": "circle"
         },
         "mode": "lines",
         "name": "2.0",
         "orientation": "v",
         "showlegend": true,
         "type": "scatter",
         "x": {
          "bdata": "HyAhIiMkJSYnKCkqKywtLi8wMTIzNDU2Nzg5",
          "dtype": "i1"
         },
         "xaxis": "x",
         "y": {
          "bdata": "XI/C9Shc+z8AAAAAAAD8PxSuR+F6FPo/CtejcD0K5z8AAAAAAAD4PzMzMzMzM/c/ZmZmZmZm8j/D9Shcj8L5P+F6FK5H4fo/16NwPQrX+z+F61G4HoX7Pylcj8L1KPw/XI/C9Shc+z8pXI/C9Sj8P83MzMzMzPw/SOF6FK5H/T9SuB6F61H8Px+F61G4Hv0/j8L1KFyP8j8fhetRuB7xPx+F61G4HvE/16NwPQrX6z8fhetRuB7xP0jhehSuR/E/H4XrUbge+T8zMzMzMzP7P+F6FK5H4fo/",
          "dtype": "f8"
         },
         "yaxis": "y"
        },
        {
         "hovertemplate": "Month=3.0<br>index=%{x}<br>Actual Generation(Mu)=%{y}<extra></extra>",
         "legendgroup": "3.0",
         "line": {
          "color": "#00cc96",
          "dash": "solid"
         },
         "marker": {
          "symbol": "circle"
         },
         "mode": "lines",
         "name": "3.0",
         "orientation": "v",
         "showlegend": true,
         "type": "scatter",
         "x": {
          "bdata": "Ojs8PT4/QEFCQ0RFRkdISUpLTE0=",
          "dtype": "i1"
         },
         "xaxis": "x",
         "y": {
          "bdata": "MzMzMzMz6z+uR+F6FK77P1K4HoXrUfQ/MzMzMzMz9z8K16NwPQr3PwrXo3A9Cvc/uB6F61G49j9xPQrXo3D9PzMzMzMzM/8/SOF6FK5H8T8K16NwPQrzPylcj8L1KPg/MzMzMzMz8z/2KFyPwvXwPwrXo3A9Cu8/hetRuB6F+z+kcD0K16P8PxSuR+F6FP4/UrgehetR8D8AAAAAAAD8Pw==",
          "dtype": "f8"
         },
         "yaxis": "y"
        },
        {
         "hovertemplate": "Month=4.0<br>index=%{x}<br>Actual Generation(Mu)=%{y}<extra></extra>",
         "legendgroup": "4.0",
         "line": {
          "color": "#ab63fa",
          "dash": "solid"
         },
         "marker": {
          "symbol": "circle"
         },
         "mode": "lines",
         "name": "4.0",
         "orientation": "v",
         "showlegend": true,
         "type": "scatter",
         "x": {
          "bdata": "Tk9QUVJTVFVWV1hZWltcXV5fYGFiY2RlZmdoaWo=",
          "dtype": "i1"
         },
         "xaxis": "x",
         "y": {
          "bdata": "AAAAAAAA/D8AAAAAAAD8P+xRuB6F6/0/zczMzMzM/D+amZmZmZn9P83MzMzMzPw/4XoUrkfh+j9cj8L1KFz3P4XrUbgehfs/exSuR+F6/D+4HoXrUbj6PwAAAAAAAPw/UrgehetR/D9cj8L1KFz3Pylcj8L1KPg/MzMzMzMz+z8K16NwPQr3P+xRuB6F6/E/exSuR+F6+D97FK5H4Xr0P2ZmZmZmZvo/pHA9Ctej+D/hehSuR+HyP2ZmZmZmZvo/rkfhehSu9z+kcD0K16P4P1yPwvUoXPs/exSuR+F6/D8fhetRuB75Pw==",
          "dtype": "f8"
         },
         "yaxis": "y"
        },
        {
         "hovertemplate": "Month=5.0<br>index=%{x}<br>Actual Generation(Mu)=%{y}<extra></extra>",
         "legendgroup": "5.0",
         "line": {
          "color": "#FFA15A",
          "dash": "solid"
         },
         "marker": {
          "symbol": "circle"
         },
         "mode": "lines",
         "name": "5.0",
         "orientation": "v",
         "showlegend": true,
         "type": "scatter",
         "x": {
          "bdata": "awBsAG0AbgBvAHAAcQByAHMAdAB1AHYAdwB4AHkAegB7AHwAfQB+AH8AgACBAIIAgwCEAIUAhgCHAIgAiQA=",
          "dtype": "i2"
         },
         "xaxis": "x",
         "y": {
          "bdata": "rkfhehSu+z9mZmZmZmb6PzMzMzMzM/s/rkfhehSu+z8fhetRuB79P/YoXI/C9fg/XI/C9Shc+z+4HoXrUbj6P3sUrkfhevw/MzMzMzMz9z97FK5H4Xr8P65H4XoUrvc/pHA9Ctej+D9cj8L1KFz7P3E9CtejcO0/7FG4HoXr+T+4HoXrUbj6P1K4HoXrUfA/4XoUrkfh+j8K16NwPQr3Px+F61G4Hv0/H4XrUbge/T/Xo3A9Ctf7P83MzMzMzPg/SOF6FK5H+T+PwvUoXI/6P8P1KFyPwvU/MzMzMzMz+z+PwvUoXI/6P4XrUbgehfs/cT0K16Nw+T8=",
          "dtype": "f8"
         },
         "yaxis": "y"
        },
        {
         "hovertemplate": "Month=6.0<br>index=%{x}<br>Actual Generation(Mu)=%{y}<extra></extra>",
         "legendgroup": "6.0",
         "line": {
          "color": "#19d3f3",
          "dash": "solid"
         },
         "marker": {
          "symbol": "circle"
         },
         "mode": "lines",
         "name": "6.0",
         "orientation": "v",
         "showlegend": true,
         "type": "scatter",
         "x": {
          "bdata": "igCLAIwAjQCOAI8AkACRAJIAkwCUAJUAlgCXAJgAmQCaAJsAnACdAJ4AnwCgAKEAogCjAKQApQCmAKcA",
          "dtype": "i2"
         },
         "xaxis": "x",
         "y": {
          "bdata": "16NwPQrX8z/Xo3A9CtfzP7gehetRuO4/uB6F61G47j+amZmZmZnhP5qZmZmZmfU/j8L1KFyP+j+uR+F6FK77PwrXo3A9Cvc/uB6F61G4+j8pXI/C9Sj0P83MzMzMzPg/KVyPwvUo9D9mZmZmZmbuP4/C9Shcj+o/16NwPQrX8z97FK5H4XrkPwAAAAAAAOg/ZmZmZmZm7j8zMzMzMzPzP83MzMzMzOQ/H4XrUbge5T9mZmZmZmbyP8P1KFyPwvU/MzMzMzMz8z/NzMzMzMzwP/YoXI/C9fQ/zczMzMzM9D8fhetRuB7lP+xRuB6F6/E/",
          "dtype": "f8"
         },
         "yaxis": "y"
        },
        {
         "hovertemplate": "Month=7.0<br>index=%{x}<br>Actual Generation(Mu)=%{y}<extra></extra>",
         "legendgroup": "7.0",
         "line": {
          "color": "#FF6692",
          "dash": "solid"
         },
         "marker": {
          "symbol": "circle"
         },
         "mode": "lines",
         "name": "7.0",
         "orientation": "v",
         "showlegend": true,
         "type": "scatter",
         "x": {
          "bdata": "qACpAKoAqwCsAK0ArgCvALAAsQCyALMAtAC1ALYAtwC4ALkAugC7ALwAvQC+AL8AwADBAMIAwwDEAMUAxgA=",
          "dtype": "i2"
         },
         "xaxis": "x",
         "y": {
          "bdata": "KVyPwvUo+D+F61G4HoXzPwAAAAAAAPQ/AAAAAAAA6D8K16NwPQrnPwAAAAAAAOA/rkfhehSu7z+kcD0K16P4P2ZmZmZmZvY/zczMzMzM3D+F61G4HoXzP8P1KFyPwvk/KVyPwvUo+D8UrkfhehTmP65H4XoUru8/KVyPwvUo+D8K16NwPQr3Pylcj8L1KPQ/9ihcj8L18D9I4XoUrkfpP2ZmZmZmZu4/w/UoXI/C+T8zMzMzMzP3PzMzMzMzM/M/H4XrUbge5T9cj8L1KFz3P3E9CtejcPU/exSuR+F67D+4HoXrUbjuP3sUrkfhevA/UrgehetR9D8=",
          "dtype": "f8"
         },
         "yaxis": "y"
        },
        {
         "hovertemplate": "Month=8.0<br>index=%{x}<br>Actual Generation(Mu)=%{y}<extra></extra>",
         "legendgroup": "8.0",
         "line": {
          "color": "#B6E880",
          "dash": "solid"
         },
         "marker": {
          "symbol": "circle"
         },
         "mode": "lines",
         "name": "8.0",
         "orientation": "v",
         "showlegend": true,
         "type": "scatter",
         "x": {
          "bdata": "xwDIAMkAygDLAMwAzQDOAM8A0ADRANIA0wDUANUA1gDXANgA2QDaANsA3ADdAN4A3wDgAOEA4gDjAOQA5QA=",
          "dtype": "i2"
         },
         "xaxis": "x",
         "y": {
          "bdata": "uB6F61G47j+kcD0K16P4P6RwPQrXo/Q/uB6F61G4+j/sUbgehevxP3sUrkfhevA/SOF6FK5H9T9SuB6F61HwP83MzMzMzOw/KVyPwvUo9D/NzMzMzMzcPylcj8L1KNw/H4XrUbge5T+4HoXrUbjuPwAAAAAAAOg/ZmZmZmZm8j/2KFyPwvXwPzMzMzMzM/M/rkfhehSu5z+uR+F6FK7zP0jhehSuR/E/FK5H4XoU8j+4HoXrUbj2PwrXo3A9Cu8/mpmZmZmZ9T/NzMzMzMzkP7gehetRuO4/H4XrUbge5T8fhetRuB7lP6RwPQrXo/g/XI/C9Shc+z8=",
          "dtype": "f8"
         },
         "yaxis": "y"
        },
        {
         "hovertemplate": "Month=9.0<br>index=%{x}<br>Actual Generation(Mu)=%{y}<extra></extra>",
         "legendgroup": "9.0",
         "line": {
          "color": "#FF97FF",
          "dash": "solid"
         },
         "marker": {
          "symbol": "circle"
         },
         "mode": "lines",
         "name": "9.0",
         "orientation": "v",
         "showlegend": true,
         "type": "scatter",
         "x": {
          "bdata": "5gDnAOgA6QDqAOsA7ADtAO4A7wDwAPEA8gDzAPQA9QD2APcA+AD5APoA+wD8AP0A/gD/AAABAQECAQMB",
          "dtype": "i2"
         },
         "xaxis": "x",
         "y": {
          "bdata": "cT0K16Nw9T9xPQrXo3DNP1yPwvUoXPc/SOF6FK5H9T+F61G4HoXzPxSuR+F6FPI/4XoUrkfh9j9I4XoUrkf1P2ZmZmZmZvY/SOF6FK5H6T9SuB6F61H0P65H4XoUruc/exSuR+F69D+kcD0K16PwP9ejcD0K1/M/H4XrUbge9T8zMzMzMzP3P+xRuB6F6/U/cT0K16Nw7T+uR+F6FK7nPx+F61G4HvU/7FG4HoXr6T8fhetRuB7tP5qZmZmZmdk/j8L1KFyP8j9cj8L1KFz3Pylcj8L1KPg/16NwPQrX9z/2KFyPwvX4P3sUrkfhevg/",
          "dtype": "f8"
         },
         "yaxis": "y"
        },
        {
         "hovertemplate": "Month=10.0<br>index=%{x}<br>Actual Generation(Mu)=%{y}<extra></extra>",
         "legendgroup": "10.0",
         "line": {
          "color": "#FECB52",
          "dash": "solid"
         },
         "marker": {
          "symbol": "circle"
         },
         "mode": "lines",
         "name": "10.0",
         "orientation": "v",
         "showlegend": true,
         "type": "scatter",
         "x": {
          "bdata": "BAEFAQYBBwEIAQkBCgELAQwBDQEOAQ8BEAERARIBEwEUARUBFgEXARgBGQEaARsBHAEdAR4BHwEgASEBIgE=",
          "dtype": "i2"
         },
         "xaxis": "x",
         "y": {
          "bdata": "rkfhehSu9z8UrkfhehT6P+F6FK5H4fI/4XoUrkfh6j+PwvUoXI/iP+xRuB6F6/E/H4XrUbge8T97FK5H4Xr4P8P1KFyPwvE/exSuR+F69D8K16NwPQr3P65H4XoUrvM/9ihcj8L19D8zMzMzMzP3P2ZmZmZmZvY/MzMzMzMz8z9I4XoUrkfxP8P1KFyPwvU/AAAAAAAA9D/sUbgehevxP3sUrkfhevQ/H4XrUbge9T9cj8L1KFzzP4XrUbgehfM/XI/C9Shc8z9mZmZmZmbyP1yPwvUoXPM/XI/C9Shc8z89CtejcD3yP/YoXI/C9fQ/ZmZmZmZm8j8=",
          "dtype": "f8"
         },
         "yaxis": "y"
        },
        {
         "hovertemplate": "Month=11.0<br>index=%{x}<br>Actual Generation(Mu)=%{y}<extra></extra>",
         "legendgroup": "11.0",
         "line": {
          "color": "#636efa",
          "dash": "solid"
         },
         "marker": {
          "symbol": "circle"
         },
         "mode": "lines",
         "name": "11.0",
         "orientation": "v",
         "showlegend": true,
         "type": "scatter",
         "x": {
          "bdata": "IwEkASUBJgEnASgBKQEqASsBLAEtAS4BLwEwATEBMgEzATQBNQE2ATcBOAE5AToBOwE8AT0BPgE/AUAB",
          "dtype": "i2"
         },
         "xaxis": "x",
         "y": {
          "bdata": "7FG4HoXr8T8zMzMzMzPzPwAAAAAAAPQ/pHA9Ctej9D+kcD0K16P0PwrXo3A9CvM/SOF6FK5H8T8UrkfhehTyP83MzMzMzPA/7FG4HoXr8T+4HoXrUbjyPylcj8L1KPA/zczMzMzM7D/NzMzMzMzwP3E9CtejcO0/cT0K16Nw8T/sUbgehevxPxSuR+F6FN4/cT0K16Nw7T97FK5H4XrwPxSuR+F6FPY/4XoUrkfh9j/hehSuR+H2Pz0K16NwPfY/CtejcD0K9z8pXI/C9Sj0P65H4XoUruc/ZmZmZmZm9j8UrkfhehT2P2ZmZmZmZvY/",
          "dtype": "f8"
         },
         "yaxis": "y"
        },
        {
         "hovertemplate": "Month=12.0<br>index=%{x}<br>Actual Generation(Mu)=%{y}<extra></extra>",
         "legendgroup": "12.0",
         "line": {
          "color": "#EF553B",
          "dash": "solid"
         },
         "marker": {
          "symbol": "circle"
         },
         "mode": "lines",
         "name": "12.0",
         "orientation": "v",
         "showlegend": true,
         "type": "scatter",
         "x": {
          "bdata": "QQFCAUMBRAFFAUYBRwFIAUkBSgFLAUwBTQFOAU8BUAFRAVIBUwFUAVUBVgFXAVgBWQFaAVsBXAFdAV4B",
          "dtype": "i2"
         },
         "xaxis": "x",
         "y": {
          "bdata": "j8L1KFyP9j/NzMzMzMz0P3sUrkfhevQ/9ihcj8L19D+amZmZmZn1Pz0K16NwPfY/7FG4HoXr9T9I4XoUrkf1P0jhehSuR/U/zczMzMzM9D9xPQrXo3DtPwAAAAAAAOA/SOF6FK5H6T89CtejcD3aPzMzMzMzM+M/AAAAAAAA0D9cj8L1KFz3P0jhehSuR/k/zczMzMzM+D/hehSuR+H2P83MzMzMzPQ/PQrXo3A99j+PwvUoXI/2P+F6FK5H4fY/pHA9Ctej9D8pXI/C9Sj4P7gehetRuPY/16NwPQrX8z+uR+F6FK7vP4XrUbgehes/",
          "dtype": "f8"
         },
         "yaxis": "y"
        }
       ],
       "layout": {
        "legend": {
         "title": {
          "text": "Month"
         },
         "tracegroupgap": 0
        },
        "template": {
         "data": {
          "bar": [
           {
            "error_x": {
             "color": "#2a3f5f"
            },
            "error_y": {
             "color": "#2a3f5f"
            },
            "marker": {
             "line": {
              "color": "#E5ECF6",
              "width": 0.5
             },
             "pattern": {
              "fillmode": "overlay",
              "size": 10,
              "solidity": 0.2
             }
            },
            "type": "bar"
           }
          ],
          "barpolar": [
           {
            "marker": {
             "line": {
              "color": "#E5ECF6",
              "width": 0.5
             },
             "pattern": {
              "fillmode": "overlay",
              "size": 10,
              "solidity": 0.2
             }
            },
            "type": "barpolar"
           }
          ],
          "carpet": [
           {
            "aaxis": {
             "endlinecolor": "#2a3f5f",
             "gridcolor": "white",
             "linecolor": "white",
             "minorgridcolor": "white",
             "startlinecolor": "#2a3f5f"
            },
            "baxis": {
             "endlinecolor": "#2a3f5f",
             "gridcolor": "white",
             "linecolor": "white",
             "minorgridcolor": "white",
             "startlinecolor": "#2a3f5f"
            },
            "type": "carpet"
           }
          ],
          "choropleth": [
           {
            "colorbar": {
             "outlinewidth": 0,
             "ticks": ""
            },
            "type": "choropleth"
           }
          ],
          "contour": [
           {
            "colorbar": {
             "outlinewidth": 0,
             "ticks": ""
            },
            "colorscale": [
             [
              0,
              "#0d0887"
             ],
             [
              0.1111111111111111,
              "#46039f"
             ],
             [
              0.2222222222222222,
              "#7201a8"
             ],
             [
              0.3333333333333333,
              "#9c179e"
             ],
             [
              0.4444444444444444,
              "#bd3786"
             ],
             [
              0.5555555555555556,
              "#d8576b"
             ],
             [
              0.6666666666666666,
              "#ed7953"
             ],
             [
              0.7777777777777778,
              "#fb9f3a"
             ],
             [
              0.8888888888888888,
              "#fdca26"
             ],
             [
              1,
              "#f0f921"
             ]
            ],
            "type": "contour"
           }
          ],
          "contourcarpet": [
           {
            "colorbar": {
             "outlinewidth": 0,
             "ticks": ""
            },
            "type": "contourcarpet"
           }
          ],
          "heatmap": [
           {
            "colorbar": {
             "outlinewidth": 0,
             "ticks": ""
            },
            "colorscale": [
             [
              0,
              "#0d0887"
             ],
             [
              0.1111111111111111,
              "#46039f"
             ],
             [
              0.2222222222222222,
              "#7201a8"
             ],
             [
              0.3333333333333333,
              "#9c179e"
             ],
             [
              0.4444444444444444,
              "#bd3786"
             ],
             [
              0.5555555555555556,
              "#d8576b"
             ],
             [
              0.6666666666666666,
              "#ed7953"
             ],
             [
              0.7777777777777778,
              "#fb9f3a"
             ],
             [
              0.8888888888888888,
              "#fdca26"
             ],
             [
              1,
              "#f0f921"
             ]
            ],
            "type": "heatmap"
           }
          ],
          "histogram": [
           {
            "marker": {
             "pattern": {
              "fillmode": "overlay",
              "size": 10,
              "solidity": 0.2
             }
            },
            "type": "histogram"
           }
          ],
          "histogram2d": [
           {
            "colorbar": {
             "outlinewidth": 0,
             "ticks": ""
            },
            "colorscale": [
             [
              0,
              "#0d0887"
             ],
             [
              0.1111111111111111,
              "#46039f"
             ],
             [
              0.2222222222222222,
              "#7201a8"
             ],
             [
              0.3333333333333333,
              "#9c179e"
             ],
             [
              0.4444444444444444,
              "#bd3786"
             ],
             [
              0.5555555555555556,
              "#d8576b"
             ],
             [
              0.6666666666666666,
              "#ed7953"
             ],
             [
              0.7777777777777778,
              "#fb9f3a"
             ],
             [
              0.8888888888888888,
              "#fdca26"
             ],
             [
              1,
              "#f0f921"
             ]
            ],
            "type": "histogram2d"
           }
          ],
          "histogram2dcontour": [
           {
            "colorbar": {
             "outlinewidth": 0,
             "ticks": ""
            },
            "colorscale": [
             [
              0,
              "#0d0887"
             ],
             [
              0.1111111111111111,
              "#46039f"
             ],
             [
              0.2222222222222222,
              "#7201a8"
             ],
             [
              0.3333333333333333,
              "#9c179e"
             ],
             [
              0.4444444444444444,
              "#bd3786"
             ],
             [
              0.5555555555555556,
              "#d8576b"
             ],
             [
              0.6666666666666666,
              "#ed7953"
             ],
             [
              0.7777777777777778,
              "#fb9f3a"
             ],
             [
              0.8888888888888888,
              "#fdca26"
             ],
             [
              1,
              "#f0f921"
             ]
            ],
            "type": "histogram2dcontour"
           }
          ],
          "mesh3d": [
           {
            "colorbar": {
             "outlinewidth": 0,
             "ticks": ""
            },
            "type": "mesh3d"
           }
          ],
          "parcoords": [
           {
            "line": {
             "colorbar": {
              "outlinewidth": 0,
              "ticks": ""
             }
            },
            "type": "parcoords"
           }
          ],
          "pie": [
           {
            "automargin": true,
            "type": "pie"
           }
          ],
          "scatter": [
           {
            "fillpattern": {
             "fillmode": "overlay",
             "size": 10,
             "solidity": 0.2
            },
            "type": "scatter"
           }
          ],
          "scatter3d": [
           {
            "line": {
             "colorbar": {
              "outlinewidth": 0,
              "ticks": ""
             }
            },
            "marker": {
             "colorbar": {
              "outlinewidth": 0,
              "ticks": ""
             }
            },
            "type": "scatter3d"
           }
          ],
          "scattercarpet": [
           {
            "marker": {
             "colorbar": {
              "outlinewidth": 0,
              "ticks": ""
             }
            },
            "type": "scattercarpet"
           }
          ],
          "scattergeo": [
           {
            "marker": {
             "colorbar": {
              "outlinewidth": 0,
              "ticks": ""
             }
            },
            "type": "scattergeo"
           }
          ],
          "scattergl": [
           {
            "marker": {
             "colorbar": {
              "outlinewidth": 0,
              "ticks": ""
             }
            },
            "type": "scattergl"
           }
          ],
          "scattermap": [
           {
            "marker": {
             "colorbar": {
              "outlinewidth": 0,
              "ticks": ""
             }
            },
            "type": "scattermap"
           }
          ],
          "scattermapbox": [
           {
            "marker": {
             "colorbar": {
              "outlinewidth": 0,
              "ticks": ""
             }
            },
            "type": "scattermapbox"
           }
          ],
          "scatterpolar": [
           {
            "marker": {
             "colorbar": {
              "outlinewidth": 0,
              "ticks": ""
             }
            },
            "type": "scatterpolar"
           }
          ],
          "scatterpolargl": [
           {
            "marker": {
             "colorbar": {
              "outlinewidth": 0,
              "ticks": ""
             }
            },
            "type": "scatterpolargl"
           }
          ],
          "scatterternary": [
           {
            "marker": {
             "colorbar": {
              "outlinewidth": 0,
              "ticks": ""
             }
            },
            "type": "scatterternary"
           }
          ],
          "surface": [
           {
            "colorbar": {
             "outlinewidth": 0,
             "ticks": ""
            },
            "colorscale": [
             [
              0,
              "#0d0887"
             ],
             [
              0.1111111111111111,
              "#46039f"
             ],
             [
              0.2222222222222222,
              "#7201a8"
             ],
             [
              0.3333333333333333,
              "#9c179e"
             ],
             [
              0.4444444444444444,
              "#bd3786"
             ],
             [
              0.5555555555555556,
              "#d8576b"
             ],
             [
              0.6666666666666666,
              "#ed7953"
             ],
             [
              0.7777777777777778,
              "#fb9f3a"
             ],
             [
              0.8888888888888888,
              "#fdca26"
             ],
             [
              1,
              "#f0f921"
             ]
            ],
            "type": "surface"
           }
          ],
          "table": [
           {
            "cells": {
             "fill": {
              "color": "#EBF0F8"
             },
             "line": {
              "color": "white"
             }
            },
            "header": {
             "fill": {
              "color": "#C8D4E3"
             },
             "line": {
              "color": "white"
             }
            },
            "type": "table"
           }
          ]
         },
         "layout": {
          "annotationdefaults": {
           "arrowcolor": "#2a3f5f",
           "arrowhead": 0,
           "arrowwidth": 1
          },
          "autotypenumbers": "strict",
          "coloraxis": {
           "colorbar": {
            "outlinewidth": 0,
            "ticks": ""
           }
          },
          "colorscale": {
           "diverging": [
            [
             0,
             "#8e0152"
            ],
            [
             0.1,
             "#c51b7d"
            ],
            [
             0.2,
             "#de77ae"
            ],
            [
             0.3,
             "#f1b6da"
            ],
            [
             0.4,
             "#fde0ef"
            ],
            [
             0.5,
             "#f7f7f7"
            ],
            [
             0.6,
             "#e6f5d0"
            ],
            [
             0.7,
             "#b8e186"
            ],
            [
             0.8,
             "#7fbc41"
            ],
            [
             0.9,
             "#4d9221"
            ],
            [
             1,
             "#276419"
            ]
           ],
           "sequential": [
            [
             0,
             "#0d0887"
            ],
            [
             0.1111111111111111,
             "#46039f"
            ],
            [
             0.2222222222222222,
             "#7201a8"
            ],
            [
             0.3333333333333333,
             "#9c179e"
            ],
            [
             0.4444444444444444,
             "#bd3786"
            ],
            [
             0.5555555555555556,
             "#d8576b"
            ],
            [
             0.6666666666666666,
             "#ed7953"
            ],
            [
             0.7777777777777778,
             "#fb9f3a"
            ],
            [
             0.8888888888888888,
             "#fdca26"
            ],
            [
             1,
             "#f0f921"
            ]
           ],
           "sequentialminus": [
            [
             0,
             "#0d0887"
            ],
            [
             0.1111111111111111,
             "#46039f"
            ],
            [
             0.2222222222222222,
             "#7201a8"
            ],
            [
             0.3333333333333333,
             "#9c179e"
            ],
            [
             0.4444444444444444,
             "#bd3786"
            ],
            [
             0.5555555555555556,
             "#d8576b"
            ],
            [
             0.6666666666666666,
             "#ed7953"
            ],
            [
             0.7777777777777778,
             "#fb9f3a"
            ],
            [
             0.8888888888888888,
             "#fdca26"
            ],
            [
             1,
             "#f0f921"
            ]
           ]
          },
          "colorway": [
           "#636efa",
           "#EF553B",
           "#00cc96",
           "#ab63fa",
           "#FFA15A",
           "#19d3f3",
           "#FF6692",
           "#B6E880",
           "#FF97FF",
           "#FECB52"
          ],
          "font": {
           "color": "#2a3f5f"
          },
          "geo": {
           "bgcolor": "white",
           "lakecolor": "white",
           "landcolor": "#E5ECF6",
           "showlakes": true,
           "showland": true,
           "subunitcolor": "white"
          },
          "hoverlabel": {
           "align": "left"
          },
          "hovermode": "closest",
          "mapbox": {
           "style": "light"
          },
          "paper_bgcolor": "white",
          "plot_bgcolor": "#E5ECF6",
          "polar": {
           "angularaxis": {
            "gridcolor": "white",
            "linecolor": "white",
            "ticks": ""
           },
           "bgcolor": "#E5ECF6",
           "radialaxis": {
            "gridcolor": "white",
            "linecolor": "white",
            "ticks": ""
           }
          },
          "scene": {
           "xaxis": {
            "backgroundcolor": "#E5ECF6",
            "gridcolor": "white",
            "gridwidth": 2,
            "linecolor": "white",
            "showbackground": true,
            "ticks": "",
            "zerolinecolor": "white"
           },
           "yaxis": {
            "backgroundcolor": "#E5ECF6",
            "gridcolor": "white",
            "gridwidth": 2,
            "linecolor": "white",
            "showbackground": true,
            "ticks": "",
            "zerolinecolor": "white"
           },
           "zaxis": {
            "backgroundcolor": "#E5ECF6",
            "gridcolor": "white",
            "gridwidth": 2,
            "linecolor": "white",
            "showbackground": true,
            "ticks": "",
            "zerolinecolor": "white"
           }
          },
          "shapedefaults": {
           "line": {
            "color": "#2a3f5f"
           }
          },
          "ternary": {
           "aaxis": {
            "gridcolor": "white",
            "linecolor": "white",
            "ticks": ""
           },
           "baxis": {
            "gridcolor": "white",
            "linecolor": "white",
            "ticks": ""
           },
           "bgcolor": "#E5ECF6",
           "caxis": {
            "gridcolor": "white",
            "linecolor": "white",
            "ticks": ""
           }
          },
          "title": {
           "x": 0.05
          },
          "xaxis": {
           "automargin": true,
           "gridcolor": "white",
           "linecolor": "white",
           "ticks": "",
           "title": {
            "standoff": 15
           },
           "zerolinecolor": "white",
           "zerolinewidth": 2
          },
          "yaxis": {
           "automargin": true,
           "gridcolor": "white",
           "linecolor": "white",
           "ticks": "",
           "title": {
            "standoff": 15
           },
           "zerolinecolor": "white",
           "zerolinewidth": 2
          }
         }
        },
        "title": {
         "text": "Actual Generation(Mu) over Months"
        },
        "xaxis": {
         "anchor": "y",
         "domain": [
          0,
          1
         ],
         "title": {
          "text": "index"
         }
        },
        "yaxis": {
         "anchor": "x",
         "domain": [
          0,
          1
         ],
         "title": {
          "text": "Actual Generation(Mu)"
         }
        }
       }
      }
     },
     "metadata": {},
     "output_type": "display_data"
    }
   ],
   "source": [
    "for feature in df.columns:\n",
    "    if feature not in ['Month', 'Day', 'Cloud Type', 'Station', 'Operational Capacity(MW)', \"Latitude\", \"Longitude\"]:\n",
    "        fig = px.line(df, y=feature, color='Month', title=f\"{feature} over Months\")\n",
    "        fig.show()"
   ]
  },
  {
   "cell_type": "code",
   "execution_count": 22,
   "id": "ad142b0c",
   "metadata": {},
   "outputs": [],
   "source": [
    "num_df = df.drop(columns=[\"Station\"])"
   ]
  },
  {
   "cell_type": "code",
   "execution_count": 24,
   "id": "f937fd5a",
   "metadata": {},
   "outputs": [
    {
     "data": {
      "application/vnd.plotly.v1+json": {
       "config": {
        "plotlyServerURL": "https://plot.ly"
       },
       "data": [
        {
         "coloraxis": "coloraxis",
         "hovertemplate": "x: %{x}<br>y: %{y}<br>color: %{z}<extra></extra>",
         "name": "0",
         "type": "heatmap",
         "x": [
          "Operational Capacity(MW)",
          "Latitude",
          "Longitude",
          "Month",
          "Day",
          "Temperature",
          "Cloud Type",
          "Relative Humidity",
          "Aerosol Optical Depth",
          "Clearsky DHI",
          "Clearsky DNI",
          "Clearsky GHI",
          "DHI",
          "DNI",
          "GHI",
          "Actual Generation(Mu)"
         ],
         "xaxis": "x",
         "y": [
          "Operational Capacity(MW)",
          "Latitude",
          "Longitude",
          "Month",
          "Day",
          "Temperature",
          "Cloud Type",
          "Relative Humidity",
          "Aerosol Optical Depth",
          "Clearsky DHI",
          "Clearsky DNI",
          "Clearsky GHI",
          "DHI",
          "DNI",
          "GHI",
          "Actual Generation(Mu)"
         ],
         "yaxis": "y",
         "z": {
          "bdata": "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",
          "dtype": "f8",
          "shape": "16, 16"
         }
        }
       ],
       "layout": {
        "coloraxis": {
         "colorscale": [
          [
           0,
           "#0d0887"
          ],
          [
           0.1111111111111111,
           "#46039f"
          ],
          [
           0.2222222222222222,
           "#7201a8"
          ],
          [
           0.3333333333333333,
           "#9c179e"
          ],
          [
           0.4444444444444444,
           "#bd3786"
          ],
          [
           0.5555555555555556,
           "#d8576b"
          ],
          [
           0.6666666666666666,
           "#ed7953"
          ],
          [
           0.7777777777777778,
           "#fb9f3a"
          ],
          [
           0.8888888888888888,
           "#fdca26"
          ],
          [
           1,
           "#f0f921"
          ]
         ]
        },
        "template": {
         "data": {
          "bar": [
           {
            "error_x": {
             "color": "#2a3f5f"
            },
            "error_y": {
             "color": "#2a3f5f"
            },
            "marker": {
             "line": {
              "color": "#E5ECF6",
              "width": 0.5
             },
             "pattern": {
              "fillmode": "overlay",
              "size": 10,
              "solidity": 0.2
             }
            },
            "type": "bar"
           }
          ],
          "barpolar": [
           {
            "marker": {
             "line": {
              "color": "#E5ECF6",
              "width": 0.5
             },
             "pattern": {
              "fillmode": "overlay",
              "size": 10,
              "solidity": 0.2
             }
            },
            "type": "barpolar"
           }
          ],
          "carpet": [
           {
            "aaxis": {
             "endlinecolor": "#2a3f5f",
             "gridcolor": "white",
             "linecolor": "white",
             "minorgridcolor": "white",
             "startlinecolor": "#2a3f5f"
            },
            "baxis": {
             "endlinecolor": "#2a3f5f",
             "gridcolor": "white",
             "linecolor": "white",
             "minorgridcolor": "white",
             "startlinecolor": "#2a3f5f"
            },
            "type": "carpet"
           }
          ],
          "choropleth": [
           {
            "colorbar": {
             "outlinewidth": 0,
             "ticks": ""
            },
            "type": "choropleth"
           }
          ],
          "contour": [
           {
            "colorbar": {
             "outlinewidth": 0,
             "ticks": ""
            },
            "colorscale": [
             [
              0,
              "#0d0887"
             ],
             [
              0.1111111111111111,
              "#46039f"
             ],
             [
              0.2222222222222222,
              "#7201a8"
             ],
             [
              0.3333333333333333,
              "#9c179e"
             ],
             [
              0.4444444444444444,
              "#bd3786"
             ],
             [
              0.5555555555555556,
              "#d8576b"
             ],
             [
              0.6666666666666666,
              "#ed7953"
             ],
             [
              0.7777777777777778,
              "#fb9f3a"
             ],
             [
              0.8888888888888888,
              "#fdca26"
             ],
             [
              1,
              "#f0f921"
             ]
            ],
            "type": "contour"
           }
          ],
          "contourcarpet": [
           {
            "colorbar": {
             "outlinewidth": 0,
             "ticks": ""
            },
            "type": "contourcarpet"
           }
          ],
          "heatmap": [
           {
            "colorbar": {
             "outlinewidth": 0,
             "ticks": ""
            },
            "colorscale": [
             [
              0,
              "#0d0887"
             ],
             [
              0.1111111111111111,
              "#46039f"
             ],
             [
              0.2222222222222222,
              "#7201a8"
             ],
             [
              0.3333333333333333,
              "#9c179e"
             ],
             [
              0.4444444444444444,
              "#bd3786"
             ],
             [
              0.5555555555555556,
              "#d8576b"
             ],
             [
              0.6666666666666666,
              "#ed7953"
             ],
             [
              0.7777777777777778,
              "#fb9f3a"
             ],
             [
              0.8888888888888888,
              "#fdca26"
             ],
             [
              1,
              "#f0f921"
             ]
            ],
            "type": "heatmap"
           }
          ],
          "histogram": [
           {
            "marker": {
             "pattern": {
              "fillmode": "overlay",
              "size": 10,
              "solidity": 0.2
             }
            },
            "type": "histogram"
           }
          ],
          "histogram2d": [
           {
            "colorbar": {
             "outlinewidth": 0,
             "ticks": ""
            },
            "colorscale": [
             [
              0,
              "#0d0887"
             ],
             [
              0.1111111111111111,
              "#46039f"
             ],
             [
              0.2222222222222222,
              "#7201a8"
             ],
             [
              0.3333333333333333,
              "#9c179e"
             ],
             [
              0.4444444444444444,
              "#bd3786"
             ],
             [
              0.5555555555555556,
              "#d8576b"
             ],
             [
              0.6666666666666666,
              "#ed7953"
             ],
             [
              0.7777777777777778,
              "#fb9f3a"
             ],
             [
              0.8888888888888888,
              "#fdca26"
             ],
             [
              1,
              "#f0f921"
             ]
            ],
            "type": "histogram2d"
           }
          ],
          "histogram2dcontour": [
           {
            "colorbar": {
             "outlinewidth": 0,
             "ticks": ""
            },
            "colorscale": [
             [
              0,
              "#0d0887"
             ],
             [
              0.1111111111111111,
              "#46039f"
             ],
             [
              0.2222222222222222,
              "#7201a8"
             ],
             [
              0.3333333333333333,
              "#9c179e"
             ],
             [
              0.4444444444444444,
              "#bd3786"
             ],
             [
              0.5555555555555556,
              "#d8576b"
             ],
             [
              0.6666666666666666,
              "#ed7953"
             ],
             [
              0.7777777777777778,
              "#fb9f3a"
             ],
             [
              0.8888888888888888,
              "#fdca26"
             ],
             [
              1,
              "#f0f921"
             ]
            ],
            "type": "histogram2dcontour"
           }
          ],
          "mesh3d": [
           {
            "colorbar": {
             "outlinewidth": 0,
             "ticks": ""
            },
            "type": "mesh3d"
           }
          ],
          "parcoords": [
           {
            "line": {
             "colorbar": {
              "outlinewidth": 0,
              "ticks": ""
             }
            },
            "type": "parcoords"
           }
          ],
          "pie": [
           {
            "automargin": true,
            "type": "pie"
           }
          ],
          "scatter": [
           {
            "fillpattern": {
             "fillmode": "overlay",
             "size": 10,
             "solidity": 0.2
            },
            "type": "scatter"
           }
          ],
          "scatter3d": [
           {
            "line": {
             "colorbar": {
              "outlinewidth": 0,
              "ticks": ""
             }
            },
            "marker": {
             "colorbar": {
              "outlinewidth": 0,
              "ticks": ""
             }
            },
            "type": "scatter3d"
           }
          ],
          "scattercarpet": [
           {
            "marker": {
             "colorbar": {
              "outlinewidth": 0,
              "ticks": ""
             }
            },
            "type": "scattercarpet"
           }
          ],
          "scattergeo": [
           {
            "marker": {
             "colorbar": {
              "outlinewidth": 0,
              "ticks": ""
             }
            },
            "type": "scattergeo"
           }
          ],
          "scattergl": [
           {
            "marker": {
             "colorbar": {
              "outlinewidth": 0,
              "ticks": ""
             }
            },
            "type": "scattergl"
           }
          ],
          "scattermap": [
           {
            "marker": {
             "colorbar": {
              "outlinewidth": 0,
              "ticks": ""
             }
            },
            "type": "scattermap"
           }
          ],
          "scattermapbox": [
           {
            "marker": {
             "colorbar": {
              "outlinewidth": 0,
              "ticks": ""
             }
            },
            "type": "scattermapbox"
           }
          ],
          "scatterpolar": [
           {
            "marker": {
             "colorbar": {
              "outlinewidth": 0,
              "ticks": ""
             }
            },
            "type": "scatterpolar"
           }
          ],
          "scatterpolargl": [
           {
            "marker": {
             "colorbar": {
              "outlinewidth": 0,
              "ticks": ""
             }
            },
            "type": "scatterpolargl"
           }
          ],
          "scatterternary": [
           {
            "marker": {
             "colorbar": {
              "outlinewidth": 0,
              "ticks": ""
             }
            },
            "type": "scatterternary"
           }
          ],
          "surface": [
           {
            "colorbar": {
             "outlinewidth": 0,
             "ticks": ""
            },
            "colorscale": [
             [
              0,
              "#0d0887"
             ],
             [
              0.1111111111111111,
              "#46039f"
             ],
             [
              0.2222222222222222,
              "#7201a8"
             ],
             [
              0.3333333333333333,
              "#9c179e"
             ],
             [
              0.4444444444444444,
              "#bd3786"
             ],
             [
              0.5555555555555556,
              "#d8576b"
             ],
             [
              0.6666666666666666,
              "#ed7953"
             ],
             [
              0.7777777777777778,
              "#fb9f3a"
             ],
             [
              0.8888888888888888,
              "#fdca26"
             ],
             [
              1,
              "#f0f921"
             ]
            ],
            "type": "surface"
           }
          ],
          "table": [
           {
            "cells": {
             "fill": {
              "color": "#EBF0F8"
             },
             "line": {
              "color": "white"
             }
            },
            "header": {
             "fill": {
              "color": "#C8D4E3"
             },
             "line": {
              "color": "white"
             }
            },
            "type": "table"
           }
          ]
         },
         "layout": {
          "annotationdefaults": {
           "arrowcolor": "#2a3f5f",
           "arrowhead": 0,
           "arrowwidth": 1
          },
          "autotypenumbers": "strict",
          "coloraxis": {
           "colorbar": {
            "outlinewidth": 0,
            "ticks": ""
           }
          },
          "colorscale": {
           "diverging": [
            [
             0,
             "#8e0152"
            ],
            [
             0.1,
             "#c51b7d"
            ],
            [
             0.2,
             "#de77ae"
            ],
            [
             0.3,
             "#f1b6da"
            ],
            [
             0.4,
             "#fde0ef"
            ],
            [
             0.5,
             "#f7f7f7"
            ],
            [
             0.6,
             "#e6f5d0"
            ],
            [
             0.7,
             "#b8e186"
            ],
            [
             0.8,
             "#7fbc41"
            ],
            [
             0.9,
             "#4d9221"
            ],
            [
             1,
             "#276419"
            ]
           ],
           "sequential": [
            [
             0,
             "#0d0887"
            ],
            [
             0.1111111111111111,
             "#46039f"
            ],
            [
             0.2222222222222222,
             "#7201a8"
            ],
            [
             0.3333333333333333,
             "#9c179e"
            ],
            [
             0.4444444444444444,
             "#bd3786"
            ],
            [
             0.5555555555555556,
             "#d8576b"
            ],
            [
             0.6666666666666666,
             "#ed7953"
            ],
            [
             0.7777777777777778,
             "#fb9f3a"
            ],
            [
             0.8888888888888888,
             "#fdca26"
            ],
            [
             1,
             "#f0f921"
            ]
           ],
           "sequentialminus": [
            [
             0,
             "#0d0887"
            ],
            [
             0.1111111111111111,
             "#46039f"
            ],
            [
             0.2222222222222222,
             "#7201a8"
            ],
            [
             0.3333333333333333,
             "#9c179e"
            ],
            [
             0.4444444444444444,
             "#bd3786"
            ],
            [
             0.5555555555555556,
             "#d8576b"
            ],
            [
             0.6666666666666666,
             "#ed7953"
            ],
            [
             0.7777777777777778,
             "#fb9f3a"
            ],
            [
             0.8888888888888888,
             "#fdca26"
            ],
            [
             1,
             "#f0f921"
            ]
           ]
          },
          "colorway": [
           "#636efa",
           "#EF553B",
           "#00cc96",
           "#ab63fa",
           "#FFA15A",
           "#19d3f3",
           "#FF6692",
           "#B6E880",
           "#FF97FF",
           "#FECB52"
          ],
          "font": {
           "color": "#2a3f5f"
          },
          "geo": {
           "bgcolor": "white",
           "lakecolor": "white",
           "landcolor": "#E5ECF6",
           "showlakes": true,
           "showland": true,
           "subunitcolor": "white"
          },
          "hoverlabel": {
           "align": "left"
          },
          "hovermode": "closest",
          "mapbox": {
           "style": "light"
          },
          "paper_bgcolor": "white",
          "plot_bgcolor": "#E5ECF6",
          "polar": {
           "angularaxis": {
            "gridcolor": "white",
            "linecolor": "white",
            "ticks": ""
           },
           "bgcolor": "#E5ECF6",
           "radialaxis": {
            "gridcolor": "white",
            "linecolor": "white",
            "ticks": ""
           }
          },
          "scene": {
           "xaxis": {
            "backgroundcolor": "#E5ECF6",
            "gridcolor": "white",
            "gridwidth": 2,
            "linecolor": "white",
            "showbackground": true,
            "ticks": "",
            "zerolinecolor": "white"
           },
           "yaxis": {
            "backgroundcolor": "#E5ECF6",
            "gridcolor": "white",
            "gridwidth": 2,
            "linecolor": "white",
            "showbackground": true,
            "ticks": "",
            "zerolinecolor": "white"
           },
           "zaxis": {
            "backgroundcolor": "#E5ECF6",
            "gridcolor": "white",
            "gridwidth": 2,
            "linecolor": "white",
            "showbackground": true,
            "ticks": "",
            "zerolinecolor": "white"
           }
          },
          "shapedefaults": {
           "line": {
            "color": "#2a3f5f"
           }
          },
          "ternary": {
           "aaxis": {
            "gridcolor": "white",
            "linecolor": "white",
            "ticks": ""
           },
           "baxis": {
            "gridcolor": "white",
            "linecolor": "white",
            "ticks": ""
           },
           "bgcolor": "#E5ECF6",
           "caxis": {
            "gridcolor": "white",
            "linecolor": "white",
            "ticks": ""
           }
          },
          "title": {
           "x": 0.05
          },
          "xaxis": {
           "automargin": true,
           "gridcolor": "white",
           "linecolor": "white",
           "ticks": "",
           "title": {
            "standoff": 15
           },
           "zerolinecolor": "white",
           "zerolinewidth": 2
          },
          "yaxis": {
           "automargin": true,
           "gridcolor": "white",
           "linecolor": "white",
           "ticks": "",
           "title": {
            "standoff": 15
           },
           "zerolinecolor": "white",
           "zerolinewidth": 2
          }
         }
        },
        "title": {
         "text": "Correlation Matrix"
        },
        "xaxis": {
         "anchor": "y",
         "constrain": "domain",
         "domain": [
          0,
          1
         ],
         "scaleanchor": "y"
        },
        "yaxis": {
         "anchor": "x",
         "autorange": "reversed",
         "constrain": "domain",
         "domain": [
          0,
          1
         ]
        }
       }
      }
     },
     "metadata": {},
     "output_type": "display_data"
    }
   ],
   "source": [
    "fig = px.imshow(num_df.corr(), title=\"Correlation Matrix\")\n",
    "fig.show()"
   ]
  },
  {
   "cell_type": "code",
   "execution_count": null,
   "id": "83b2c7b5",
   "metadata": {},
   "outputs": [],
   "source": []
  }
 ],
 "metadata": {
  "language_info": {
   "name": "python"
  }
 },
 "nbformat": 4,
 "nbformat_minor": 5
}
