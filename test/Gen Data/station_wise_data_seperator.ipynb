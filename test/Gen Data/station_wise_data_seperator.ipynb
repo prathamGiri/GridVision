{
 "cells": [
  {
   "cell_type": "code",
   "execution_count": 1,
   "id": "4d448599",
   "metadata": {},
   "outputs": [],
   "source": [
    "import numpy as np\n",
    "import matplotlib.pyplot as plt\n",
    "import pandas as pd \n",
    "import plotly.express as px\n",
    "import plotly.graph_objects as go"
   ]
  },
  {
   "cell_type": "code",
   "execution_count": 2,
   "id": "75a75c1c",
   "metadata": {},
   "outputs": [
    {
     "data": {
      "text/html": [
       "<div>\n",
       "<style scoped>\n",
       "    .dataframe tbody tr th:only-of-type {\n",
       "        vertical-align: middle;\n",
       "    }\n",
       "\n",
       "    .dataframe tbody tr th {\n",
       "        vertical-align: top;\n",
       "    }\n",
       "\n",
       "    .dataframe thead th {\n",
       "        text-align: right;\n",
       "    }\n",
       "</style>\n",
       "<table border=\"1\" class=\"dataframe\">\n",
       "  <thead>\n",
       "    <tr style=\"text-align: right;\">\n",
       "      <th></th>\n",
       "      <th>Station</th>\n",
       "      <th>State/Region</th>\n",
       "      <th>Sector</th>\n",
       "      <th>Owner</th>\n",
       "      <th>Type</th>\n",
       "      <th>Operational Capacity(MW)</th>\n",
       "      <th>Actual Generation(Mu)</th>\n",
       "      <th>Date</th>\n",
       "    </tr>\n",
       "  </thead>\n",
       "  <tbody>\n",
       "    <tr>\n",
       "      <th>0</th>\n",
       "      <td>DADRI SOLAR</td>\n",
       "      <td>Uttar Pradesh</td>\n",
       "      <td>Central</td>\n",
       "      <td>NTPC</td>\n",
       "      <td>Solar</td>\n",
       "      <td>5.0</td>\n",
       "      <td>0.02</td>\n",
       "      <td>4/10/2020</td>\n",
       "    </tr>\n",
       "    <tr>\n",
       "      <th>1</th>\n",
       "      <td>SINGRAULI SOLAR</td>\n",
       "      <td>Uttar Pradesh</td>\n",
       "      <td>Central</td>\n",
       "      <td>NTPC</td>\n",
       "      <td>Solar</td>\n",
       "      <td>15.0</td>\n",
       "      <td>0.07</td>\n",
       "      <td>4/10/2020</td>\n",
       "    </tr>\n",
       "    <tr>\n",
       "      <th>2</th>\n",
       "      <td>UNCHAHAR SOLAR</td>\n",
       "      <td>Uttar Pradesh</td>\n",
       "      <td>Central</td>\n",
       "      <td>NTPC</td>\n",
       "      <td>Solar</td>\n",
       "      <td>10.0</td>\n",
       "      <td>0.00</td>\n",
       "      <td>4/10/2020</td>\n",
       "    </tr>\n",
       "    <tr>\n",
       "      <th>3</th>\n",
       "      <td>MAHOBA SOLAR (UP) PRIVATE LTD</td>\n",
       "      <td>Rajasthan</td>\n",
       "      <td>Private</td>\n",
       "      <td>IPP</td>\n",
       "      <td>Solar</td>\n",
       "      <td>200.0</td>\n",
       "      <td>1.51</td>\n",
       "      <td>4/10/2020</td>\n",
       "    </tr>\n",
       "    <tr>\n",
       "      <th>4</th>\n",
       "      <td>ACME CHITTORGARH ENERGY PVT LTD.</td>\n",
       "      <td>Rajasthan</td>\n",
       "      <td>Private</td>\n",
       "      <td>IPP</td>\n",
       "      <td>Solar</td>\n",
       "      <td>250.0</td>\n",
       "      <td>1.51</td>\n",
       "      <td>4/10/2020</td>\n",
       "    </tr>\n",
       "  </tbody>\n",
       "</table>\n",
       "</div>"
      ],
      "text/plain": [
       "                            Station   State/Region   Sector Owner   Type  \\\n",
       "0                       DADRI SOLAR  Uttar Pradesh  Central  NTPC  Solar   \n",
       "1                   SINGRAULI SOLAR  Uttar Pradesh  Central  NTPC  Solar   \n",
       "2                    UNCHAHAR SOLAR  Uttar Pradesh  Central  NTPC  Solar   \n",
       "3     MAHOBA SOLAR (UP) PRIVATE LTD      Rajasthan  Private   IPP  Solar   \n",
       "4  ACME CHITTORGARH ENERGY PVT LTD.      Rajasthan  Private   IPP  Solar   \n",
       "\n",
       "   Operational Capacity(MW)  Actual Generation(Mu)       Date  \n",
       "0                       5.0                   0.02  4/10/2020  \n",
       "1                      15.0                   0.07  4/10/2020  \n",
       "2                      10.0                   0.00  4/10/2020  \n",
       "3                     200.0                   1.51  4/10/2020  \n",
       "4                     250.0                   1.51  4/10/2020  "
      ]
     },
     "execution_count": 2,
     "metadata": {},
     "output_type": "execute_result"
    }
   ],
   "source": [
    "df = pd.read_csv(\"csv_file/2020 complete gen data.csv\")\n",
    "df.head()"
   ]
  },
  {
   "cell_type": "code",
   "execution_count": 3,
   "id": "57384362",
   "metadata": {},
   "outputs": [
    {
     "data": {
      "text/html": [
       "<div>\n",
       "<style scoped>\n",
       "    .dataframe tbody tr th:only-of-type {\n",
       "        vertical-align: middle;\n",
       "    }\n",
       "\n",
       "    .dataframe tbody tr th {\n",
       "        vertical-align: top;\n",
       "    }\n",
       "\n",
       "    .dataframe thead th {\n",
       "        text-align: right;\n",
       "    }\n",
       "</style>\n",
       "<table border=\"1\" class=\"dataframe\">\n",
       "  <thead>\n",
       "    <tr style=\"text-align: right;\">\n",
       "      <th></th>\n",
       "      <th>Station</th>\n",
       "      <th>State/Region</th>\n",
       "      <th>Sector</th>\n",
       "      <th>Owner</th>\n",
       "      <th>Type</th>\n",
       "      <th>Operational Capacity(MW)</th>\n",
       "      <th>Actual Generation(Mu)</th>\n",
       "      <th>Date</th>\n",
       "    </tr>\n",
       "  </thead>\n",
       "  <tbody>\n",
       "    <tr>\n",
       "      <th>115</th>\n",
       "      <td>FORTUM SOLAR</td>\n",
       "      <td>Karnataka</td>\n",
       "      <td>Private</td>\n",
       "      <td>IPP</td>\n",
       "      <td>Solar</td>\n",
       "      <td>250.0</td>\n",
       "      <td>1.67</td>\n",
       "      <td>12/10/2020</td>\n",
       "    </tr>\n",
       "    <tr>\n",
       "      <th>526</th>\n",
       "      <td>FORTUM SOLAR</td>\n",
       "      <td>Karnataka</td>\n",
       "      <td>Private</td>\n",
       "      <td>IPP</td>\n",
       "      <td>Solar</td>\n",
       "      <td>250.0</td>\n",
       "      <td>1.68</td>\n",
       "      <td>12/11/2020</td>\n",
       "    </tr>\n",
       "    <tr>\n",
       "      <th>934</th>\n",
       "      <td>FORTUM SOLAR</td>\n",
       "      <td>Karnataka</td>\n",
       "      <td>Private</td>\n",
       "      <td>IPP</td>\n",
       "      <td>Solar</td>\n",
       "      <td>250.0</td>\n",
       "      <td>1.67</td>\n",
       "      <td>12/12/2020</td>\n",
       "    </tr>\n",
       "    <tr>\n",
       "      <th>1352</th>\n",
       "      <td>FORTUM SOLAR</td>\n",
       "      <td>Karnataka</td>\n",
       "      <td>Private</td>\n",
       "      <td>IPP</td>\n",
       "      <td>Solar</td>\n",
       "      <td>250.0</td>\n",
       "      <td>1.19</td>\n",
       "      <td>12/13/2020</td>\n",
       "    </tr>\n",
       "    <tr>\n",
       "      <th>1581</th>\n",
       "      <td>FORTUM SOLAR</td>\n",
       "      <td>Karnataka</td>\n",
       "      <td>Private</td>\n",
       "      <td>IPP</td>\n",
       "      <td>Solar</td>\n",
       "      <td>250.0</td>\n",
       "      <td>0.96</td>\n",
       "      <td>11/13/2020</td>\n",
       "    </tr>\n",
       "  </tbody>\n",
       "</table>\n",
       "</div>"
      ],
      "text/plain": [
       "           Station State/Region   Sector Owner   Type  \\\n",
       "115   FORTUM SOLAR    Karnataka  Private   IPP  Solar   \n",
       "526   FORTUM SOLAR    Karnataka  Private   IPP  Solar   \n",
       "934   FORTUM SOLAR    Karnataka  Private   IPP  Solar   \n",
       "1352  FORTUM SOLAR    Karnataka  Private   IPP  Solar   \n",
       "1581  FORTUM SOLAR    Karnataka  Private   IPP  Solar   \n",
       "\n",
       "      Operational Capacity(MW)  Actual Generation(Mu)        Date  \n",
       "115                      250.0                   1.67  12/10/2020  \n",
       "526                      250.0                   1.68  12/11/2020  \n",
       "934                      250.0                   1.67  12/12/2020  \n",
       "1352                     250.0                   1.19  12/13/2020  \n",
       "1581                     250.0                   0.96  11/13/2020  "
      ]
     },
     "execution_count": 3,
     "metadata": {},
     "output_type": "execute_result"
    }
   ],
   "source": [
    "station_df = df[df[\"Station\"] == \"FORTUM SOLAR\"]\n",
    "station_df.head()"
   ]
  },
  {
   "cell_type": "code",
   "execution_count": 5,
   "id": "bb78c2af",
   "metadata": {},
   "outputs": [
    {
     "data": {
      "text/plain": [
       "Station                     46\n",
       "State/Region                46\n",
       "Sector                      46\n",
       "Owner                       46\n",
       "Type                        46\n",
       "Operational Capacity(MW)    46\n",
       "Actual Generation(Mu)       46\n",
       "Date                        46\n",
       "dtype: int64"
      ]
     },
     "execution_count": 5,
     "metadata": {},
     "output_type": "execute_result"
    }
   ],
   "source": [
    "station_df.count()"
   ]
  },
  {
   "cell_type": "code",
   "execution_count": 6,
   "id": "6e6cc36c",
   "metadata": {},
   "outputs": [
    {
     "name": "stderr",
     "output_type": "stream",
     "text": [
      "C:\\Users\\pratham\\AppData\\Local\\Temp\\ipykernel_17324\\2878917291.py:1: SettingWithCopyWarning: \n",
      "A value is trying to be set on a copy of a slice from a DataFrame.\n",
      "Try using .loc[row_indexer,col_indexer] = value instead\n",
      "\n",
      "See the caveats in the documentation: https://pandas.pydata.org/pandas-docs/stable/user_guide/indexing.html#returning-a-view-versus-a-copy\n",
      "  station_df[\"Month\"] = station_df[\"Date\"].apply(lambda x: x.split(\"/\")[0])\n",
      "C:\\Users\\pratham\\AppData\\Local\\Temp\\ipykernel_17324\\2878917291.py:2: SettingWithCopyWarning: \n",
      "A value is trying to be set on a copy of a slice from a DataFrame.\n",
      "Try using .loc[row_indexer,col_indexer] = value instead\n",
      "\n",
      "See the caveats in the documentation: https://pandas.pydata.org/pandas-docs/stable/user_guide/indexing.html#returning-a-view-versus-a-copy\n",
      "  station_df[\"Day\"] = station_df[\"Date\"].apply(lambda x: x.split(\"/\")[1])\n"
     ]
    }
   ],
   "source": [
    "station_df[\"Month\"] = station_df[\"Date\"].apply(lambda x: x.split(\"/\")[0])\n",
    "station_df[\"Day\"] = station_df[\"Date\"].apply(lambda x: x.split(\"/\")[1])"
   ]
  },
  {
   "cell_type": "code",
   "execution_count": 7,
   "id": "b53cb4b4",
   "metadata": {},
   "outputs": [
    {
     "name": "stderr",
     "output_type": "stream",
     "text": [
      "C:\\Users\\pratham\\AppData\\Local\\Temp\\ipykernel_17324\\1851804699.py:1: SettingWithCopyWarning: \n",
      "A value is trying to be set on a copy of a slice from a DataFrame\n",
      "\n",
      "See the caveats in the documentation: https://pandas.pydata.org/pandas-docs/stable/user_guide/indexing.html#returning-a-view-versus-a-copy\n",
      "  station_df.drop(columns=[\"State/Region\",\"Sector\",\"Owner\",\"Type\", \"Date\"], inplace=True)\n"
     ]
    }
   ],
   "source": [
    "station_df.drop(columns=[\"State/Region\",\"Sector\",\"Owner\",\"Type\", \"Date\"], inplace=True)"
   ]
  },
  {
   "cell_type": "code",
   "execution_count": 8,
   "id": "a958e6b0",
   "metadata": {},
   "outputs": [
    {
     "data": {
      "text/html": [
       "<div>\n",
       "<style scoped>\n",
       "    .dataframe tbody tr th:only-of-type {\n",
       "        vertical-align: middle;\n",
       "    }\n",
       "\n",
       "    .dataframe tbody tr th {\n",
       "        vertical-align: top;\n",
       "    }\n",
       "\n",
       "    .dataframe thead th {\n",
       "        text-align: right;\n",
       "    }\n",
       "</style>\n",
       "<table border=\"1\" class=\"dataframe\">\n",
       "  <thead>\n",
       "    <tr style=\"text-align: right;\">\n",
       "      <th></th>\n",
       "      <th>Station</th>\n",
       "      <th>Operational Capacity(MW)</th>\n",
       "      <th>Actual Generation(Mu)</th>\n",
       "      <th>Month</th>\n",
       "      <th>Day</th>\n",
       "    </tr>\n",
       "  </thead>\n",
       "  <tbody>\n",
       "    <tr>\n",
       "      <th>115</th>\n",
       "      <td>FORTUM SOLAR</td>\n",
       "      <td>250.0</td>\n",
       "      <td>1.67</td>\n",
       "      <td>12</td>\n",
       "      <td>10</td>\n",
       "    </tr>\n",
       "    <tr>\n",
       "      <th>526</th>\n",
       "      <td>FORTUM SOLAR</td>\n",
       "      <td>250.0</td>\n",
       "      <td>1.68</td>\n",
       "      <td>12</td>\n",
       "      <td>11</td>\n",
       "    </tr>\n",
       "    <tr>\n",
       "      <th>934</th>\n",
       "      <td>FORTUM SOLAR</td>\n",
       "      <td>250.0</td>\n",
       "      <td>1.67</td>\n",
       "      <td>12</td>\n",
       "      <td>12</td>\n",
       "    </tr>\n",
       "    <tr>\n",
       "      <th>1352</th>\n",
       "      <td>FORTUM SOLAR</td>\n",
       "      <td>250.0</td>\n",
       "      <td>1.19</td>\n",
       "      <td>12</td>\n",
       "      <td>13</td>\n",
       "    </tr>\n",
       "    <tr>\n",
       "      <th>1581</th>\n",
       "      <td>FORTUM SOLAR</td>\n",
       "      <td>250.0</td>\n",
       "      <td>0.96</td>\n",
       "      <td>11</td>\n",
       "      <td>13</td>\n",
       "    </tr>\n",
       "  </tbody>\n",
       "</table>\n",
       "</div>"
      ],
      "text/plain": [
       "           Station  Operational Capacity(MW)  Actual Generation(Mu) Month Day\n",
       "115   FORTUM SOLAR                     250.0                   1.67    12  10\n",
       "526   FORTUM SOLAR                     250.0                   1.68    12  11\n",
       "934   FORTUM SOLAR                     250.0                   1.67    12  12\n",
       "1352  FORTUM SOLAR                     250.0                   1.19    12  13\n",
       "1581  FORTUM SOLAR                     250.0                   0.96    11  13"
      ]
     },
     "execution_count": 8,
     "metadata": {},
     "output_type": "execute_result"
    }
   ],
   "source": [
    "station_df.head()"
   ]
  },
  {
   "cell_type": "code",
   "execution_count": 9,
   "id": "317f3339",
   "metadata": {},
   "outputs": [
    {
     "name": "stderr",
     "output_type": "stream",
     "text": [
      "C:\\Users\\pratham\\AppData\\Local\\Temp\\ipykernel_17324\\3011713273.py:1: SettingWithCopyWarning: \n",
      "A value is trying to be set on a copy of a slice from a DataFrame.\n",
      "Try using .loc[row_indexer,col_indexer] = value instead\n",
      "\n",
      "See the caveats in the documentation: https://pandas.pydata.org/pandas-docs/stable/user_guide/indexing.html#returning-a-view-versus-a-copy\n",
      "  station_df[\"Latitude\"] = 14.23\n",
      "C:\\Users\\pratham\\AppData\\Local\\Temp\\ipykernel_17324\\3011713273.py:2: SettingWithCopyWarning: \n",
      "A value is trying to be set on a copy of a slice from a DataFrame.\n",
      "Try using .loc[row_indexer,col_indexer] = value instead\n",
      "\n",
      "See the caveats in the documentation: https://pandas.pydata.org/pandas-docs/stable/user_guide/indexing.html#returning-a-view-versus-a-copy\n",
      "  station_df[\"Longitude\"] = 77.46\n"
     ]
    }
   ],
   "source": [
    "station_df[\"Latitude\"] = 14.23\n",
    "station_df[\"Longitude\"] = 77.46"
   ]
  },
  {
   "cell_type": "code",
   "execution_count": 10,
   "id": "0d502a78",
   "metadata": {},
   "outputs": [],
   "source": [
    "station_df.to_csv(\"FORTUM SOLAR 250MW Gen Data.csv\", index=False)"
   ]
  },
  {
   "cell_type": "code",
   "execution_count": null,
   "id": "44cf7e22",
   "metadata": {},
   "outputs": [],
   "source": []
  }
 ],
 "metadata": {
  "kernelspec": {
   "display_name": "Python 3",
   "language": "python",
   "name": "python3"
  },
  "language_info": {
   "codemirror_mode": {
    "name": "ipython",
    "version": 3
   },
   "file_extension": ".py",
   "mimetype": "text/x-python",
   "name": "python",
   "nbconvert_exporter": "python",
   "pygments_lexer": "ipython3",
   "version": "3.12.5"
  }
 },
 "nbformat": 4,
 "nbformat_minor": 5
}
